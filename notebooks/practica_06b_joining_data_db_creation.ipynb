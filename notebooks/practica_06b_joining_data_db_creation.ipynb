{
    "metadata": {
        "kernelspec": {
            "name": "SQL",
            "display_name": "SQL",
            "language": "sql"
        },
        "language_info": {
            "name": "sql",
            "version": ""
        }
    },
    "nbformat_minor": 2,
    "nbformat": 4,
    "cells": [
        {
            "cell_type": "markdown",
            "source": [
                "# Script de creación de la Base de Datos, las Tablas y sus Inserciones.\n",
                "\n",
                "Práctica 06 B - JOINING DATA"
            ],
            "metadata": {
                "azdata_cell_guid": "bd4a496c-18b1-4fa5-b303-62d5c8389261"
            },
            "attachments": {}
        },
        {
            "cell_type": "code",
            "source": [
                "DROP DATABASE joiningdata6b;\r\n",
                "-- Crear la base de datos\r\n",
                "CREATE DATABASE IF NOT EXISTS joiningdata6b;\r\n",
                "\r\n",
                "-- Usar la base de datos creada\r\n",
                "USE joiningdata6b;\r\n",
                "\r\n",
                "-- Crear la tabla tabla_artista\r\n",
                "CREATE TABLE IF NOT EXISTS tabla_artista (\r\n",
                "    id_artista INT PRIMARY KEY,\r\n",
                "    nombre VARCHAR(255)\r\n",
                ");\r\n",
                "\r\n",
                "-- Insertar datos en la tabla tabla_artista\r\n",
                "INSERT INTO tabla_artista (id_artista, nombre) VALUES\r\n",
                "(1, 'AC/DC'),\r\n",
                "(2, 'Aerosmith'),\r\n",
                "(3, 'Alanis Morissette');\r\n",
                "\r\n",
                "-- Crear la tabla tabla_album\r\n",
                "CREATE TABLE IF NOT EXISTS tabla_album (\r\n",
                "    id_album INT PRIMARY KEY,\r\n",
                "    titulo VARCHAR(255),\r\n",
                "    id_artista INT\r\n",
                ");\r\n",
                "\r\n",
                "-- Insertar datos en la tabla tabla_album\r\n",
                "INSERT INTO tabla_album (id_album, titulo, id_artista) VALUES\r\n",
                "(1, 'For those who rock', 1),\r\n",
                "(2, 'Dream on', 2),\r\n",
                "(3, 'Restless and wild', 2),\r\n",
                "(4, 'Let there be rock', 1),\r\n",
                "(5, 'Rumours', 6);\r\n",
                ""
            ],
            "metadata": {
                "azdata_cell_guid": "5a5f5cf2-8bfc-4627-b57e-6cd9d187527e",
                "language": "sql"
            },
            "outputs": [
                {
                    "output_type": "display_data",
                    "data": {
                        "text/html": "Commands completed successfully"
                    },
                    "metadata": {}
                },
                {
                    "output_type": "display_data",
                    "data": {
                        "text/html": "Commands completed successfully"
                    },
                    "metadata": {}
                },
                {
                    "output_type": "display_data",
                    "data": {
                        "text/html": "Commands completed successfully"
                    },
                    "metadata": {}
                },
                {
                    "output_type": "display_data",
                    "data": {
                        "text/html": "Commands completed successfully"
                    },
                    "metadata": {}
                },
                {
                    "output_type": "display_data",
                    "data": {
                        "text/html": "Commands completed successfully"
                    },
                    "metadata": {}
                },
                {
                    "output_type": "display_data",
                    "data": {
                        "text/html": "Commands completed successfully"
                    },
                    "metadata": {}
                },
                {
                    "output_type": "display_data",
                    "data": {
                        "text/html": "Commands completed successfully"
                    },
                    "metadata": {}
                },
                {
                    "output_type": "display_data",
                    "data": {
                        "text/html": "Total execution time: 00:00:00.105"
                    },
                    "metadata": {}
                }
            ],
            "execution_count": 4
        }
    ]
}