{
    "metadata": {
        "kernelspec": {
            "name": "SQL",
            "display_name": "SQL",
            "language": "sql"
        },
        "language_info": {
            "name": "sql",
            "version": ""
        }
    },
    "nbformat_minor": 2,
    "nbformat": 4,
    "cells": [
        {
            "cell_type": "markdown",
            "source": [
                "# Práctica 9 -  Agregaciones"
            ],
            "metadata": {
                "azdata_cell_guid": "b2133633-b3b0-44d2-9730-c7f4cb4c9414"
            },
            "attachments": {}
        },
        {
            "cell_type": "markdown",
            "source": [
                "## Se tiene que entregar un informe por cliente donde entregues la siguiente información:"
            ],
            "metadata": {
                "azdata_cell_guid": "72ef3449-99b2-4e95-9d78-251053853a29"
            },
            "attachments": {}
        },
        {
            "cell_type": "markdown",
            "source": [
                "### **1. ¿Cuál cliente realizó la compra máxima en el año 2018?**"
            ],
            "metadata": {
                "azdata_cell_guid": "0a08074e-e0a9-47b7-ac1a-c41f335ac83e"
            },
            "attachments": {}
        },
        {
            "cell_type": "code",
            "source": [
                "USE base;\r\n",
                "\r\n",
                "SELECT ID_Cliente, MAX(Venta)\r\n",
                "FROM ventas\r\n",
                "WHERE YEAR(STR_TO_DATE(`Fecha venta`, '%d-%b-%y')) = 2018\r\n",
                "GROUP BY ID_Cliente\r\n",
                "ORDER BY MAX(Venta) DESC\r\n",
                "LIMIT 1;"
            ],
            "metadata": {
                "azdata_cell_guid": "a6a0b6ff-2e98-4178-bc92-7eda97af6268",
                "language": "sql",
                "tags": []
            },
            "outputs": [
                {
                    "output_type": "display_data",
                    "data": {
                        "text/html": "Commands completed successfully"
                    },
                    "metadata": {}
                },
                {
                    "output_type": "display_data",
                    "data": {
                        "text/html": "(1 row(s) affected)"
                    },
                    "metadata": {}
                },
                {
                    "output_type": "display_data",
                    "data": {
                        "text/html": "Total execution time: 00:00:01.053"
                    },
                    "metadata": {}
                },
                {
                    "output_type": "execute_result",
                    "execution_count": 4,
                    "data": {
                        "application/vnd.dataresource+json": {
                            "schema": {
                                "fields": [
                                    {
                                        "name": "ID_Cliente"
                                    },
                                    {
                                        "name": "MAX(Venta)"
                                    }
                                ]
                            },
                            "data": [
                                {
                                    "ID_Cliente": "8",
                                    "MAX(Venta)": "2977318"
                                }
                            ]
                        },
                        "text/html": "<table><tr><th>ID_Cliente</th><th>MAX(Venta)</th></tr><tr><td>8</td><td>2977318</td></tr></table>"
                    },
                    "metadata": {}
                }
            ],
            "execution_count": 4
        },
        {
            "cell_type": "markdown",
            "source": [
                "### **2. ¿Cuál fue el pago menor que recibimos en el año 2018?**"
            ],
            "metadata": {
                "azdata_cell_guid": "6444333b-a105-4f0c-b316-30d1caf60a8e"
            },
            "attachments": {}
        },
        {
            "cell_type": "code",
            "source": [
                "SELECT ID_Cliente, MIN(Venta) Venta_menor_2018\r\n",
                "FROM ventas\r\n",
                "WHERE YEAR(STR_TO_DATE(`Fecha venta`, '%d-%b-%y')) = 2018\r\n",
                "GROUP BY ID_Cliente\r\n",
                "ORDER BY MIN(Venta) DESC\r\n",
                "LIMIT 1;"
            ],
            "metadata": {
                "azdata_cell_guid": "758fedac-227a-4881-8538-74e996f9286c",
                "language": "sql"
            },
            "outputs": [
                {
                    "output_type": "display_data",
                    "data": {
                        "text/html": "(1 row(s) affected)"
                    },
                    "metadata": {}
                },
                {
                    "output_type": "display_data",
                    "data": {
                        "text/html": "Total execution time: 00:00:01.013"
                    },
                    "metadata": {}
                },
                {
                    "output_type": "execute_result",
                    "execution_count": 7,
                    "data": {
                        "application/vnd.dataresource+json": {
                            "schema": {
                                "fields": [
                                    {
                                        "name": "ID_Cliente"
                                    },
                                    {
                                        "name": "Venta_menor_2018"
                                    }
                                ]
                            },
                            "data": [
                                {
                                    "ID_Cliente": "7",
                                    "Venta_menor_2018": "320281"
                                }
                            ]
                        },
                        "text/html": "<table><tr><th>ID_Cliente</th><th>Venta_menor_2018</th></tr><tr><td>7</td><td>320281</td></tr></table>"
                    },
                    "metadata": {}
                }
            ],
            "execution_count": 7
        },
        {
            "cell_type": "markdown",
            "source": [
                "### **3. ¿Cuántas ventas se lograron en el 2do semestre del año 2018?**"
            ],
            "metadata": {
                "azdata_cell_guid": "0a95ce09-6c3b-4601-9aea-47b801c69e3b"
            },
            "attachments": {}
        },
        {
            "cell_type": "code",
            "source": [
                "SELECT COUNT(*) AS Numero_ventas_2ºSemestre_2018\r\n",
                "FROM ventas\r\n",
                "WHERE YEAR(STR_TO_DATE(`Fecha venta`, '%d-%b-%y')) = 2018\r\n",
                "  AND MONTH(STR_TO_DATE(`Fecha venta`, '%d-%b-%y')) BETWEEN 7 AND 12;\r\n",
                ""
            ],
            "metadata": {
                "azdata_cell_guid": "564bf35c-e92a-431f-a164-c4064b355220",
                "language": "sql"
            },
            "outputs": [
                {
                    "output_type": "display_data",
                    "data": {
                        "text/html": "(1 row(s) affected)"
                    },
                    "metadata": {}
                },
                {
                    "output_type": "display_data",
                    "data": {
                        "text/html": "Total execution time: 00:00:01.018"
                    },
                    "metadata": {}
                },
                {
                    "output_type": "execute_result",
                    "execution_count": 11,
                    "data": {
                        "application/vnd.dataresource+json": {
                            "schema": {
                                "fields": [
                                    {
                                        "name": "Numero_ventas_2ºSemestre_2018"
                                    }
                                ]
                            },
                            "data": [
                                {
                                    "Numero_ventas_2ºSemestre_2018": "468"
                                }
                            ]
                        },
                        "text/html": "<table><tr><th>Numero_ventas_2ºSemestre_2018</th></tr><tr><td>468</td></tr></table>"
                    },
                    "metadata": {}
                }
            ],
            "execution_count": 11
        },
        {
            "cell_type": "markdown",
            "source": [
                "# **Resumir on GROUP BY**"
            ],
            "metadata": {
                "azdata_cell_guid": "645a78f9-efb4-4de9-860d-382258cc4d1d"
            },
            "attachments": {}
        },
        {
            "cell_type": "markdown",
            "source": [
                "## <span style=\"color: var(--vscode-foreground);\">Genera una vista para entregar el informe que contenga:</span>"
            ],
            "metadata": {
                "azdata_cell_guid": "558226f2-4c27-437d-8afc-39754f4ce31f"
            },
            "attachments": {}
        },
        {
            "cell_type": "markdown",
            "source": [
                "### **4. Las ventas por vendendor**"
            ],
            "metadata": {
                "azdata_cell_guid": "793b42a7-7afe-4791-a958-a48f6a41886c"
            },
            "attachments": {}
        },
        {
            "cell_type": "code",
            "source": [
                "SELECT vd.Apellido, SUM(vt.Venta) AS Total_ventas\r\n",
                "FROM ventas AS vt \r\n",
                "JOIN vendedor AS vd\r\n",
                "ON vt.ID_Vendedor = vd.ID_Vendedor \r\n",
                "GROUP BY vd.Apellido;"
            ],
            "metadata": {
                "azdata_cell_guid": "f1c45a33-8039-4b8d-89c9-c5bc4af715cd",
                "language": "sql"
            },
            "outputs": [
                {
                    "output_type": "display_data",
                    "data": {
                        "text/html": "(42 row(s) affected)"
                    },
                    "metadata": {}
                },
                {
                    "output_type": "display_data",
                    "data": {
                        "text/html": "Total execution time: 00:00:01.040"
                    },
                    "metadata": {}
                },
                {
                    "output_type": "execute_result",
                    "execution_count": 13,
                    "data": {
                        "application/vnd.dataresource+json": {
                            "schema": {
                                "fields": [
                                    {
                                        "name": "Apellido"
                                    },
                                    {
                                        "name": "Total_ventas"
                                    }
                                ]
                            },
                            "data": [
                                {
                                    "Apellido": "RAMIREZ",
                                    "Total_ventas": "87253941"
                                },
                                {
                                    "Apellido": "CUEVAS",
                                    "Total_ventas": "92304582"
                                },
                                {
                                    "Apellido": "RODRIGUEZ",
                                    "Total_ventas": "97718312"
                                },
                                {
                                    "Apellido": "SANCHEZ",
                                    "Total_ventas": "184312234"
                                },
                                {
                                    "Apellido": "BENITO",
                                    "Total_ventas": "108125861"
                                },
                                {
                                    "Apellido": "LOPEZ",
                                    "Total_ventas": "70605142"
                                },
                                {
                                    "Apellido": "GUTIERREZ",
                                    "Total_ventas": "150048042"
                                },
                                {
                                    "Apellido": "MORENO",
                                    "Total_ventas": "76810389"
                                },
                                {
                                    "Apellido": "PEREZ",
                                    "Total_ventas": "78039593"
                                },
                                {
                                    "Apellido": "OCHOA",
                                    "Total_ventas": "85439744"
                                },
                                {
                                    "Apellido": "EZQUERRO",
                                    "Total_ventas": "81159015"
                                },
                                {
                                    "Apellido": "RUIZ",
                                    "Total_ventas": "107346476"
                                },
                                {
                                    "Apellido": "GONZALEZ",
                                    "Total_ventas": "65294584"
                                },
                                {
                                    "Apellido": "SAENZ",
                                    "Total_ventas": "66896671"
                                },
                                {
                                    "Apellido": "FERRERO",
                                    "Total_ventas": "97930137"
                                },
                                {
                                    "Apellido": "MUNOZ",
                                    "Total_ventas": "85708566"
                                },
                                {
                                    "Apellido": "GOMEZ",
                                    "Total_ventas": "88389747"
                                },
                                {
                                    "Apellido": "PALACIOS",
                                    "Total_ventas": "99072132"
                                },
                                {
                                    "Apellido": "JIMENEZ",
                                    "Total_ventas": "69740587"
                                },
                                {
                                    "Apellido": "CARRASCO",
                                    "Total_ventas": "74757044"
                                },
                                {
                                    "Apellido": "ORTEGA",
                                    "Total_ventas": "161068320"
                                },
                                {
                                    "Apellido": "FERNANDEZ",
                                    "Total_ventas": "86118744"
                                },
                                {
                                    "Apellido": "CALVO",
                                    "Total_ventas": "94260376"
                                },
                                {
                                    "Apellido": "HERCE",
                                    "Total_ventas": "84003234"
                                },
                                {
                                    "Apellido": "RUBIO",
                                    "Total_ventas": "69379999"
                                },
                                {
                                    "Apellido": "MADERO",
                                    "Total_ventas": "69182973"
                                },
                                {
                                    "Apellido": "HERNANDEZ",
                                    "Total_ventas": "94582814"
                                },
                                {
                                    "Apellido": "DIAZ",
                                    "Total_ventas": "175866698"
                                },
                                {
                                    "Apellido": "ALONSO",
                                    "Total_ventas": "70997832"
                                },
                                {
                                    "Apellido": "GARRIDO",
                                    "Total_ventas": "68101597"
                                },
                                {
                                    "Apellido": "MARIN",
                                    "Total_ventas": "88585429"
                                },
                                {
                                    "Apellido": "IBANEZ",
                                    "Total_ventas": "78816720"
                                },
                                {
                                    "Apellido": "GARCIA",
                                    "Total_ventas": "65399987"
                                },
                                {
                                    "Apellido": "MARTINEZ",
                                    "Total_ventas": "160812439"
                                },
                                {
                                    "Apellido": "ADELA",
                                    "Total_ventas": "89724463"
                                },
                                {
                                    "Apellido": "SANTAMARIA",
                                    "Total_ventas": "91249412"
                                },
                                {
                                    "Apellido": "LEON",
                                    "Total_ventas": "151267113"
                                },
                                {
                                    "Apellido": "GIL",
                                    "Total_ventas": "75193081"
                                },
                                {
                                    "Apellido": "PASCUAL",
                                    "Total_ventas": "72033306"
                                },
                                {
                                    "Apellido": "BLANCO",
                                    "Total_ventas": "80624293"
                                },
                                {
                                    "Apellido": "ALVAREZ",
                                    "Total_ventas": "75078979"
                                },
                                {
                                    "Apellido": "GABARRI",
                                    "Total_ventas": "69999373"
                                }
                            ]
                        },
                        "text/html": "<table><tr><th>Apellido</th><th>Total_ventas</th></tr><tr><td>RAMIREZ</td><td>87253941</td></tr><tr><td>CUEVAS</td><td>92304582</td></tr><tr><td>RODRIGUEZ</td><td>97718312</td></tr><tr><td>SANCHEZ</td><td>184312234</td></tr><tr><td>BENITO</td><td>108125861</td></tr><tr><td>LOPEZ</td><td>70605142</td></tr><tr><td>GUTIERREZ</td><td>150048042</td></tr><tr><td>MORENO</td><td>76810389</td></tr><tr><td>PEREZ</td><td>78039593</td></tr><tr><td>OCHOA</td><td>85439744</td></tr><tr><td>EZQUERRO</td><td>81159015</td></tr><tr><td>RUIZ</td><td>107346476</td></tr><tr><td>GONZALEZ</td><td>65294584</td></tr><tr><td>SAENZ</td><td>66896671</td></tr><tr><td>FERRERO</td><td>97930137</td></tr><tr><td>MUNOZ</td><td>85708566</td></tr><tr><td>GOMEZ</td><td>88389747</td></tr><tr><td>PALACIOS</td><td>99072132</td></tr><tr><td>JIMENEZ</td><td>69740587</td></tr><tr><td>CARRASCO</td><td>74757044</td></tr><tr><td>ORTEGA</td><td>161068320</td></tr><tr><td>FERNANDEZ</td><td>86118744</td></tr><tr><td>CALVO</td><td>94260376</td></tr><tr><td>HERCE</td><td>84003234</td></tr><tr><td>RUBIO</td><td>69379999</td></tr><tr><td>MADERO</td><td>69182973</td></tr><tr><td>HERNANDEZ</td><td>94582814</td></tr><tr><td>DIAZ</td><td>175866698</td></tr><tr><td>ALONSO</td><td>70997832</td></tr><tr><td>GARRIDO</td><td>68101597</td></tr><tr><td>MARIN</td><td>88585429</td></tr><tr><td>IBANEZ</td><td>78816720</td></tr><tr><td>GARCIA</td><td>65399987</td></tr><tr><td>MARTINEZ</td><td>160812439</td></tr><tr><td>ADELA</td><td>89724463</td></tr><tr><td>SANTAMARIA</td><td>91249412</td></tr><tr><td>LEON</td><td>151267113</td></tr><tr><td>GIL</td><td>75193081</td></tr><tr><td>PASCUAL</td><td>72033306</td></tr><tr><td>BLANCO</td><td>80624293</td></tr><tr><td>ALVAREZ</td><td>75078979</td></tr><tr><td>GABARRI</td><td>69999373</td></tr></table>"
                    },
                    "metadata": {}
                }
            ],
            "execution_count": 13
        },
        {
            "cell_type": "markdown",
            "source": [
                "### **5. Ventas por producto**"
            ],
            "metadata": {
                "azdata_cell_guid": "814eed9f-2886-48bf-84d3-f856e3cbd8ce"
            },
            "attachments": {}
        },
        {
            "cell_type": "code",
            "source": [
                "SELECT p.Producto, SUM(vt.Venta) AS Total_ventas\r\n",
                "FROM ventas AS vt \r\n",
                "JOIN producto AS p\r\n",
                "ON vt.ID_producto = p.ID_producto \r\n",
                "GROUP BY p.Producto;"
            ],
            "metadata": {
                "azdata_cell_guid": "db5adfb9-03b9-40c7-9971-08c782da6e0d",
                "language": "sql"
            },
            "outputs": [
                {
                    "output_type": "display_data",
                    "data": {
                        "text/html": "(7 row(s) affected)"
                    },
                    "metadata": {}
                },
                {
                    "output_type": "display_data",
                    "data": {
                        "text/html": "Total execution time: 00:00:01.030"
                    },
                    "metadata": {}
                },
                {
                    "output_type": "execute_result",
                    "execution_count": 15,
                    "data": {
                        "application/vnd.dataresource+json": {
                            "schema": {
                                "fields": [
                                    {
                                        "name": "Producto"
                                    },
                                    {
                                        "name": "Total_ventas"
                                    }
                                ]
                            },
                            "data": [
                                {
                                    "Producto": "Terreno",
                                    "Total_ventas": "577282718"
                                },
                                {
                                    "Producto": "Oficina",
                                    "Total_ventas": "564420826"
                                },
                                {
                                    "Producto": "Local",
                                    "Total_ventas": "558719228"
                                },
                                {
                                    "Producto": "Nave",
                                    "Total_ventas": "1061183896"
                                },
                                {
                                    "Producto": "Isla",
                                    "Total_ventas": "617630579"
                                },
                                {
                                    "Producto": "Consultorio",
                                    "Total_ventas": "596576595"
                                },
                                {
                                    "Producto": "Remates",
                                    "Total_ventas": "36759596"
                                }
                            ]
                        },
                        "text/html": "<table><tr><th>Producto</th><th>Total_ventas</th></tr><tr><td>Terreno</td><td>577282718</td></tr><tr><td>Oficina</td><td>564420826</td></tr><tr><td>Local</td><td>558719228</td></tr><tr><td>Nave</td><td>1061183896</td></tr><tr><td>Isla</td><td>617630579</td></tr><tr><td>Consultorio</td><td>596576595</td></tr><tr><td>Remates</td><td>36759596</td></tr></table>"
                    },
                    "metadata": {}
                }
            ],
            "execution_count": 15
        },
        {
            "cell_type": "markdown",
            "source": [
                "### **6. Resumen de compras por cliente en 2017**"
            ],
            "metadata": {
                "azdata_cell_guid": "dd50b4e9-4ec1-42ff-999e-05dfd6a3f522"
            },
            "attachments": {}
        },
        {
            "cell_type": "code",
            "source": [
                "SELECT c.ID_Cliente, c.Nombre, SUM(v.Venta) AS total_compras, COUNT(v.ID_Venta) AS numero_compras\r\n",
                "FROM clientes c\r\n",
                "JOIN ventas v ON c.ID_Cliente = v.ID_Cliente\r\n",
                "WHERE YEAR(STR_TO_DATE(v.`Fecha venta`, '%d-%b-%y')) = 2017\r\n",
                "GROUP BY c.ID_Cliente, c.Nombre\r\n",
                "ORDER BY total_compras DESC;\r\n",
                ""
            ],
            "metadata": {
                "azdata_cell_guid": "6ef12e21-0e15-4e57-84c9-db49c0726e74",
                "language": "sql"
            },
            "outputs": [
                {
                    "output_type": "display_data",
                    "data": {
                        "text/html": "(10 row(s) affected)"
                    },
                    "metadata": {}
                },
                {
                    "output_type": "display_data",
                    "data": {
                        "text/html": "Total execution time: 00:00:01.015"
                    },
                    "metadata": {}
                },
                {
                    "output_type": "execute_result",
                    "execution_count": 21,
                    "data": {
                        "application/vnd.dataresource+json": {
                            "schema": {
                                "fields": [
                                    {
                                        "name": "ID_Cliente"
                                    },
                                    {
                                        "name": "Nombre"
                                    },
                                    {
                                        "name": "total_compras"
                                    },
                                    {
                                        "name": "numero_compras"
                                    }
                                ]
                            },
                            "data": [
                                {
                                    "ID_Cliente": "6",
                                    "Nombre": "Pacifico Norte & CO",
                                    "total_compras": "137271566",
                                    "numero_compras": "115"
                                },
                                {
                                    "ID_Cliente": "8",
                                    "Nombre": "Too & A",
                                    "total_compras": "126525246",
                                    "numero_compras": "106"
                                },
                                {
                                    "ID_Cliente": "1",
                                    "Nombre": "Mart B & C",
                                    "total_compras": "124764352",
                                    "numero_compras": "101"
                                },
                                {
                                    "ID_Cliente": "10",
                                    "Nombre": "Bienestar Land",
                                    "total_compras": "121918564",
                                    "numero_compras": "107"
                                },
                                {
                                    "ID_Cliente": "2",
                                    "Nombre": "Bienes de Occidente",
                                    "total_compras": "120431190",
                                    "numero_compras": "104"
                                },
                                {
                                    "ID_Cliente": "9",
                                    "Nombre": "JKP Asesores",
                                    "total_compras": "118238716",
                                    "numero_compras": "94"
                                },
                                {
                                    "ID_Cliente": "7",
                                    "Nombre": "The LandLord",
                                    "total_compras": "117055304",
                                    "numero_compras": "99"
                                },
                                {
                                    "ID_Cliente": "3",
                                    "Nombre": "Tierra y Paz",
                                    "total_compras": "116303929",
                                    "numero_compras": "95"
                                },
                                {
                                    "ID_Cliente": "5",
                                    "Nombre": "Honduland",
                                    "total_compras": "115194405",
                                    "numero_compras": "91"
                                },
                                {
                                    "ID_Cliente": "4",
                                    "Nombre": "Agora e Tudo MM",
                                    "total_compras": "114000980",
                                    "numero_compras": "97"
                                }
                            ]
                        },
                        "text/html": "<table><tr><th>ID_Cliente</th><th>Nombre</th><th>total_compras</th><th>numero_compras</th></tr><tr><td>6</td><td>Pacifico Norte &amp; CO</td><td>137271566</td><td>115</td></tr><tr><td>8</td><td>Too &amp; A</td><td>126525246</td><td>106</td></tr><tr><td>1</td><td>Mart B &amp; C</td><td>124764352</td><td>101</td></tr><tr><td>10</td><td>Bienestar Land</td><td>121918564</td><td>107</td></tr><tr><td>2</td><td>Bienes de Occidente</td><td>120431190</td><td>104</td></tr><tr><td>9</td><td>JKP Asesores</td><td>118238716</td><td>94</td></tr><tr><td>7</td><td>The LandLord</td><td>117055304</td><td>99</td></tr><tr><td>3</td><td>Tierra y Paz</td><td>116303929</td><td>95</td></tr><tr><td>5</td><td>Honduland</td><td>115194405</td><td>91</td></tr><tr><td>4</td><td>Agora e Tudo MM</td><td>114000980</td><td>97</td></tr></table>"
                    },
                    "metadata": {}
                }
            ],
            "execution_count": 21
        },
        {
            "cell_type": "markdown",
            "source": [
                "# **Having**"
            ],
            "metadata": {
                "azdata_cell_guid": "87c9164e-c69e-45c4-a1f0-2367249b9ce3"
            },
            "attachments": {}
        },
        {
            "cell_type": "markdown",
            "source": [
                "## **Tomando en cuenta el ejercicio anterior:**"
            ],
            "metadata": {
                "azdata_cell_guid": "72aac73e-6c28-49f2-80da-b914a74aec6f"
            },
            "attachments": {}
        },
        {
            "cell_type": "markdown",
            "source": [
                "### **7. Resumen de compras por cliente en 2017 que hayan sido mayores a 150000**"
            ],
            "metadata": {
                "azdata_cell_guid": "6109c9c2-b981-4629-bfb0-3f6e15b1c12f"
            },
            "attachments": {}
        },
        {
            "cell_type": "code",
            "source": [
                "SELECT c.ID_Cliente, c.Nombre, SUM(v.Venta) AS total_compras, COUNT(v.ID_Venta) AS numero_compras\r\n",
                "FROM clientes c\r\n",
                "JOIN ventas v ON c.ID_Cliente = v.ID_Cliente\r\n",
                "WHERE YEAR(STR_TO_DATE(v.`Fecha venta`, '%d-%b-%y')) = 2017\r\n",
                "GROUP BY c.ID_Cliente, c.Nombre\r\n",
                "HAVING total_compras > 150000\r\n",
                "ORDER BY total_compras DESC;"
            ],
            "metadata": {
                "azdata_cell_guid": "b96ce058-4ed5-4ed8-97b7-9138a68987ed",
                "language": "sql"
            },
            "outputs": [
                {
                    "output_type": "display_data",
                    "data": {
                        "text/html": "(10 row(s) affected)"
                    },
                    "metadata": {}
                },
                {
                    "output_type": "display_data",
                    "data": {
                        "text/html": "Total execution time: 00:00:01.014"
                    },
                    "metadata": {}
                },
                {
                    "output_type": "execute_result",
                    "execution_count": 23,
                    "data": {
                        "application/vnd.dataresource+json": {
                            "schema": {
                                "fields": [
                                    {
                                        "name": "ID_Cliente"
                                    },
                                    {
                                        "name": "Nombre"
                                    },
                                    {
                                        "name": "total_compras"
                                    },
                                    {
                                        "name": "numero_compras"
                                    }
                                ]
                            },
                            "data": [
                                {
                                    "ID_Cliente": "6",
                                    "Nombre": "Pacifico Norte & CO",
                                    "total_compras": "137271566",
                                    "numero_compras": "115"
                                },
                                {
                                    "ID_Cliente": "8",
                                    "Nombre": "Too & A",
                                    "total_compras": "126525246",
                                    "numero_compras": "106"
                                },
                                {
                                    "ID_Cliente": "1",
                                    "Nombre": "Mart B & C",
                                    "total_compras": "124764352",
                                    "numero_compras": "101"
                                },
                                {
                                    "ID_Cliente": "10",
                                    "Nombre": "Bienestar Land",
                                    "total_compras": "121918564",
                                    "numero_compras": "107"
                                },
                                {
                                    "ID_Cliente": "2",
                                    "Nombre": "Bienes de Occidente",
                                    "total_compras": "120431190",
                                    "numero_compras": "104"
                                },
                                {
                                    "ID_Cliente": "9",
                                    "Nombre": "JKP Asesores",
                                    "total_compras": "118238716",
                                    "numero_compras": "94"
                                },
                                {
                                    "ID_Cliente": "7",
                                    "Nombre": "The LandLord",
                                    "total_compras": "117055304",
                                    "numero_compras": "99"
                                },
                                {
                                    "ID_Cliente": "3",
                                    "Nombre": "Tierra y Paz",
                                    "total_compras": "116303929",
                                    "numero_compras": "95"
                                },
                                {
                                    "ID_Cliente": "5",
                                    "Nombre": "Honduland",
                                    "total_compras": "115194405",
                                    "numero_compras": "91"
                                },
                                {
                                    "ID_Cliente": "4",
                                    "Nombre": "Agora e Tudo MM",
                                    "total_compras": "114000980",
                                    "numero_compras": "97"
                                }
                            ]
                        },
                        "text/html": "<table><tr><th>ID_Cliente</th><th>Nombre</th><th>total_compras</th><th>numero_compras</th></tr><tr><td>6</td><td>Pacifico Norte &amp; CO</td><td>137271566</td><td>115</td></tr><tr><td>8</td><td>Too &amp; A</td><td>126525246</td><td>106</td></tr><tr><td>1</td><td>Mart B &amp; C</td><td>124764352</td><td>101</td></tr><tr><td>10</td><td>Bienestar Land</td><td>121918564</td><td>107</td></tr><tr><td>2</td><td>Bienes de Occidente</td><td>120431190</td><td>104</td></tr><tr><td>9</td><td>JKP Asesores</td><td>118238716</td><td>94</td></tr><tr><td>7</td><td>The LandLord</td><td>117055304</td><td>99</td></tr><tr><td>3</td><td>Tierra y Paz</td><td>116303929</td><td>95</td></tr><tr><td>5</td><td>Honduland</td><td>115194405</td><td>91</td></tr><tr><td>4</td><td>Agora e Tudo MM</td><td>114000980</td><td>97</td></tr></table>"
                    },
                    "metadata": {}
                }
            ],
            "execution_count": 23
        },
        {
            "cell_type": "markdown",
            "source": [
                "# **Extra**"
            ],
            "metadata": {
                "language": "sql",
                "azdata_cell_guid": "a6ce9855-33af-4337-8a39-0c20128a6e96"
            },
            "attachments": {}
        },
        {
            "cell_type": "markdown",
            "source": [
                "### **8. Proporcione la lista de los clientes morosos**"
            ],
            "metadata": {
                "language": "sql",
                "azdata_cell_guid": "c20f5934-fd10-4388-9562-0af32d4ae437"
            },
            "attachments": {}
        },
        {
            "cell_type": "code",
            "source": [
                "USE base;\r\n",
                "SELECT c.ID_Cliente, c.Nombre, v.ID_Venta, `Fecha venta`, v.Venta\r\n",
                "FROM clientes c\r\n",
                "JOIN ventas v ON c.ID_Cliente = v.ID_Cliente\r\n",
                "LEFT JOIN pagos p ON v.ID_Venta = p.id_venta\r\n",
                "WHERE p.id_pago IS NULL;\r\n",
                "\r\n",
                ""
            ],
            "metadata": {
                "language": "sql",
                "azdata_cell_guid": "60fcc87b-8b1b-433c-9de9-0303c1c7c4cc"
            },
            "outputs": [
                {
                    "output_type": "display_data",
                    "data": {
                        "text/html": "Commands completed successfully"
                    },
                    "metadata": {}
                },
                {
                    "output_type": "display_data",
                    "data": {
                        "text/html": "(0 row(s) affected)"
                    },
                    "metadata": {}
                },
                {
                    "output_type": "display_data",
                    "data": {
                        "text/html": "Total execution time: 00:00:01.059"
                    },
                    "metadata": {}
                },
                {
                    "output_type": "execute_result",
                    "metadata": {},
                    "execution_count": 6,
                    "data": {
                        "application/vnd.dataresource+json": {
                            "schema": {
                                "fields": [
                                    {
                                        "name": "ID_Cliente"
                                    },
                                    {
                                        "name": "Nombre"
                                    },
                                    {
                                        "name": "ID_Venta"
                                    },
                                    {
                                        "name": "Fecha venta"
                                    },
                                    {
                                        "name": "Venta"
                                    }
                                ]
                            },
                            "data": []
                        },
                        "text/html": [
                            "<table>",
                            "<tr><th>ID_Cliente</th><th>Nombre</th><th>ID_Venta</th><th>Fecha venta</th><th>Venta</th></tr>",
                            "</table>"
                        ]
                    }
                }
            ],
            "execution_count": 6
        }
    ]
}