{
    "metadata": {
        "kernelspec": {
            "name": "SQL",
            "display_name": "SQL",
            "language": "sql"
        },
        "language_info": {
            "name": "sql",
            "version": ""
        }
    },
    "nbformat_minor": 2,
    "nbformat": 4,
    "cells": [
        {
            "cell_type": "code",
            "source": [
                "-- Comprobamos si existe la base de datos 'practica6a_join' y eliminamos en caso afirmativo\r\n",
                "DROP DATABASE IF EXISTS practica6a_join;\r\n",
                "\r\n",
                "-- Creación de la base de datos 'practica6a_join'\r\n",
                "CREATE DATABASE practica6a_join;\r\n",
                "\r\n",
                "-- Uso de la base de datos 'practica6a_join'\r\n",
                "USE practica6a_join;\r\n",
                "\r\n",
                "-- Creación de la tabla 'usuario'\r\n",
                "CREATE TABLE usuario (\r\n",
                "    UserID INT PRIMARY KEY,\r\n",
                "    UserName NVARCHAR(100)\r\n",
                ");\r\n",
                "\r\n",
                "-- Insertar datos en la tabla 'usuario'\r\n",
                "INSERT INTO usuario (UserID, UserName) VALUES \r\n",
                "(123, 'Bob'),\r\n",
                "(124, 'Alice'),\r\n",
                "(125, 'Carrie');\r\n",
                "\r\n",
                "-- Creación de la tabla 'orden' con la clave foránea UserID referenciando la tabla 'usuario'\r\n",
                "CREATE TABLE orden (\r\n",
                "    OrderID INT AUTO_INCREMENT PRIMARY KEY,\r\n",
                "    UserID INT\r\n",
                ");\r\n",
                "\r\n",
                "-- Insertar datos en la tabla 'orden'\r\n",
                "INSERT INTO orden (OrderID, UserID) VALUES\r\n",
                "(333, 123),\r\n",
                "(222, 123),\r\n",
                "(111, 126),\r\n",
                "(666, 126);\r\n",
                "\r\n",
                ""
            ],
            "metadata": {
                "azdata_cell_guid": "1d1340d4-c3e0-4e9c-86fd-48fd58012504",
                "language": "sql"
            },
            "outputs": [
                {
                    "output_type": "display_data",
                    "data": {
                        "text/html": "Commands completed successfully"
                    },
                    "metadata": {}
                },
                {
                    "output_type": "display_data",
                    "data": {
                        "text/html": "Commands completed successfully"
                    },
                    "metadata": {}
                },
                {
                    "output_type": "display_data",
                    "data": {
                        "text/html": "Commands completed successfully"
                    },
                    "metadata": {}
                },
                {
                    "output_type": "display_data",
                    "data": {
                        "text/html": "Commands completed successfully"
                    },
                    "metadata": {}
                },
                {
                    "output_type": "display_data",
                    "data": {
                        "text/html": "Commands completed successfully"
                    },
                    "metadata": {}
                },
                {
                    "output_type": "display_data",
                    "data": {
                        "text/html": "Commands completed successfully"
                    },
                    "metadata": {}
                },
                {
                    "output_type": "display_data",
                    "data": {
                        "text/html": "Commands completed successfully"
                    },
                    "metadata": {}
                },
                {
                    "output_type": "display_data",
                    "data": {
                        "text/html": "Total execution time: 00:00:00.083"
                    },
                    "metadata": {}
                }
            ],
            "execution_count": 9
        }
    ]
}