{
    "metadata": {
        "kernelspec": {
            "name": "SQL",
            "display_name": "SQL",
            "language": "sql"
        },
        "language_info": {
            "name": "sql",
            "version": ""
        }
    },
    "nbformat_minor": 2,
    "nbformat": 4,
    "cells": [
        {
            "cell_type": "markdown",
            "source": [
                "# Unir datos en SQL\n",
                "\n",
                "### Aprender SQL en línea en [www.DataCamp.com](http:\\www.datacamp.com\\)\n",
                "\n",
                "Guía"
            ],
            "metadata": {
                "azdata_cell_guid": "d7bc0628-11af-44de-a4f0-3b8653ecf79e"
            },
            "attachments": {}
        },
        {
            "cell_type": "markdown",
            "source": [
                "## Definiciones utilizadas a lo largo de esta guía\n",
                "\n",
                "**Clave primaria (primary key)**: \n",
                "\n",
                "<span style=\"color: var(--vscode-foreground);\">Una clave primaria es un campo en una tabla que identifica de forma única cada registro en la tabla. En bases de datos relacionales, las claves primarias se pueden utilizar como campos para unir tablas.&nbsp;</span>  \n",
                "\n",
                "<span style=\"color: var(--vscode-foreground);\"><b>Clave externa (foreign key)</b>:&nbsp;</span>  \n",
                "\n",
                "<span style=\"color: var(--vscode-foreground);\">Una clave externa es un campo en una tabla que hace referencia a la clave primaria de otra tabla. En una base de datos relacional, una forma de unir dos tablas es conectando la clave externa de una tabla con la clave primaria de otra.&nbsp;</span>  \n",
                "\n",
                "<span style=\"color: var(--vscode-foreground);\"><b>Relación uno a uno (One-to-One relationship)</b>:&nbsp;</span>  \n",
                "\n",
                "<span style=\"color: var(--vscode-foreground);\">Las relaciones de base de datos describen las relaciones entre registros en diferentes tablas. Cuando existe una relación uno a uno entre dos tablas, un registro dado en una tabla está relacionado de forma única con exactamente un registro en la otra tabla.&nbsp;</span>  \n",
                "\n",
                "<span style=\"color: var(--vscode-foreground);\"><b>Relación uno a muchos (One-to-Many relationship)</b>:&nbsp;</span>  \n",
                "\n",
                "<span style=\"color: var(--vscode-foreground);\">En una relación uno a muchos, un registro en una tabla puede estar relacionado con uno o más registros en una segunda tabla. Sin embargo, un registro dado en la segunda tabla solo estará relacionado con un registro en la primera tabla.&nbsp;</span>  \n",
                "\n",
                "<span style=\"color: var(--vscode-foreground);\"><b>Relación muchos a muchos (Many-to-Many relationship)</b>:&nbsp;</span>  \n",
                "\n",
                "<span style=\"color: var(--vscode-foreground);\">En una relación muchos a muchos, los registros en una tabla dada 'A' pueden estar relacionados con uno o más registros en otra tabla 'B', y los registros en la tabla B también pueden estar relacionados con muchos registros en la tabla A</span>"
            ],
            "metadata": {
                "azdata_cell_guid": "7e32e684-94da-4e66-bff6-d3d0a4e70efe"
            },
            "attachments": {}
        },
        {
            "cell_type": "markdown",
            "source": [
                "## Datos de muestra\r\n",
                "\r\n",
                "### Tabla artista\r\n",
                "![tabla_artista.PNG](attachment:tabla_artista.PNG)\r\n",
                "\r\n",
                "\r\n",
                "\r\n",
                "\r\n",
                "\r\n",
                "\r\n",
                "\r\n",
                "\r\n",
                "\r\n",
                "\r\n",
                "\r\n",
                "\r\n",
                "\r\n",
                "### Tabla album\r\n",
                "![tabla_album.PNG](attachment:tabla_album.PNG)\r\n",
                "\r\n",
                "\r\n",
                ""
            ],
            "metadata": {
                "azdata_cell_guid": "c9d0ab19-5f4a-40ea-bba2-906228a652c0"
            },
            "attachments": {
                "tabla_artista.PNG": {
                    "image/png": "[encoded data removed]"
                },
                "tabla_album.PNG": {
                    "image/png": "[encoded data removed]"
                }
            }
        },
        {
            "cell_type": "markdown",
            "source": [
                "## INNER JOIN\r\n",
                "\r\n",
                "Unir internamente dos tablas solo devolverá registros donde un campo de unión, como una clave, encuentre una coincidencia en ambas tablas.\r\n",
                "\r\n",
                "![03-inner-join.PNG](attachment:03-inner-join.PNG)\r\n",
                "\r\n",
                "\r\n",
                "\r\n",
                "\r\n",
                "\r\n",
                "\r\n",
                "\r\n",
                "\r\n",
                "\r\n",
                "\r\n",
                "\r\n",
                "\r\n",
                "\r\n",
                "\r\n",
                ""
            ],
            "metadata": {
                "azdata_cell_guid": "2372626d-8f56-4fee-a171-08029ecc449a"
            },
            "attachments": {
                "03-inner-join.PNG": {
                    "image/png": "[encoded data removed]"
                }
            }
        },
        {
            "cell_type": "markdown",
            "source": [
                "### INNER JOIN unir SOBRE un campo"
            ],
            "metadata": {
                "language": "sql",
                "azdata_cell_guid": "8acfc632-4a43-400f-b064-af1e342aff42"
            },
            "attachments": {}
        },
        {
            "cell_type": "code",
            "source": [
                "USE joiningdata6b;\r\n",
                "SELECT *\r\n",
                "FROM tabla_artista AS art\r\n",
                "INNER JOIN tabla_album AS alb\r\n",
                "ON art.id_artista = alb.id_artista;"
            ],
            "metadata": {
                "azdata_cell_guid": "f15fc7ae-a558-41ec-8ee2-9d12b1950588",
                "language": "sql"
            },
            "outputs": [
                {
                    "output_type": "display_data",
                    "data": {
                        "text/html": "Commands completed successfully"
                    },
                    "metadata": {}
                },
                {
                    "output_type": "display_data",
                    "data": {
                        "text/html": "(4 row(s) affected)"
                    },
                    "metadata": {}
                },
                {
                    "output_type": "display_data",
                    "data": {
                        "text/html": "Total execution time: 00:00:01.019"
                    },
                    "metadata": {}
                },
                {
                    "output_type": "execute_result",
                    "execution_count": 2,
                    "data": {
                        "application/vnd.dataresource+json": {
                            "schema": {
                                "fields": [
                                    {
                                        "name": "id_artista"
                                    },
                                    {
                                        "name": "nombre"
                                    },
                                    {
                                        "name": "id_album"
                                    },
                                    {
                                        "name": "titulo"
                                    },
                                    {
                                        "name": "id_artista"
                                    }
                                ]
                            },
                            "data": [
                                {
                                    "id_artista": "1",
                                    "nombre": "AC/DC",
                                    "id_album": "1",
                                    "titulo": "For those who rock"
                                },
                                {
                                    "id_artista": "2",
                                    "nombre": "Aerosmith",
                                    "id_album": "2",
                                    "titulo": "Dream on"
                                },
                                {
                                    "id_artista": "2",
                                    "nombre": "Aerosmith",
                                    "id_album": "3",
                                    "titulo": "Restless and wild"
                                },
                                {
                                    "id_artista": "1",
                                    "nombre": "AC/DC",
                                    "id_album": "4",
                                    "titulo": "Let there be rock"
                                }
                            ]
                        },
                        "text/html": "<table><tr><th>id_artista</th><th>nombre</th><th>id_album</th><th>titulo</th><th>id_artista</th></tr><tr><td>1</td><td>AC/DC</td><td>1</td><td>For those who rock</td><td>1</td></tr><tr><td>2</td><td>Aerosmith</td><td>2</td><td>Dream on</td><td>2</td></tr><tr><td>2</td><td>Aerosmith</td><td>3</td><td>Restless and wild</td><td>2</td></tr><tr><td>1</td><td>AC/DC</td><td>4</td><td>Let there be rock</td><td>1</td></tr></table>"
                    },
                    "metadata": {}
                }
            ],
            "execution_count": 2
        },
        {
            "cell_type": "markdown",
            "source": [
                "### INNER JOIN con USING"
            ],
            "metadata": {
                "language": "sql",
                "azdata_cell_guid": "eab7e37c-6af7-41c2-876f-423ae2e8b310"
            },
            "attachments": {}
        },
        {
            "cell_type": "code",
            "source": [
                "SELECT * \r\n",
                "FROM tabla_artista AS art \r\n",
                "INNER JOIN tabla_album AS alb \r\n",
                "USING (id_artista);"
            ],
            "metadata": {
                "language": "sql",
                "azdata_cell_guid": "2cdda77e-342c-4bcc-9c4f-91df1427f714"
            },
            "outputs": [
                {
                    "output_type": "display_data",
                    "data": {
                        "text/html": "(4 row(s) affected)"
                    },
                    "metadata": {}
                },
                {
                    "output_type": "display_data",
                    "data": {
                        "text/html": "Total execution time: 00:00:01.008"
                    },
                    "metadata": {}
                },
                {
                    "output_type": "execute_result",
                    "execution_count": 3,
                    "data": {
                        "application/vnd.dataresource+json": {
                            "schema": {
                                "fields": [
                                    {
                                        "name": "id_artista"
                                    },
                                    {
                                        "name": "nombre"
                                    },
                                    {
                                        "name": "id_album"
                                    },
                                    {
                                        "name": "titulo"
                                    }
                                ]
                            },
                            "data": [
                                {
                                    "id_artista": "1",
                                    "nombre": "AC/DC",
                                    "id_album": "1",
                                    "titulo": "For those who rock"
                                },
                                {
                                    "id_artista": "2",
                                    "nombre": "Aerosmith",
                                    "id_album": "2",
                                    "titulo": "Dream on"
                                },
                                {
                                    "id_artista": "2",
                                    "nombre": "Aerosmith",
                                    "id_album": "3",
                                    "titulo": "Restless and wild"
                                },
                                {
                                    "id_artista": "1",
                                    "nombre": "AC/DC",
                                    "id_album": "4",
                                    "titulo": "Let there be rock"
                                }
                            ]
                        },
                        "text/html": "<table><tr><th>id_artista</th><th>nombre</th><th>id_album</th><th>titulo</th></tr><tr><td>1</td><td>AC/DC</td><td>1</td><td>For those who rock</td></tr><tr><td>2</td><td>Aerosmith</td><td>2</td><td>Dream on</td></tr><tr><td>2</td><td>Aerosmith</td><td>3</td><td>Restless and wild</td></tr><tr><td>1</td><td>AC/DC</td><td>4</td><td>Let there be rock</td></tr></table>"
                    },
                    "metadata": {}
                }
            ],
            "execution_count": 3
        },
        {
            "cell_type": "markdown",
            "source": [
                "## SELF JOIN\n",
                "\n",
                "<span style=\"color: rgb(13, 13, 13); font-family: Söhne, ui-sans-serif, system-ui, -apple-system, &quot;Segoe UI&quot;, Roboto, Ubuntu, Cantarell, &quot;Noto Sans&quot;, sans-serif, &quot;Helvetica Neue&quot;, Arial, &quot;Apple Color Emoji&quot;, &quot;Segoe UI Emoji&quot;, &quot;Segoe UI Symbol&quot;, &quot;Noto Color Emoji&quot;; font-size: 16px; white-space-collapse: preserve; background-color: rgb(255, 255, 255);\">Los auto-joins se utilizan para comparar valores en una tabla con otros valores de la misma tabla al unir diferentes partes de una tabla juntas.</span>"
            ],
            "metadata": {
                "language": "sql",
                "azdata_cell_guid": "609427af-d71b-473b-88de-b26f1f10e24e"
            },
            "attachments": {}
        },
        {
            "cell_type": "code",
            "source": [
                "SELECT \r\n",
                "    a1.id_album AS id_1,\r\n",
                "    a1.titulo AS album1,\r\n",
                "    a2.id_album AS id_2, \r\n",
                "    a2.titulo AS album2\r\n",
                "FROM tabla_album a1\r\n",
                "INNER JOIN tabla_album a2 ON a1.id_artista = a2.id_artista\r\n",
                "WHERE a1.id_album <> a2.id_album;\r\n",
                "\r\n",
                "\r\n",
                ""
            ],
            "metadata": {
                "language": "sql",
                "azdata_cell_guid": "c5fb60f3-0723-4bd9-98ea-cf86581541de",
                "tags": []
            },
            "outputs": [
                {
                    "output_type": "display_data",
                    "data": {
                        "text/html": "(4 row(s) affected)"
                    },
                    "metadata": {}
                },
                {
                    "output_type": "display_data",
                    "data": {
                        "text/html": "Total execution time: 00:00:01.012"
                    },
                    "metadata": {}
                },
                {
                    "output_type": "execute_result",
                    "execution_count": 21,
                    "data": {
                        "application/vnd.dataresource+json": {
                            "schema": {
                                "fields": [
                                    {
                                        "name": "id_1"
                                    },
                                    {
                                        "name": "album1"
                                    },
                                    {
                                        "name": "id_2"
                                    },
                                    {
                                        "name": "album2"
                                    }
                                ]
                            },
                            "data": [
                                {
                                    "id_1": "4",
                                    "album1": "Let there be rock",
                                    "id_2": "1",
                                    "album2": "For those who rock"
                                },
                                {
                                    "id_1": "3",
                                    "album1": "Restless and wild",
                                    "id_2": "2",
                                    "album2": "Dream on"
                                },
                                {
                                    "id_1": "2",
                                    "album1": "Dream on",
                                    "id_2": "3",
                                    "album2": "Restless and wild"
                                },
                                {
                                    "id_1": "1",
                                    "album1": "For those who rock",
                                    "id_2": "4",
                                    "album2": "Let there be rock"
                                }
                            ]
                        },
                        "text/html": "<table><tr><th>id_1</th><th>album1</th><th>id_2</th><th>album2</th></tr><tr><td>4</td><td>Let there be rock</td><td>1</td><td>For those who rock</td></tr><tr><td>3</td><td>Restless and wild</td><td>2</td><td>Dream on</td></tr><tr><td>2</td><td>Dream on</td><td>3</td><td>Restless and wild</td></tr><tr><td>1</td><td>For those who rock</td><td>4</td><td>Let there be rock</td></tr></table>"
                    },
                    "metadata": {}
                }
            ],
            "execution_count": 21
        },
        {
            "cell_type": "markdown",
            "source": [
                "## LEFT JOIN\n",
                "\n",
                "<span style=\"color: rgb(13, 13, 13); font-family: Söhne, ui-sans-serif, system-ui, -apple-system, &quot;Segoe UI&quot;, Roboto, Ubuntu, Cantarell, &quot;Noto Sans&quot;, sans-serif, &quot;Helvetica Neue&quot;, Arial, &quot;Apple Color Emoji&quot;, &quot;Segoe UI Emoji&quot;, &quot;Segoe UI Symbol&quot;, &quot;Noto Color Emoji&quot;; font-size: 16px; white-space-collapse: preserve; background-color: rgb(255, 255, 255);\">Un left join mantiene todos los registros originales en la tabla izquierda y devuelve valores faltantes para cualquier columna de la tabla derecha donde el campo de unión no encontró una coincidencia.</span>\n",
                "\n",
                "![04-left_join.PNG](attachment:04-left_join.PNG)"
            ],
            "metadata": {
                "language": "sql",
                "azdata_cell_guid": "25b2d76e-23ae-4b9e-becb-e0bc701d6c5e"
            },
            "attachments": {
                "04-left_join.PNG": {
                    "image/png": "[encoded data removed]"
                }
            }
        },
        {
            "cell_type": "markdown",
            "source": [
                "LEFT JOIN sobre un campo"
            ],
            "metadata": {
                "language": "sql",
                "azdata_cell_guid": "d60814b1-35f6-4659-a792-1227e7ff9a71"
            },
            "attachments": {}
        },
        {
            "cell_type": "code",
            "source": [
                "USE joiningdata6b;\r\n",
                "SELECT * \r\n",
                "FROM tabla_artista AS art \r\n",
                "LEFT JOIN tabla_album AS alb \r\n",
                "ON art.id_artista = alb.id_artista;"
            ],
            "metadata": {
                "language": "sql",
                "azdata_cell_guid": "ccabe626-2e5d-4cfe-acc0-304dae0de6d0"
            },
            "outputs": [
                {
                    "output_type": "display_data",
                    "data": {
                        "text/html": "Commands completed successfully"
                    },
                    "metadata": {}
                },
                {
                    "output_type": "display_data",
                    "data": {
                        "text/html": "(5 row(s) affected)"
                    },
                    "metadata": {}
                },
                {
                    "output_type": "display_data",
                    "data": {
                        "text/html": "Total execution time: 00:00:01.008"
                    },
                    "metadata": {}
                },
                {
                    "output_type": "execute_result",
                    "execution_count": 6,
                    "data": {
                        "application/vnd.dataresource+json": {
                            "schema": {
                                "fields": [
                                    {
                                        "name": "id_artista"
                                    },
                                    {
                                        "name": "nombre"
                                    },
                                    {
                                        "name": "id_album"
                                    },
                                    {
                                        "name": "titulo"
                                    },
                                    {
                                        "name": "id_artista"
                                    }
                                ]
                            },
                            "data": [
                                {
                                    "id_artista": "1",
                                    "nombre": "AC/DC",
                                    "id_album": "4",
                                    "titulo": "Let there be rock"
                                },
                                {
                                    "id_artista": "1",
                                    "nombre": "AC/DC",
                                    "id_album": "1",
                                    "titulo": "For those who rock"
                                },
                                {
                                    "id_artista": "2",
                                    "nombre": "Aerosmith",
                                    "id_album": "3",
                                    "titulo": "Restless and wild"
                                },
                                {
                                    "id_artista": "2",
                                    "nombre": "Aerosmith",
                                    "id_album": "2",
                                    "titulo": "Dream on"
                                },
                                {
                                    "id_artista": "NULL",
                                    "nombre": "Alanis Morissette",
                                    "id_album": "NULL",
                                    "titulo": "NULL"
                                }
                            ]
                        },
                        "text/html": "<table><tr><th>id_artista</th><th>nombre</th><th>id_album</th><th>titulo</th><th>id_artista</th></tr><tr><td>1</td><td>AC/DC</td><td>4</td><td>Let there be rock</td><td>1</td></tr><tr><td>1</td><td>AC/DC</td><td>1</td><td>For those who rock</td><td>1</td></tr><tr><td>2</td><td>Aerosmith</td><td>3</td><td>Restless and wild</td><td>2</td></tr><tr><td>2</td><td>Aerosmith</td><td>2</td><td>Dream on</td><td>2</td></tr><tr><td>3</td><td>Alanis Morissette</td><td>NULL</td><td>NULL</td><td>NULL</td></tr></table>"
                    },
                    "metadata": {}
                }
            ],
            "execution_count": 6
        },
        {
            "cell_type": "markdown",
            "source": [
                "## RIGHT JOIN\n",
                "\n",
                "Un right join conserva todos los registros originales de la tabla derecha y devuelve los valores faltantes en las columnas de la tabla izquierda donde el campo no ha encontrado una coincidencia. Los right joins son mucho menos comunes que los left joins, ya que los right joins siempre pueden reescribirse como left joins.  \n",
                "\n",
                "<span style=\"color: var(--vscode-foreground);\"><br></span>![05-right-join.PNG](attachment:05-right-join.PNG)****"
            ],
            "metadata": {
                "language": "sql",
                "azdata_cell_guid": "31ff7738-7eaf-4958-ba7b-0752265d8e9d"
            },
            "attachments": {
                "05-right-join.PNG": {
                    "image/png": "[encoded data removed]"
                }
            }
        },
        {
            "cell_type": "markdown",
            "source": [
                "RIGHT JOIN sobre un campo"
            ],
            "metadata": {
                "language": "sql",
                "azdata_cell_guid": "ba8cf617-9d3f-4ccd-9e8e-a31ec753d15c"
            },
            "attachments": {}
        },
        {
            "cell_type": "code",
            "source": [
                "USE joiningdata6b;\r\n",
                "SELECT * \r\n",
                "FROM tabla_artista AS art \r\n",
                "RIGHT JOIN tabla_album AS alb \r\n",
                "ON art.id_artista = alb.id_artista;"
            ],
            "metadata": {
                "language": "sql",
                "azdata_cell_guid": "d9f1045e-994d-40df-a81c-7964cea16185"
            },
            "outputs": [
                {
                    "output_type": "display_data",
                    "data": {
                        "text/html": "Commands completed successfully"
                    },
                    "metadata": {}
                },
                {
                    "output_type": "display_data",
                    "data": {
                        "text/html": "(5 row(s) affected)"
                    },
                    "metadata": {}
                },
                {
                    "output_type": "display_data",
                    "data": {
                        "text/html": "Total execution time: 00:00:01.031"
                    },
                    "metadata": {}
                },
                {
                    "output_type": "execute_result",
                    "metadata": {},
                    "execution_count": 6,
                    "data": {
                        "application/vnd.dataresource+json": {
                            "schema": {
                                "fields": [
                                    {
                                        "name": "id_artista"
                                    },
                                    {
                                        "name": "nombre"
                                    },
                                    {
                                        "name": "id_album"
                                    },
                                    {
                                        "name": "titulo"
                                    },
                                    {
                                        "name": "id_artista"
                                    }
                                ]
                            },
                            "data": [
                                {
                                    "id_artista": "1",
                                    "nombre": "AC/DC",
                                    "id_album": "1",
                                    "titulo": "For those who rock"
                                },
                                {
                                    "id_artista": "2",
                                    "nombre": "Aerosmith",
                                    "id_album": "2",
                                    "titulo": "Dream on"
                                },
                                {
                                    "id_artista": "2",
                                    "nombre": "Aerosmith",
                                    "id_album": "3",
                                    "titulo": "Restless and wild"
                                },
                                {
                                    "id_artista": "1",
                                    "nombre": "AC/DC",
                                    "id_album": "4",
                                    "titulo": "Let there be rock"
                                },
                                {
                                    "id_artista": "6",
                                    "nombre": "NULL",
                                    "id_album": "5",
                                    "titulo": "Rumours"
                                }
                            ]
                        },
                        "text/html": [
                            "<table>",
                            "<tr><th>id_artista</th><th>nombre</th><th>id_album</th><th>titulo</th><th>id_artista</th></tr>",
                            "<tr><td>1</td><td>AC/DC</td><td>1</td><td>For those who rock</td><td>1</td></tr>",
                            "<tr><td>2</td><td>Aerosmith</td><td>2</td><td>Dream on</td><td>2</td></tr>",
                            "<tr><td>2</td><td>Aerosmith</td><td>3</td><td>Restless and wild</td><td>2</td></tr>",
                            "<tr><td>1</td><td>AC/DC</td><td>4</td><td>Let there be rock</td><td>1</td></tr>",
                            "<tr><td>NULL</td><td>NULL</td><td>5</td><td>Rumours</td><td>6</td></tr>",
                            "</table>"
                        ]
                    }
                }
            ],
            "execution_count": 6
        },
        {
            "cell_type": "markdown",
            "source": [
                "## FULL JOIN\r\n",
                "\r\n",
                "Una unión completa (full join) combina una unión izquierda (left join) y una unión derecha (right join). Una unión completa devolverá todos los registros de una tabla, independientemente de si hay una coincidencia en el campo de unión en la otra tabla, devolviendo valores nulos en consecuencia.![06-full_join.PNG](attachment:06-full_join.PNG)"
            ],
            "metadata": {
                "language": "sql",
                "azdata_cell_guid": "358b1566-de9c-4a39-a80c-7fbc1c9890b0"
            },
            "attachments": {
                "06-full_join.PNG": {
                    "image/png": "[encoded data removed]"
                }
            }
        },
        {
            "cell_type": "markdown",
            "source": [
                "FULL JOIN sobre un campo"
            ],
            "metadata": {
                "language": "sql",
                "azdata_cell_guid": "bdd3a596-158e-4de5-80c0-2e1e6f76fc56"
            },
            "attachments": {}
        },
        {
            "cell_type": "code",
            "source": [
                "SELECT * \r\n",
                "FROM tabla_artista AS art \r\n",
                "FULL OUTER JOIN tabla_album AS alb \r\n",
                "ON art.id_artista = alb.id_artista;"
            ],
            "metadata": {
                "language": "sql",
                "azdata_cell_guid": "20c1fe91-ddc5-4e1d-9036-be94e6d697b7"
            },
            "outputs": [
                {
                    "output_type": "display_data",
                    "data": {
                        "text/html": "Total execution time: 00:00:00.001"
                    },
                    "metadata": {}
                },
                {
                    "output_type": "error",
                    "evalue": "1064 (42000): You have an error in your SQL syntax; check the manual that corresponds to your MySQL server version for the right syntax to use near 'FULL OUTER JOIN tabla_album AS alb\nON art.id_artista = alb.id_artista' at line 3",
                    "ename": "",
                    "traceback": []
                }
            ],
            "execution_count": 9
        },
        {
            "cell_type": "markdown",
            "source": [
                "<span style=\"color: rgb(180, 180, 180); font-family: Söhne, ui-sans-serif, system-ui, -apple-system, &quot;Segoe UI&quot;, Roboto, Ubuntu, Cantarell, &quot;Noto Sans&quot;, sans-serif, &quot;Helvetica Neue&quot;, Arial, &quot;Apple Color Emoji&quot;, &quot;Segoe UI Emoji&quot;, &quot;Segoe UI Symbol&quot;, &quot;Noto Color Emoji&quot;; font-size: 16px; white-space-collapse: preserve; background-color: rgb(255, 255, 255);\">MySQL no soporta la sintaxis </span> `FULL OUTER JOIN`<span style=\"color: rgb(180, 180, 180); font-family: Söhne, ui-sans-serif, system-ui, -apple-system, &quot;Segoe UI&quot;, Roboto, Ubuntu, Cantarell, &quot;Noto Sans&quot;, sans-serif, &quot;Helvetica Neue&quot;, Arial, &quot;Apple Color Emoji&quot;, &quot;Segoe UI Emoji&quot;, &quot;Segoe UI Symbol&quot;, &quot;Noto Color Emoji&quot;; font-size: 16px; white-space-collapse: preserve; background-color: rgb(255, 255, 255);\">. Sin embargo, podemos simular un </span> `FULL OUTER JOIN` <span style=\"color: rgb(180, 180, 180); font-family: Söhne, ui-sans-serif, system-ui, -apple-system, &quot;Segoe UI&quot;, Roboto, Ubuntu, Cantarell, &quot;Noto Sans&quot;, sans-serif, &quot;Helvetica Neue&quot;, Arial, &quot;Apple Color Emoji&quot;, &quot;Segoe UI Emoji&quot;, &quot;Segoe UI Symbol&quot;, &quot;Noto Color Emoji&quot;; font-size: 16px; white-space-collapse: preserve; background-color: rgb(255, 255, 255);\"> combinando un </span> `LEFT JOIN` <span style=\"color: rgb(180, 180, 180); font-family: Söhne, ui-sans-serif, system-ui, -apple-system, &quot;Segoe UI&quot;, Roboto, Ubuntu, Cantarell, &quot;Noto Sans&quot;, sans-serif, &quot;Helvetica Neue&quot;, Arial, &quot;Apple Color Emoji&quot;, &quot;Segoe UI Emoji&quot;, &quot;Segoe UI Symbol&quot;, &quot;Noto Color Emoji&quot;; font-size: 16px; white-space-collapse: preserve; background-color: rgb(255, 255, 255);\"> y un </span> `RIGHT JOIN` <span style=\"color: rgb(180, 180, 180); font-family: Söhne, ui-sans-serif, system-ui, -apple-system, &quot;Segoe UI&quot;, Roboto, Ubuntu, Cantarell, &quot;Noto Sans&quot;, sans-serif, &quot;Helvetica Neue&quot;, Arial, &quot;Apple Color Emoji&quot;, &quot;Segoe UI Emoji&quot;, &quot;Segoe UI Symbol&quot;, &quot;Noto Color Emoji&quot;; font-size: 16px; white-space-collapse: preserve; background-color: rgb(255, 255, 255);\"> con una cláusula </span> `UNION`<span style=\"color: rgb(180, 180, 180); font-family: Söhne, ui-sans-serif, system-ui, -apple-system, &quot;Segoe UI&quot;, Roboto, Ubuntu, Cantarell, &quot;Noto Sans&quot;, sans-serif, &quot;Helvetica Neue&quot;, Arial, &quot;Apple Color Emoji&quot;, &quot;Segoe UI Emoji&quot;, &quot;Segoe UI Symbol&quot;, &quot;Noto Color Emoji&quot;; font-size: 16px; white-space-collapse: preserve; background-color: rgb(255, 255, 255);\">.</span>"
            ],
            "metadata": {
                "language": "sql",
                "azdata_cell_guid": "a030c4be-f105-409b-80eb-eb67af9962b3"
            },
            "attachments": {}
        },
        {
            "cell_type": "code",
            "source": [
                "SELECT art.id_artista, art.nombre, alb.id_album, alb.titulo\r\n",
                "FROM tabla_artista AS art\r\n",
                "LEFT JOIN tabla_album AS alb ON art.id_artista = alb.id_artista\r\n",
                "\r\n",
                "UNION\r\n",
                "\r\n",
                "SELECT art.id_artista, art.nombre, alb.id_album, alb.titulo\r\n",
                "FROM tabla_artista AS art\r\n",
                "RIGHT JOIN tabla_album AS alb ON art.id_artista = alb.id_artista;\r\n",
                ""
            ],
            "metadata": {
                "language": "sql",
                "azdata_cell_guid": "3ac65b30-9e6c-4054-b5ab-1ce17ee5c6f3"
            },
            "outputs": [
                {
                    "output_type": "display_data",
                    "data": {
                        "text/html": "(6 row(s) affected)"
                    },
                    "metadata": {}
                },
                {
                    "output_type": "display_data",
                    "data": {
                        "text/html": "Total execution time: 00:00:01.016"
                    },
                    "metadata": {}
                },
                {
                    "output_type": "execute_result",
                    "metadata": {},
                    "execution_count": 10,
                    "data": {
                        "application/vnd.dataresource+json": {
                            "schema": {
                                "fields": [
                                    {
                                        "name": "id_artista"
                                    },
                                    {
                                        "name": "nombre"
                                    },
                                    {
                                        "name": "id_album"
                                    },
                                    {
                                        "name": "titulo"
                                    }
                                ]
                            },
                            "data": [
                                {
                                    "id_artista": "1",
                                    "nombre": "AC/DC",
                                    "id_album": "4",
                                    "titulo": "Let there be rock"
                                },
                                {
                                    "id_artista": "1",
                                    "nombre": "AC/DC",
                                    "id_album": "1",
                                    "titulo": "For those who rock"
                                },
                                {
                                    "id_artista": "2",
                                    "nombre": "Aerosmith",
                                    "id_album": "3",
                                    "titulo": "Restless and wild"
                                },
                                {
                                    "id_artista": "2",
                                    "nombre": "Aerosmith",
                                    "id_album": "2",
                                    "titulo": "Dream on"
                                },
                                {
                                    "id_artista": "3",
                                    "nombre": "Alanis Morissette",
                                    "id_album": "NULL",
                                    "titulo": "NULL"
                                },
                                {
                                    "id_artista": "NULL",
                                    "nombre": "NULL",
                                    "id_album": "5",
                                    "titulo": "Rumours"
                                }
                            ]
                        },
                        "text/html": [
                            "<table>",
                            "<tr><th>id_artista</th><th>nombre</th><th>id_album</th><th>titulo</th></tr>",
                            "<tr><td>1</td><td>AC/DC</td><td>4</td><td>Let there be rock</td></tr>",
                            "<tr><td>1</td><td>AC/DC</td><td>1</td><td>For those who rock</td></tr>",
                            "<tr><td>2</td><td>Aerosmith</td><td>3</td><td>Restless and wild</td></tr>",
                            "<tr><td>2</td><td>Aerosmith</td><td>2</td><td>Dream on</td></tr>",
                            "<tr><td>3</td><td>Alanis Morissette</td><td>NULL</td><td>NULL</td></tr>",
                            "<tr><td>NULL</td><td>NULL</td><td>5</td><td>Rumours</td></tr>",
                            "</table>"
                        ]
                    }
                }
            ],
            "execution_count": 10
        },
        {
            "cell_type": "markdown",
            "source": [
                "## CROSS JOIN\n",
                "\n",
                "![07-cross_join.PNG](attachment:07-cross_join.PNG)\n",
                "\n",
                "CROSS JOIN <span style=\"color: var(--vscode-foreground);\">crea todas las combinaciones posibles de dos tablas.</span>\n",
                "\n",
                "<span style=\"color: var(--vscode-foreground);\">CROSS JOIN </span> no requiere un campo para unirse. <span style=\"color: var(--vscode-foreground);\">ON</span>"
            ],
            "metadata": {
                "language": "sql",
                "azdata_cell_guid": "9fa58bba-1897-48bb-bb62-ab7e58fe6f05"
            },
            "attachments": {
                "07-cross_join.PNG": {
                    "image/png": "[encoded data removed]"
                }
            }
        },
        {
            "cell_type": "code",
            "source": [
                "SELECT nombre, titulo\r\n",
                "FROM tabla_artista\r\n",
                "CROSS JOIN tabla_album;"
            ],
            "metadata": {
                "language": "sql",
                "azdata_cell_guid": "793c409e-5fed-4352-8909-3fe72cf5328b"
            },
            "outputs": [
                {
                    "output_type": "display_data",
                    "data": {
                        "text/html": "(15 row(s) affected)"
                    },
                    "metadata": {}
                },
                {
                    "output_type": "display_data",
                    "data": {
                        "text/html": "Total execution time: 00:00:01.015"
                    },
                    "metadata": {}
                },
                {
                    "output_type": "execute_result",
                    "metadata": {},
                    "execution_count": 11,
                    "data": {
                        "application/vnd.dataresource+json": {
                            "schema": {
                                "fields": [
                                    {
                                        "name": "nombre"
                                    },
                                    {
                                        "name": "titulo"
                                    }
                                ]
                            },
                            "data": [
                                {
                                    "nombre": "Alanis Morissette",
                                    "titulo": "For those who rock"
                                },
                                {
                                    "nombre": "Aerosmith",
                                    "titulo": "For those who rock"
                                },
                                {
                                    "nombre": "AC/DC",
                                    "titulo": "For those who rock"
                                },
                                {
                                    "nombre": "Alanis Morissette",
                                    "titulo": "Dream on"
                                },
                                {
                                    "nombre": "Aerosmith",
                                    "titulo": "Dream on"
                                },
                                {
                                    "nombre": "AC/DC",
                                    "titulo": "Dream on"
                                },
                                {
                                    "nombre": "Alanis Morissette",
                                    "titulo": "Restless and wild"
                                },
                                {
                                    "nombre": "Aerosmith",
                                    "titulo": "Restless and wild"
                                },
                                {
                                    "nombre": "AC/DC",
                                    "titulo": "Restless and wild"
                                },
                                {
                                    "nombre": "Alanis Morissette",
                                    "titulo": "Let there be rock"
                                },
                                {
                                    "nombre": "Aerosmith",
                                    "titulo": "Let there be rock"
                                },
                                {
                                    "nombre": "AC/DC",
                                    "titulo": "Let there be rock"
                                },
                                {
                                    "nombre": "Alanis Morissette",
                                    "titulo": "Rumours"
                                },
                                {
                                    "nombre": "Aerosmith",
                                    "titulo": "Rumours"
                                },
                                {
                                    "nombre": "AC/DC",
                                    "titulo": "Rumours"
                                }
                            ]
                        },
                        "text/html": [
                            "<table>",
                            "<tr><th>nombre</th><th>titulo</th></tr>",
                            "<tr><td>Alanis Morissette</td><td>For those who rock</td></tr>",
                            "<tr><td>Aerosmith</td><td>For those who rock</td></tr>",
                            "<tr><td>AC/DC</td><td>For those who rock</td></tr>",
                            "<tr><td>Alanis Morissette</td><td>Dream on</td></tr>",
                            "<tr><td>Aerosmith</td><td>Dream on</td></tr>",
                            "<tr><td>AC/DC</td><td>Dream on</td></tr>",
                            "<tr><td>Alanis Morissette</td><td>Restless and wild</td></tr>",
                            "<tr><td>Aerosmith</td><td>Restless and wild</td></tr>",
                            "<tr><td>AC/DC</td><td>Restless and wild</td></tr>",
                            "<tr><td>Alanis Morissette</td><td>Let there be rock</td></tr>",
                            "<tr><td>Aerosmith</td><td>Let there be rock</td></tr>",
                            "<tr><td>AC/DC</td><td>Let there be rock</td></tr>",
                            "<tr><td>Alanis Morissette</td><td>Rumours</td></tr>",
                            "<tr><td>Aerosmith</td><td>Rumours</td></tr>",
                            "<tr><td>AC/DC</td><td>Rumours</td></tr>",
                            "</table>"
                        ]
                    }
                }
            ],
            "execution_count": 11
        },
        {
            "cell_type": "markdown",
            "source": [
                "## Operadores de la teoría de conjuntos en SQL\r\n",
                "\r\n",
                "![08-set_theory_operators.PNG](attachment:08-set_theory_operators.PNG)"
            ],
            "metadata": {
                "language": "sql",
                "azdata_cell_guid": "cbc6b497-c533-4111-9f21-7fcb2f129c14"
            },
            "attachments": {
                "08-set_theory_operators.PNG": {
                    "image/png": "[encoded data removed]"
                }
            }
        },
        {
            "cell_type": "markdown",
            "source": [
                "## UNION\n",
                "\n",
                "  \n",
                "\n",
                "El operador UNION se utiliza para combinar verticalmente los resultados <span style=\"color: var(--vscode-foreground);\">de dos sentencias. Para que&nbsp; funcione sin errores&nbsp;</span> <span style=\"color: var(--vscode-foreground);\">todas las sentencias deben tener el mismo número de&nbsp;</span> <span style=\"color: var(--vscode-foreground);\">columnas y las columnas correspondientes deben tener el mismo tipo de dato. N</span><span style=\"color: var(--vscode-foreground);\">o devuelve duplicados.</span>\n",
                "\n",
                "![09-union.PNG](attachment:09-union.PNG)"
            ],
            "metadata": {
                "language": "sql",
                "azdata_cell_guid": "fea053b7-5a79-42a3-a922-ef8cefee91cb"
            },
            "attachments": {
                "09-union.PNG": {
                    "image/png": "[encoded data removed]"
                }
            }
        },
        {
            "cell_type": "code",
            "source": [
                "SELECT id_artista \r\n",
                "FROM tabla_artista \r\n",
                "UNION \r\n",
                "SELECT id_artista \r\n",
                "FROM tabla_album;"
            ],
            "metadata": {
                "language": "sql",
                "azdata_cell_guid": "4e12d9e6-6fe8-46e0-ad8b-fd50d5e3bc1f"
            },
            "outputs": [
                {
                    "output_type": "display_data",
                    "data": {
                        "text/html": "(4 row(s) affected)"
                    },
                    "metadata": {}
                },
                {
                    "output_type": "display_data",
                    "data": {
                        "text/html": "Total execution time: 00:00:01.013"
                    },
                    "metadata": {}
                },
                {
                    "output_type": "execute_result",
                    "metadata": {},
                    "execution_count": 12,
                    "data": {
                        "application/vnd.dataresource+json": {
                            "schema": {
                                "fields": [
                                    {
                                        "name": "id_artista"
                                    }
                                ]
                            },
                            "data": [
                                {
                                    "id_artista": "1"
                                },
                                {
                                    "id_artista": "2"
                                },
                                {
                                    "id_artista": "3"
                                },
                                {
                                    "id_artista": "6"
                                }
                            ]
                        },
                        "text/html": [
                            "<table>",
                            "<tr><th>id_artista</th></tr>",
                            "<tr><td>1</td></tr>",
                            "<tr><td>2</td></tr>",
                            "<tr><td>3</td></tr>",
                            "<tr><td>6</td></tr>",
                            "</table>"
                        ]
                    }
                }
            ],
            "execution_count": 12
        },
        {
            "cell_type": "markdown",
            "source": [
                "## UNION ALL\n",
                "\n",
                "El operador UNION ALL funciona igual que UNION, pero devuelve valores duplicados. Las mismas restricciones de UNION se aplican a UNION ALL.\n",
                "\n",
                "![10-union_all.PNG](attachment:10-union_all.PNG)"
            ],
            "metadata": {
                "language": "sql",
                "azdata_cell_guid": "eab36cfa-8a1f-48c5-af75-d41b42240de1"
            },
            "attachments": {
                "10-union_all.PNG": {
                    "image/png": "[encoded data removed]"
                }
            }
        },
        {
            "cell_type": "code",
            "source": [
                "SELECT id_artista \r\n",
                "FROM tabla_artista \r\n",
                "UNION ALL \r\n",
                "SELECT id_artista \r\n",
                "FROM tabla_album;"
            ],
            "metadata": {
                "language": "sql",
                "azdata_cell_guid": "4865e76f-146a-4330-8082-0877f39d0a13"
            },
            "outputs": [
                {
                    "output_type": "display_data",
                    "data": {
                        "text/html": "(8 row(s) affected)"
                    },
                    "metadata": {}
                },
                {
                    "output_type": "display_data",
                    "data": {
                        "text/html": "Total execution time: 00:00:01.010"
                    },
                    "metadata": {}
                },
                {
                    "output_type": "execute_result",
                    "metadata": {},
                    "execution_count": 13,
                    "data": {
                        "application/vnd.dataresource+json": {
                            "schema": {
                                "fields": [
                                    {
                                        "name": "id_artista"
                                    }
                                ]
                            },
                            "data": [
                                {
                                    "id_artista": "1"
                                },
                                {
                                    "id_artista": "2"
                                },
                                {
                                    "id_artista": "3"
                                },
                                {
                                    "id_artista": "1"
                                },
                                {
                                    "id_artista": "2"
                                },
                                {
                                    "id_artista": "2"
                                },
                                {
                                    "id_artista": "1"
                                },
                                {
                                    "id_artista": "6"
                                }
                            ]
                        },
                        "text/html": [
                            "<table>",
                            "<tr><th>id_artista</th></tr>",
                            "<tr><td>1</td></tr>",
                            "<tr><td>2</td></tr>",
                            "<tr><td>3</td></tr>",
                            "<tr><td>1</td></tr>",
                            "<tr><td>2</td></tr>",
                            "<tr><td>2</td></tr>",
                            "<tr><td>1</td></tr>",
                            "<tr><td>6</td></tr>",
                            "</table>"
                        ]
                    }
                }
            ],
            "execution_count": 13
        },
        {
            "cell_type": "markdown",
            "source": [
                "## INTERSECT\n",
                "\n",
                "El operador INTERSECT sólo devuelve filas idénticas de dos tablas.\n",
                "![11-intersect.PNG](attachment:11-intersect.PNG)"
            ],
            "metadata": {
                "language": "sql",
                "azdata_cell_guid": "df438948-dd18-4362-b362-fac4b64fb34c"
            },
            "attachments": {
                "11-intersect.PNG": {
                    "image/png": "[encoded data removed]"
                }
            }
        },
        {
            "cell_type": "code",
            "source": [
                "SELECT id_artista \r\n",
                "FROM tabla_artista \r\n",
                "EXCEPT \r\n",
                "SELECT id_artista \r\n",
                "FROM tabla_album;"
            ],
            "metadata": {
                "language": "sql",
                "azdata_cell_guid": "4f69253c-dbc9-461c-a84d-b1be9155d050"
            },
            "outputs": [
                {
                    "output_type": "display_data",
                    "data": {
                        "text/html": "(1 row(s) affected)"
                    },
                    "metadata": {}
                },
                {
                    "output_type": "display_data",
                    "data": {
                        "text/html": "Total execution time: 00:00:01.010"
                    },
                    "metadata": {}
                },
                {
                    "output_type": "execute_result",
                    "metadata": {},
                    "execution_count": 14,
                    "data": {
                        "application/vnd.dataresource+json": {
                            "schema": {
                                "fields": [
                                    {
                                        "name": "id_artista"
                                    }
                                ]
                            },
                            "data": [
                                {
                                    "id_artista": "3"
                                }
                            ]
                        },
                        "text/html": [
                            "<table>",
                            "<tr><th>id_artista</th></tr>",
                            "<tr><td>3</td></tr>",
                            "</table>"
                        ]
                    }
                }
            ],
            "execution_count": 14
        },
        {
            "cell_type": "markdown",
            "source": [
                "## SEMI JOIN\n",
                "\n",
                "Una semiunión selecciona los registros de la primera tabla cuando se cumple una condición en la segunda tabla. Un semi join utiliza <span style=\"color: var(--vscode-foreground);\">una cláusula para utilizar la segunda tabla como filtro de la primera.</span>\n",
                "![12-semi_union.PNG](attachment:12-semi_union.PNG)"
            ],
            "metadata": {
                "language": "sql",
                "azdata_cell_guid": "877e1286-5d3a-4984-8f2e-8a823c43b6d8"
            },
            "attachments": {
                "12-semi_union.PNG": {
                    "image/png": "[encoded data removed]"
                }
            }
        },
        {
            "cell_type": "code",
            "source": [
                "SELECT *\r\n",
                "FROM tabla_album\r\n",
                "WHERE id_artista IN\r\n",
                "(SELECT id_artista\r\n",
                "FROM tabla_artista);"
            ],
            "metadata": {
                "language": "sql",
                "azdata_cell_guid": "5b5b0f2f-6571-4b41-8523-aa6c92832398"
            },
            "outputs": [
                {
                    "output_type": "display_data",
                    "data": {
                        "text/html": "(4 row(s) affected)"
                    },
                    "metadata": {}
                },
                {
                    "output_type": "display_data",
                    "data": {
                        "text/html": "Total execution time: 00:00:01.019"
                    },
                    "metadata": {}
                },
                {
                    "output_type": "execute_result",
                    "metadata": {},
                    "execution_count": 15,
                    "data": {
                        "application/vnd.dataresource+json": {
                            "schema": {
                                "fields": [
                                    {
                                        "name": "id_album"
                                    },
                                    {
                                        "name": "titulo"
                                    },
                                    {
                                        "name": "id_artista"
                                    }
                                ]
                            },
                            "data": [
                                {
                                    "id_album": "1",
                                    "titulo": "For those who rock",
                                    "id_artista": "1"
                                },
                                {
                                    "id_album": "2",
                                    "titulo": "Dream on",
                                    "id_artista": "2"
                                },
                                {
                                    "id_album": "3",
                                    "titulo": "Restless and wild",
                                    "id_artista": "2"
                                },
                                {
                                    "id_album": "4",
                                    "titulo": "Let there be rock",
                                    "id_artista": "1"
                                }
                            ]
                        },
                        "text/html": [
                            "<table>",
                            "<tr><th>id_album</th><th>titulo</th><th>id_artista</th></tr>",
                            "<tr><td>1</td><td>For those who rock</td><td>1</td></tr>",
                            "<tr><td>2</td><td>Dream on</td><td>2</td></tr>",
                            "<tr><td>3</td><td>Restless and wild</td><td>2</td></tr>",
                            "<tr><td>4</td><td>Let there be rock</td><td>1</td></tr>",
                            "</table>"
                        ]
                    }
                }
            ],
            "execution_count": 15
        },
        {
            "cell_type": "markdown",
            "source": [
                "## ANTI JOIN\n",
                "\n",
                "La ANTI JOIN selecciona los registros de la primera tabla cuando se cumple una condición en la segunda tabla. Utiliza <span style=\"color: var(--vscode-foreground);\">una cláusula para excluir valores de la segunda tabla.</span>\n",
                "![13-anti_join.PNG](attachment:13-anti_join.PNG)"
            ],
            "metadata": {
                "language": "sql",
                "azdata_cell_guid": "52a36756-fcc2-4f89-9494-88f712c86201"
            },
            "attachments": {
                "13-anti_join.PNG": {
                    "image/png": "[encoded data removed]"
                }
            }
        },
        {
            "cell_type": "code",
            "source": [
                "SELECT *\r\n",
                "FROM tabla_album\r\n",
                "WHERE id_artista NOT IN\r\n",
                "(SELECT id_artista\r\n",
                "FROM tabla_artista);"
            ],
            "metadata": {
                "language": "sql",
                "azdata_cell_guid": "2768bef6-781b-4c45-8f0a-6263d87b8007"
            },
            "outputs": [
                {
                    "output_type": "display_data",
                    "data": {
                        "text/html": "(1 row(s) affected)"
                    },
                    "metadata": {}
                },
                {
                    "output_type": "display_data",
                    "data": {
                        "text/html": "Total execution time: 00:00:01.018"
                    },
                    "metadata": {}
                },
                {
                    "output_type": "execute_result",
                    "metadata": {},
                    "execution_count": 16,
                    "data": {
                        "application/vnd.dataresource+json": {
                            "schema": {
                                "fields": [
                                    {
                                        "name": "id_album"
                                    },
                                    {
                                        "name": "titulo"
                                    },
                                    {
                                        "name": "id_artista"
                                    }
                                ]
                            },
                            "data": [
                                {
                                    "id_album": "5",
                                    "titulo": "Rumours",
                                    "id_artista": "6"
                                }
                            ]
                        },
                        "text/html": [
                            "<table>",
                            "<tr><th>id_album</th><th>titulo</th><th>id_artista</th></tr>",
                            "<tr><td>5</td><td>Rumours</td><td>6</td></tr>",
                            "</table>"
                        ]
                    }
                }
            ],
            "execution_count": 16
        }
    ]
}