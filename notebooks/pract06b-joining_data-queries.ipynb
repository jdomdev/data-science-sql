{
    "metadata": {
        "kernelspec": {
            "name": "SQL",
            "display_name": "SQL",
            "language": "sql"
        },
        "language_info": {
            "name": "sql",
            "version": ""
        }
    },
    "nbformat_minor": 2,
    "nbformat": 4,
    "cells": [
        {
            "cell_type": "markdown",
            "source": [
                "## Unir datos en SQL\n",
                "\n",
                "### Aprender SQL en línea en www.DataCamp.com  \n",
                "Guía"
            ],
            "metadata": {
                "azdata_cell_guid": "d7bc0628-11af-44de-a4f0-3b8653ecf79e"
            },
            "attachments": {}
        },
        {
            "cell_type": "markdown",
            "source": [
                "## Definiciones utilizadas a lo largo de esta guía\n",
                "\n",
                "**Clave primaria (primary key)**: \n",
                "\n",
                "<span style=\"color: var(--vscode-foreground);\">Una clave primaria es un campo en una tabla que identifica de forma única cada registro en la tabla. En bases de datos relacionales, las claves primarias se pueden utilizar como campos para unir tablas.&nbsp;</span> \n",
                "\n",
                "<span style=\"color: var(--vscode-foreground);\"><b>Clave externa (foreign key)</b>:&nbsp;</span> \n",
                "\n",
                "<span style=\"color: var(--vscode-foreground);\">Una clave externa es un campo en una tabla que hace referencia a la clave primaria de otra tabla. En una base de datos relacional, una forma de unir dos tablas es conectando la clave externa de una tabla con la clave primaria de otra.&nbsp;</span> \n",
                "\n",
                "<span style=\"color: var(--vscode-foreground);\"><b>Relación uno a uno (One-to-One relationship)</b>:&nbsp;</span> \n",
                "\n",
                "<span style=\"color: var(--vscode-foreground);\">Las relaciones de base de datos describen las relaciones entre registros en diferentes tablas. Cuando existe una relación uno a uno entre dos tablas, un registro dado en una tabla está relacionado de forma única con exactamente un registro en la otra tabla.&nbsp;</span> \n",
                "\n",
                "<span style=\"color: var(--vscode-foreground);\"><b>Relación uno a muchos (One-to-Many relationship)</b>:&nbsp;</span> \n",
                "\n",
                "<span style=\"color: var(--vscode-foreground);\">En una relación uno a muchos, un registro en una tabla puede estar relacionado con uno o más registros en una segunda tabla. Sin embargo, un registro dado en la segunda tabla solo estará relacionado con un registro en la primera tabla.&nbsp;</span> \n",
                "\n",
                "<span style=\"color: var(--vscode-foreground);\"><b>Relación muchos a muchos (Many-to-Many relationship)</b>:&nbsp;</span> \n",
                "\n",
                "<span style=\"color: var(--vscode-foreground);\">En una relación muchos a muchos, los registros en una tabla dada 'A' pueden estar relacionados con uno o más registros en otra tabla 'B', y los registros en la tabla B también pueden estar relacionados con muchos registros en la tabla A</span>"
            ],
            "metadata": {
                "azdata_cell_guid": "7e32e684-94da-4e66-bff6-d3d0a4e70efe"
            },
            "attachments": {}
        },
        {
            "cell_type": "markdown",
            "source": [
                "## Datos de muestra"
            ],
            "metadata": {
                "azdata_cell_guid": "c9d0ab19-5f4a-40ea-bba2-906228a652c0"
            },
            "attachments": {}
        }
    ]
}