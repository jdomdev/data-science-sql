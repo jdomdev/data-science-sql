{
    "metadata": {
        "kernelspec": {
            "name": "SQL",
            "display_name": "SQL",
            "language": "sql"
        },
        "language_info": {
            "name": "sql",
            "version": ""
        }
    },
    "nbformat_minor": 2,
    "nbformat": 4,
    "cells": [
        {
            "cell_type": "markdown",
            "source": [
                "# Practica 12 - Funciones esenciales en SQL"
            ],
            "metadata": {
                "azdata_cell_guid": "340994e9-49a9-469b-ae0b-edbfb84e7052"
            },
            "attachments": {}
        },
        {
            "cell_type": "markdown",
            "source": [
                "## Parte 1. Responder utilizando el schema **base.sql**"
            ],
            "metadata": {
                "azdata_cell_guid": "7d5c20f0-61e7-4846-94db-5bb6c9154d1a"
            },
            "attachments": {}
        },
        {
            "cell_type": "markdown",
            "source": [
                "## Funciones String & Fecha"
            ],
            "metadata": {
                "azdata_cell_guid": "6ed64a62-e15f-43ed-b81b-3a159413d8de"
            },
            "attachments": {}
        },
        {
            "cell_type": "markdown",
            "source": [
                "**1\\. ¿Cuál es el nombre y apellido más largo de nuestros vendedores?**"
            ],
            "metadata": {
                "azdata_cell_guid": "d1a88cf2-a322-4ebe-a9b9-decc60f2cdda"
            },
            "attachments": {}
        },
        {
            "cell_type": "code",
            "source": [
                "USE base;\r\n",
                "SELECT MAX(LENGTH(Concat(Nombre,\" \",Apellido))) AS Max_longitud, Nombre, Apellido\r\n",
                "FROM vendedor\r\n",
                "GROUP BY Nombre, Apellido\r\n",
                "ORDER BY LENGTH(Nombre) + LENGTH(Apellido) DESC\r\n",
                "LIMIT 1;"
            ],
            "metadata": {
                "azdata_cell_guid": "dd12b97c-e864-42de-82cb-d8666dae007d",
                "language": "sql"
            },
            "outputs": [
                {
                    "output_type": "display_data",
                    "data": {
                        "text/html": "Commands completed successfully"
                    },
                    "metadata": {}
                },
                {
                    "output_type": "display_data",
                    "data": {
                        "text/html": "(1 row(s) affected)"
                    },
                    "metadata": {}
                },
                {
                    "output_type": "display_data",
                    "data": {
                        "text/html": "Total execution time: 00:00:01.013"
                    },
                    "metadata": {}
                },
                {
                    "output_type": "execute_result",
                    "execution_count": 18,
                    "data": {
                        "application/vnd.dataresource+json": {
                            "schema": {
                                "fields": [
                                    {
                                        "name": "Max_longitud"
                                    },
                                    {
                                        "name": "Nombre"
                                    },
                                    {
                                        "name": "Apellido"
                                    }
                                ]
                            },
                            "data": [
                                {
                                    "Max_longitud": "23",
                                    "Nombre": "FRANCISCO JAVIER",
                                    "Apellido": "GARCIA"
                                }
                            ]
                        },
                        "text/html": "<table><tr><th>Max_longitud</th><th>Nombre</th><th>Apellido</th></tr><tr><td>23</td><td>FRANCISCO JAVIER</td><td>GARCIA</td></tr></table>"
                    },
                    "metadata": {}
                }
            ],
            "execution_count": 18
        },
        {
            "cell_type": "markdown",
            "source": [
                "**2\\. Obtener las ventas totales para los últimos 3 años**"
            ],
            "metadata": {
                "language": "sql",
                "azdata_cell_guid": "945251e9-3b9a-4ca3-b879-85741d25ea5b"
            },
            "attachments": {}
        },
        {
            "cell_type": "code",
            "source": [
                "USE base;\r\n",
                "\r\n",
                "SELECT YEAR(STR_TO_DATE(`Fecha venta`, '%d-%b-%y')) AS Año, SUM(Venta) AS Total_Ventas\r\n",
                "FROM ventas\r\n",
                "WHERE STR_TO_DATE(`Fecha venta`, '%d-%b-%y') IS NOT NULL\r\n",
                "AND STR_TO_DATE(`Fecha venta`, '%d-%b-%y') >= DATE_SUB(CURDATE(), INTERVAL 6 YEAR)\r\n",
                "GROUP BY Año\r\n",
                "ORDER BY Año DESC;\r\n",
                ""
            ],
            "metadata": {
                "language": "sql",
                "azdata_cell_guid": "7c0804ce-0af2-4d6d-88c0-dac7bd100847"
            },
            "outputs": [
                {
                    "output_type": "display_data",
                    "data": {
                        "text/html": "Commands completed successfully"
                    },
                    "metadata": {}
                },
                {
                    "output_type": "display_data",
                    "data": {
                        "text/html": "(2 row(s) affected)"
                    },
                    "metadata": {}
                },
                {
                    "output_type": "display_data",
                    "data": {
                        "text/html": "Total execution time: 00:00:01.018"
                    },
                    "metadata": {}
                },
                {
                    "output_type": "execute_result",
                    "execution_count": 16,
                    "data": {
                        "application/vnd.dataresource+json": {
                            "schema": {
                                "fields": [
                                    {
                                        "name": "Año"
                                    },
                                    {
                                        "name": "Total_Ventas"
                                    }
                                ]
                            },
                            "data": [
                                {
                                    "Año": "2019",
                                    "Total_Ventas": "366842592"
                                },
                                {
                                    "Año": "2018",
                                    "Total_Ventas": "701476971"
                                }
                            ]
                        },
                        "text/html": "<table><tr><th>Año</th><th>Total_Ventas</th></tr><tr><td>2019</td><td>366842592</td></tr><tr><td>2018</td><td>701476971</td></tr></table>"
                    },
                    "metadata": {}
                }
            ],
            "execution_count": 16
        },
        {
            "cell_type": "markdown",
            "source": [
                "## Condicional IF"
            ],
            "metadata": {
                "language": "sql",
                "azdata_cell_guid": "58b9ed6b-9884-4c56-a813-8d731646fb70"
            },
            "attachments": {}
        },
        {
            "cell_type": "markdown",
            "source": [
                "**3\\. Genera una lista para dar seguimiento a las ventas mayores a $ 2.9 M en 2019**"
            ],
            "metadata": {
                "language": "sql",
                "azdata_cell_guid": "11763f1c-809f-4847-9b31-5ff0d0d8d177"
            },
            "attachments": {}
        },
        {
            "cell_type": "code",
            "source": [
                "SELECT *, \r\n",
                "  IF(Venta > 2900000, 'Mayor_2.9', 'Menor_2.9') AS Seguimiento \r\n",
                "FROM ventas \r\n",
                "WHERE YEAR(STR_TO_DATE(`Fecha venta`, '%d-%b-%y')) = 2019;"
            ],
            "metadata": {
                "language": "sql",
                "azdata_cell_guid": "28e3062e-2fcd-4f84-bf36-601d7c70f178"
            },
            "outputs": [
                {
                    "output_type": "display_data",
                    "data": {
                        "text/html": "(313 row(s) affected)"
                    },
                    "metadata": {}
                },
                {
                    "output_type": "display_data",
                    "data": {
                        "text/html": "Total execution time: 00:00:01.008"
                    },
                    "metadata": {}
                },
                {
                    "output_type": "execute_result",
                    "execution_count": 17,
                    "data": {
                        "application/vnd.dataresource+json": {
                            "schema": {
                                "fields": [
                                    {
                                        "name": "ID_Venta"
                                    },
                                    {
                                        "name": "Fecha venta"
                                    },
                                    {
                                        "name": "ID_producto"
                                    },
                                    {
                                        "name": "ID_Zona"
                                    },
                                    {
                                        "name": "Venta"
                                    },
                                    {
                                        "name": "ID_Vendedor"
                                    },
                                    {
                                        "name": "ID_Cliente"
                                    },
                                    {
                                        "name": "Seguimiento"
                                    }
                                ]
                            },
                            "data": [
                                {
                                    "ID_Venta": "3025",
                                    "Fecha venta": "1-Jan-19",
                                    "ID_producto": "3",
                                    "ID_Zona": "1",
                                    "Venta": "2662784",
                                    "ID_Vendedor": "26",
                                    "ID_Cliente": "2",
                                    "Seguimiento": "Menor_2.9"
                                },
                                {
                                    "ID_Venta": "3026",
                                    "Fecha venta": "1-Jan-19",
                                    "ID_producto": "2",
                                    "ID_Zona": "1",
                                    "Venta": "821748",
                                    "ID_Vendedor": "40",
                                    "ID_Cliente": "10",
                                    "Seguimiento": "Menor_2.9"
                                },
                                {
                                    "ID_Venta": "3027",
                                    "Fecha venta": "1-Feb-19",
                                    "ID_producto": "2",
                                    "ID_Zona": "1",
                                    "Venta": "1335499",
                                    "ID_Vendedor": "38",
                                    "ID_Cliente": "9",
                                    "Seguimiento": "Menor_2.9"
                                },
                                {
                                    "ID_Venta": "3028",
                                    "Fecha venta": "1-Mar-19",
                                    "ID_producto": "1",
                                    "ID_Zona": "2",
                                    "Venta": "2398617",
                                    "ID_Vendedor": "7",
                                    "ID_Cliente": "7",
                                    "Seguimiento": "Menor_2.9"
                                },
                                {
                                    "ID_Venta": "3029",
                                    "Fecha venta": "1-Mar-19",
                                    "ID_producto": "3",
                                    "ID_Zona": "1",
                                    "Venta": "486416",
                                    "ID_Vendedor": "15",
                                    "ID_Cliente": "8",
                                    "Seguimiento": "Menor_2.9"
                                },
                                {
                                    "ID_Venta": "3030",
                                    "Fecha venta": "1-Apr-19",
                                    "ID_producto": "4",
                                    "ID_Zona": "2",
                                    "Venta": "429730",
                                    "ID_Vendedor": "49",
                                    "ID_Cliente": "6",
                                    "Seguimiento": "Menor_2.9"
                                },
                                {
                                    "ID_Venta": "3031",
                                    "Fecha venta": "1-Apr-19",
                                    "ID_producto": "5",
                                    "ID_Zona": "1",
                                    "Venta": "904344",
                                    "ID_Vendedor": "49",
                                    "ID_Cliente": "8",
                                    "Seguimiento": "Menor_2.9"
                                },
                                {
                                    "ID_Venta": "3032",
                                    "Fecha venta": "1-May-19",
                                    "ID_producto": "4",
                                    "ID_Zona": "3",
                                    "Venta": "643200",
                                    "ID_Vendedor": "47",
                                    "ID_Cliente": "2",
                                    "Seguimiento": "Menor_2.9"
                                },
                                {
                                    "ID_Venta": "3033",
                                    "Fecha venta": "1-May-19",
                                    "ID_producto": "5",
                                    "ID_Zona": "2",
                                    "Venta": "571676",
                                    "ID_Vendedor": "28",
                                    "ID_Cliente": "7",
                                    "Seguimiento": "Menor_2.9"
                                },
                                {
                                    "ID_Venta": "3034",
                                    "Fecha venta": "1-May-19",
                                    "ID_producto": "4",
                                    "ID_Zona": "1",
                                    "Venta": "885960",
                                    "ID_Vendedor": "44",
                                    "ID_Cliente": "9",
                                    "Seguimiento": "Menor_2.9"
                                },
                                {
                                    "ID_Venta": "3035",
                                    "Fecha venta": "1-May-19",
                                    "ID_producto": "4",
                                    "ID_Zona": "1",
                                    "Venta": "1520119",
                                    "ID_Vendedor": "38",
                                    "ID_Cliente": "2",
                                    "Seguimiento": "Menor_2.9"
                                },
                                {
                                    "ID_Venta": "3036",
                                    "Fecha venta": "1-Jun-19",
                                    "ID_producto": "4",
                                    "ID_Zona": "3",
                                    "Venta": "1895036",
                                    "ID_Vendedor": "24",
                                    "ID_Cliente": "1",
                                    "Seguimiento": "Menor_2.9"
                                },
                                {
                                    "ID_Venta": "3037",
                                    "Fecha venta": "1-Jun-19",
                                    "ID_producto": "3",
                                    "ID_Zona": "4",
                                    "Venta": "1022140",
                                    "ID_Vendedor": "8",
                                    "ID_Cliente": "4",
                                    "Seguimiento": "Menor_2.9"
                                },
                                {
                                    "ID_Venta": "3038",
                                    "Fecha venta": "1-Jun-19",
                                    "ID_producto": "4",
                                    "ID_Zona": "3",
                                    "Venta": "862634",
                                    "ID_Vendedor": "21",
                                    "ID_Cliente": "8",
                                    "Seguimiento": "Menor_2.9"
                                },
                                {
                                    "ID_Venta": "3039",
                                    "Fecha venta": "1-Jun-19",
                                    "ID_producto": "4",
                                    "ID_Zona": "4",
                                    "Venta": "1156990",
                                    "ID_Vendedor": "24",
                                    "ID_Cliente": "10",
                                    "Seguimiento": "Menor_2.9"
                                },
                                {
                                    "ID_Venta": "3040",
                                    "Fecha venta": "1-Jun-19",
                                    "ID_producto": "4",
                                    "ID_Zona": "1",
                                    "Venta": "1108128",
                                    "ID_Vendedor": "25",
                                    "ID_Cliente": "2",
                                    "Seguimiento": "Menor_2.9"
                                },
                                {
                                    "ID_Venta": "3041",
                                    "Fecha venta": "1-Jun-19",
                                    "ID_producto": "3",
                                    "ID_Zona": "3",
                                    "Venta": "713250",
                                    "ID_Vendedor": "1",
                                    "ID_Cliente": "6",
                                    "Seguimiento": "Menor_2.9"
                                },
                                {
                                    "ID_Venta": "3042",
                                    "Fecha venta": "1-Jun-19",
                                    "ID_producto": "1",
                                    "ID_Zona": "4",
                                    "Venta": "610816",
                                    "ID_Vendedor": "2",
                                    "ID_Cliente": "1",
                                    "Seguimiento": "Menor_2.9"
                                },
                                {
                                    "ID_Venta": "3043",
                                    "Fecha venta": "1-Jun-19",
                                    "ID_producto": "2",
                                    "ID_Zona": "1",
                                    "Venta": "709596",
                                    "ID_Vendedor": "32",
                                    "ID_Cliente": "6",
                                    "Seguimiento": "Menor_2.9"
                                },
                                {
                                    "ID_Venta": "3044",
                                    "Fecha venta": "1-Jun-19",
                                    "ID_producto": "3",
                                    "ID_Zona": "1",
                                    "Venta": "1635413",
                                    "ID_Vendedor": "20",
                                    "ID_Cliente": "4",
                                    "Seguimiento": "Menor_2.9"
                                },
                                {
                                    "ID_Venta": "3045",
                                    "Fecha venta": "1-Jul-19",
                                    "ID_producto": "6",
                                    "ID_Zona": "4",
                                    "Venta": "1296258",
                                    "ID_Vendedor": "14",
                                    "ID_Cliente": "4",
                                    "Seguimiento": "Menor_2.9"
                                },
                                {
                                    "ID_Venta": "3046",
                                    "Fecha venta": "1-Jul-19",
                                    "ID_producto": "1",
                                    "ID_Zona": "4",
                                    "Venta": "1077858",
                                    "ID_Vendedor": "34",
                                    "ID_Cliente": "3",
                                    "Seguimiento": "Menor_2.9"
                                },
                                {
                                    "ID_Venta": "3047",
                                    "Fecha venta": "1-Jul-19",
                                    "ID_producto": "3",
                                    "ID_Zona": "4",
                                    "Venta": "1880032",
                                    "ID_Vendedor": "31",
                                    "ID_Cliente": "4",
                                    "Seguimiento": "Menor_2.9"
                                },
                                {
                                    "ID_Venta": "3048",
                                    "Fecha venta": "1-Jul-19",
                                    "ID_producto": "2",
                                    "ID_Zona": "1",
                                    "Venta": "1934080",
                                    "ID_Vendedor": "47",
                                    "ID_Cliente": "3",
                                    "Seguimiento": "Menor_2.9"
                                },
                                {
                                    "ID_Venta": "3049",
                                    "Fecha venta": "1-Jul-19",
                                    "ID_producto": "4",
                                    "ID_Zona": "2",
                                    "Venta": "269724",
                                    "ID_Vendedor": "2",
                                    "ID_Cliente": "4",
                                    "Seguimiento": "Menor_2.9"
                                },
                                {
                                    "ID_Venta": "3050",
                                    "Fecha venta": "1-Aug-19",
                                    "ID_producto": "3",
                                    "ID_Zona": "4",
                                    "Venta": "440500",
                                    "ID_Vendedor": "11",
                                    "ID_Cliente": "10",
                                    "Seguimiento": "Menor_2.9"
                                },
                                {
                                    "ID_Venta": "3051",
                                    "Fecha venta": "1-Aug-19",
                                    "ID_producto": "4",
                                    "ID_Zona": "4",
                                    "Venta": "1369333",
                                    "ID_Vendedor": "24",
                                    "ID_Cliente": "5",
                                    "Seguimiento": "Menor_2.9"
                                },
                                {
                                    "ID_Venta": "3052",
                                    "Fecha venta": "1-Aug-19",
                                    "ID_producto": "2",
                                    "ID_Zona": "2",
                                    "Venta": "1965472",
                                    "ID_Vendedor": "9",
                                    "ID_Cliente": "3",
                                    "Seguimiento": "Menor_2.9"
                                },
                                {
                                    "ID_Venta": "3053",
                                    "Fecha venta": "1-Sep-19",
                                    "ID_producto": "6",
                                    "ID_Zona": "2",
                                    "Venta": "1425488",
                                    "ID_Vendedor": "43",
                                    "ID_Cliente": "2",
                                    "Seguimiento": "Menor_2.9"
                                },
                                {
                                    "ID_Venta": "3054",
                                    "Fecha venta": "1-Sep-19",
                                    "ID_producto": "4",
                                    "ID_Zona": "1",
                                    "Venta": "896800",
                                    "ID_Vendedor": "15",
                                    "ID_Cliente": "9",
                                    "Seguimiento": "Menor_2.9"
                                },
                                {
                                    "ID_Venta": "3055",
                                    "Fecha venta": "1-Sep-19",
                                    "ID_producto": "6",
                                    "ID_Zona": "3",
                                    "Venta": "2204352",
                                    "ID_Vendedor": "38",
                                    "ID_Cliente": "2",
                                    "Seguimiento": "Menor_2.9"
                                },
                                {
                                    "ID_Venta": "3056",
                                    "Fecha venta": "1-Oct-19",
                                    "ID_producto": "6",
                                    "ID_Zona": "4",
                                    "Venta": "511700",
                                    "ID_Vendedor": "32",
                                    "ID_Cliente": "4",
                                    "Seguimiento": "Menor_2.9"
                                },
                                {
                                    "ID_Venta": "3057",
                                    "Fecha venta": "1-Oct-19",
                                    "ID_producto": "4",
                                    "ID_Zona": "4",
                                    "Venta": "1578675",
                                    "ID_Vendedor": "8",
                                    "ID_Cliente": "1",
                                    "Seguimiento": "Menor_2.9"
                                },
                                {
                                    "ID_Venta": "3058",
                                    "Fecha venta": "1-Oct-19",
                                    "ID_producto": "6",
                                    "ID_Zona": "1",
                                    "Venta": "730452",
                                    "ID_Vendedor": "25",
                                    "ID_Cliente": "9",
                                    "Seguimiento": "Menor_2.9"
                                },
                                {
                                    "ID_Venta": "3059",
                                    "Fecha venta": "1-Nov-19",
                                    "ID_producto": "4",
                                    "ID_Zona": "1",
                                    "Venta": "2797050",
                                    "ID_Vendedor": "33",
                                    "ID_Cliente": "4",
                                    "Seguimiento": "Menor_2.9"
                                },
                                {
                                    "ID_Venta": "3060",
                                    "Fecha venta": "1-Nov-19",
                                    "ID_producto": "4",
                                    "ID_Zona": "4",
                                    "Venta": "2427311",
                                    "ID_Vendedor": "20",
                                    "ID_Cliente": "4",
                                    "Seguimiento": "Menor_2.9"
                                },
                                {
                                    "ID_Venta": "3061",
                                    "Fecha venta": "1-Nov-19",
                                    "ID_producto": "6",
                                    "ID_Zona": "2",
                                    "Venta": "932292",
                                    "ID_Vendedor": "29",
                                    "ID_Cliente": "1",
                                    "Seguimiento": "Menor_2.9"
                                },
                                {
                                    "ID_Venta": "3062",
                                    "Fecha venta": "1-Nov-19",
                                    "ID_producto": "5",
                                    "ID_Zona": "3",
                                    "Venta": "373240",
                                    "ID_Vendedor": "32",
                                    "ID_Cliente": "3",
                                    "Seguimiento": "Menor_2.9"
                                },
                                {
                                    "ID_Venta": "3063",
                                    "Fecha venta": "1-Dec-19",
                                    "ID_producto": "1",
                                    "ID_Zona": "4",
                                    "Venta": "537825",
                                    "ID_Vendedor": "43",
                                    "ID_Cliente": "5",
                                    "Seguimiento": "Menor_2.9"
                                },
                                {
                                    "ID_Venta": "3064",
                                    "Fecha venta": "1-Dec-19",
                                    "ID_producto": "6",
                                    "ID_Zona": "4",
                                    "Venta": "761520",
                                    "ID_Vendedor": "14",
                                    "ID_Cliente": "8",
                                    "Seguimiento": "Menor_2.9"
                                },
                                {
                                    "ID_Venta": "3065",
                                    "Fecha venta": "1-Dec-19",
                                    "ID_producto": "1",
                                    "ID_Zona": "3",
                                    "Venta": "1486030",
                                    "ID_Vendedor": "11",
                                    "ID_Cliente": "4",
                                    "Seguimiento": "Menor_2.9"
                                },
                                {
                                    "ID_Venta": "3066",
                                    "Fecha venta": "1-Dec-19",
                                    "ID_producto": "6",
                                    "ID_Zona": "2",
                                    "Venta": "968243",
                                    "ID_Vendedor": "45",
                                    "ID_Cliente": "4",
                                    "Seguimiento": "Menor_2.9"
                                },
                                {
                                    "ID_Venta": "3067",
                                    "Fecha venta": "13-Jan-19",
                                    "ID_producto": "6",
                                    "ID_Zona": "4",
                                    "Venta": "1856000",
                                    "ID_Vendedor": "12",
                                    "ID_Cliente": "6",
                                    "Seguimiento": "Menor_2.9"
                                },
                                {
                                    "ID_Venta": "3068",
                                    "Fecha venta": "14-Jan-19",
                                    "ID_producto": "4",
                                    "ID_Zona": "4",
                                    "Venta": "814380",
                                    "ID_Vendedor": "49",
                                    "ID_Cliente": "4",
                                    "Seguimiento": "Menor_2.9"
                                },
                                {
                                    "ID_Venta": "3069",
                                    "Fecha venta": "14-Jan-19",
                                    "ID_producto": "5",
                                    "ID_Zona": "3",
                                    "Venta": "1230684",
                                    "ID_Vendedor": "9",
                                    "ID_Cliente": "8",
                                    "Seguimiento": "Menor_2.9"
                                },
                                {
                                    "ID_Venta": "3070",
                                    "Fecha venta": "15-Jan-19",
                                    "ID_producto": "1",
                                    "ID_Zona": "2",
                                    "Venta": "1857735",
                                    "ID_Vendedor": "2",
                                    "ID_Cliente": "6",
                                    "Seguimiento": "Menor_2.9"
                                },
                                {
                                    "ID_Venta": "3071",
                                    "Fecha venta": "15-Jan-19",
                                    "ID_producto": "2",
                                    "ID_Zona": "3",
                                    "Venta": "1360268",
                                    "ID_Vendedor": "8",
                                    "ID_Cliente": "7",
                                    "Seguimiento": "Menor_2.9"
                                },
                                {
                                    "ID_Venta": "3072",
                                    "Fecha venta": "15-Jan-19",
                                    "ID_producto": "4",
                                    "ID_Zona": "2",
                                    "Venta": "2291421",
                                    "ID_Vendedor": "8",
                                    "ID_Cliente": "1",
                                    "Seguimiento": "Menor_2.9"
                                },
                                {
                                    "ID_Venta": "3073",
                                    "Fecha venta": "16-Jan-19",
                                    "ID_producto": "4",
                                    "ID_Zona": "3",
                                    "Venta": "1598664",
                                    "ID_Vendedor": "28",
                                    "ID_Cliente": "1",
                                    "Seguimiento": "Menor_2.9"
                                },
                                {
                                    "ID_Venta": "3074",
                                    "Fecha venta": "17-Jan-19",
                                    "ID_producto": "3",
                                    "ID_Zona": "4",
                                    "Venta": "885969",
                                    "ID_Vendedor": "27",
                                    "ID_Cliente": "8",
                                    "Seguimiento": "Menor_2.9"
                                },
                                {
                                    "ID_Venta": "3075",
                                    "Fecha venta": "17-Jan-19",
                                    "ID_producto": "5",
                                    "ID_Zona": "2",
                                    "Venta": "485240",
                                    "ID_Vendedor": "34",
                                    "ID_Cliente": "8",
                                    "Seguimiento": "Menor_2.9"
                                },
                                {
                                    "ID_Venta": "3076",
                                    "Fecha venta": "17-Jan-19",
                                    "ID_producto": "1",
                                    "ID_Zona": "3",
                                    "Venta": "2143368",
                                    "ID_Vendedor": "29",
                                    "ID_Cliente": "7",
                                    "Seguimiento": "Menor_2.9"
                                },
                                {
                                    "ID_Venta": "3077",
                                    "Fecha venta": "17-Jan-19",
                                    "ID_producto": "5",
                                    "ID_Zona": "1",
                                    "Venta": "1570624",
                                    "ID_Vendedor": "12",
                                    "ID_Cliente": "4",
                                    "Seguimiento": "Menor_2.9"
                                },
                                {
                                    "ID_Venta": "3078",
                                    "Fecha venta": "17-Jan-19",
                                    "ID_producto": "5",
                                    "ID_Zona": "4",
                                    "Venta": "1517889",
                                    "ID_Vendedor": "9",
                                    "ID_Cliente": "1",
                                    "Seguimiento": "Menor_2.9"
                                },
                                {
                                    "ID_Venta": "3079",
                                    "Fecha venta": "18-Jan-19",
                                    "ID_producto": "2",
                                    "ID_Zona": "2",
                                    "Venta": "1047917",
                                    "ID_Vendedor": "27",
                                    "ID_Cliente": "4",
                                    "Seguimiento": "Menor_2.9"
                                },
                                {
                                    "ID_Venta": "3080",
                                    "Fecha venta": "18-Jan-19",
                                    "ID_producto": "2",
                                    "ID_Zona": "2",
                                    "Venta": "393736",
                                    "ID_Vendedor": "26",
                                    "ID_Cliente": "8",
                                    "Seguimiento": "Menor_2.9"
                                },
                                {
                                    "ID_Venta": "3081",
                                    "Fecha venta": "18-Jan-19",
                                    "ID_producto": "6",
                                    "ID_Zona": "3",
                                    "Venta": "1491920",
                                    "ID_Vendedor": "40",
                                    "ID_Cliente": "2",
                                    "Seguimiento": "Menor_2.9"
                                },
                                {
                                    "ID_Venta": "3082",
                                    "Fecha venta": "18-Jan-19",
                                    "ID_producto": "1",
                                    "ID_Zona": "4",
                                    "Venta": "1420132",
                                    "ID_Vendedor": "10",
                                    "ID_Cliente": "6",
                                    "Seguimiento": "Menor_2.9"
                                },
                                {
                                    "ID_Venta": "3083",
                                    "Fecha venta": "19-Jan-19",
                                    "ID_producto": "6",
                                    "ID_Zona": "2",
                                    "Venta": "1511944",
                                    "ID_Vendedor": "25",
                                    "ID_Cliente": "5",
                                    "Seguimiento": "Menor_2.9"
                                },
                                {
                                    "ID_Venta": "3084",
                                    "Fecha venta": "20-Jan-19",
                                    "ID_producto": "5",
                                    "ID_Zona": "2",
                                    "Venta": "569098",
                                    "ID_Vendedor": "17",
                                    "ID_Cliente": "1",
                                    "Seguimiento": "Menor_2.9"
                                },
                                {
                                    "ID_Venta": "3085",
                                    "Fecha venta": "20-Jan-19",
                                    "ID_producto": "2",
                                    "ID_Zona": "4",
                                    "Venta": "784080",
                                    "ID_Vendedor": "4",
                                    "ID_Cliente": "7",
                                    "Seguimiento": "Menor_2.9"
                                },
                                {
                                    "ID_Venta": "3086",
                                    "Fecha venta": "20-Jan-19",
                                    "ID_producto": "4",
                                    "ID_Zona": "3",
                                    "Venta": "657270",
                                    "ID_Vendedor": "26",
                                    "ID_Cliente": "10",
                                    "Seguimiento": "Menor_2.9"
                                },
                                {
                                    "ID_Venta": "3087",
                                    "Fecha venta": "20-Jan-19",
                                    "ID_producto": "1",
                                    "ID_Zona": "1",
                                    "Venta": "268332",
                                    "ID_Vendedor": "9",
                                    "ID_Cliente": "4",
                                    "Seguimiento": "Menor_2.9"
                                },
                                {
                                    "ID_Venta": "3088",
                                    "Fecha venta": "20-Jan-19",
                                    "ID_producto": "2",
                                    "ID_Zona": "1",
                                    "Venta": "1677492",
                                    "ID_Vendedor": "10",
                                    "ID_Cliente": "9",
                                    "Seguimiento": "Menor_2.9"
                                },
                                {
                                    "ID_Venta": "3089",
                                    "Fecha venta": "20-Jan-19",
                                    "ID_producto": "5",
                                    "ID_Zona": "2",
                                    "Venta": "1494204",
                                    "ID_Vendedor": "38",
                                    "ID_Cliente": "3",
                                    "Seguimiento": "Menor_2.9"
                                },
                                {
                                    "ID_Venta": "3090",
                                    "Fecha venta": "21-Jan-19",
                                    "ID_producto": "2",
                                    "ID_Zona": "3",
                                    "Venta": "2321325",
                                    "ID_Vendedor": "6",
                                    "ID_Cliente": "6",
                                    "Seguimiento": "Menor_2.9"
                                },
                                {
                                    "ID_Venta": "3091",
                                    "Fecha venta": "22-Jan-19",
                                    "ID_producto": "4",
                                    "ID_Zona": "3",
                                    "Venta": "1896340",
                                    "ID_Vendedor": "41",
                                    "ID_Cliente": "6",
                                    "Seguimiento": "Menor_2.9"
                                },
                                {
                                    "ID_Venta": "3092",
                                    "Fecha venta": "23-Jan-19",
                                    "ID_producto": "1",
                                    "ID_Zona": "4",
                                    "Venta": "1788885",
                                    "ID_Vendedor": "8",
                                    "ID_Cliente": "4",
                                    "Seguimiento": "Menor_2.9"
                                },
                                {
                                    "ID_Venta": "3093",
                                    "Fecha venta": "23-Jan-19",
                                    "ID_producto": "5",
                                    "ID_Zona": "3",
                                    "Venta": "1554336",
                                    "ID_Vendedor": "49",
                                    "ID_Cliente": "3",
                                    "Seguimiento": "Menor_2.9"
                                },
                                {
                                    "ID_Venta": "3094",
                                    "Fecha venta": "23-Jan-19",
                                    "ID_producto": "4",
                                    "ID_Zona": "3",
                                    "Venta": "1086478",
                                    "ID_Vendedor": "13",
                                    "ID_Cliente": "6",
                                    "Seguimiento": "Menor_2.9"
                                },
                                {
                                    "ID_Venta": "3095",
                                    "Fecha venta": "24-Jan-19",
                                    "ID_producto": "2",
                                    "ID_Zona": "2",
                                    "Venta": "302100",
                                    "ID_Vendedor": "45",
                                    "ID_Cliente": "4",
                                    "Seguimiento": "Menor_2.9"
                                },
                                {
                                    "ID_Venta": "3096",
                                    "Fecha venta": "24-Jan-19",
                                    "ID_producto": "5",
                                    "ID_Zona": "1",
                                    "Venta": "2189122",
                                    "ID_Vendedor": "12",
                                    "ID_Cliente": "10",
                                    "Seguimiento": "Menor_2.9"
                                },
                                {
                                    "ID_Venta": "3097",
                                    "Fecha venta": "25-Jan-19",
                                    "ID_producto": "6",
                                    "ID_Zona": "3",
                                    "Venta": "1014928",
                                    "ID_Vendedor": "30",
                                    "ID_Cliente": "1",
                                    "Seguimiento": "Menor_2.9"
                                },
                                {
                                    "ID_Venta": "3098",
                                    "Fecha venta": "26-Jan-19",
                                    "ID_producto": "5",
                                    "ID_Zona": "4",
                                    "Venta": "381254",
                                    "ID_Vendedor": "12",
                                    "ID_Cliente": "1",
                                    "Seguimiento": "Menor_2.9"
                                },
                                {
                                    "ID_Venta": "3099",
                                    "Fecha venta": "26-Jan-19",
                                    "ID_producto": "3",
                                    "ID_Zona": "4",
                                    "Venta": "2563064",
                                    "ID_Vendedor": "38",
                                    "ID_Cliente": "10",
                                    "Seguimiento": "Menor_2.9"
                                },
                                {
                                    "ID_Venta": "3100",
                                    "Fecha venta": "26-Jan-19",
                                    "ID_producto": "1",
                                    "ID_Zona": "4",
                                    "Venta": "1445090",
                                    "ID_Vendedor": "20",
                                    "ID_Cliente": "8",
                                    "Seguimiento": "Menor_2.9"
                                },
                                {
                                    "ID_Venta": "3101",
                                    "Fecha venta": "26-Jan-19",
                                    "ID_producto": "3",
                                    "ID_Zona": "1",
                                    "Venta": "2148783",
                                    "ID_Vendedor": "41",
                                    "ID_Cliente": "4",
                                    "Seguimiento": "Menor_2.9"
                                },
                                {
                                    "ID_Venta": "3102",
                                    "Fecha venta": "27-Jan-19",
                                    "ID_producto": "5",
                                    "ID_Zona": "1",
                                    "Venta": "1295712",
                                    "ID_Vendedor": "41",
                                    "ID_Cliente": "9",
                                    "Seguimiento": "Menor_2.9"
                                },
                                {
                                    "ID_Venta": "3103",
                                    "Fecha venta": "28-Jan-19",
                                    "ID_producto": "4",
                                    "ID_Zona": "4",
                                    "Venta": "921827",
                                    "ID_Vendedor": "15",
                                    "ID_Cliente": "5",
                                    "Seguimiento": "Menor_2.9"
                                },
                                {
                                    "ID_Venta": "3104",
                                    "Fecha venta": "28-Jan-19",
                                    "ID_producto": "4",
                                    "ID_Zona": "3",
                                    "Venta": "915936",
                                    "ID_Vendedor": "36",
                                    "ID_Cliente": "5",
                                    "Seguimiento": "Menor_2.9"
                                },
                                {
                                    "ID_Venta": "3105",
                                    "Fecha venta": "29-Jan-19",
                                    "ID_producto": "6",
                                    "ID_Zona": "3",
                                    "Venta": "659808",
                                    "ID_Vendedor": "26",
                                    "ID_Cliente": "1",
                                    "Seguimiento": "Menor_2.9"
                                },
                                {
                                    "ID_Venta": "3106",
                                    "Fecha venta": "29-Jan-19",
                                    "ID_producto": "5",
                                    "ID_Zona": "2",
                                    "Venta": "1636700",
                                    "ID_Vendedor": "14",
                                    "ID_Cliente": "1",
                                    "Seguimiento": "Menor_2.9"
                                },
                                {
                                    "ID_Venta": "3107",
                                    "Fecha venta": "29-Jan-19",
                                    "ID_producto": "4",
                                    "ID_Zona": "2",
                                    "Venta": "997776",
                                    "ID_Vendedor": "14",
                                    "ID_Cliente": "9",
                                    "Seguimiento": "Menor_2.9"
                                },
                                {
                                    "ID_Venta": "3108",
                                    "Fecha venta": "29-Jan-19",
                                    "ID_producto": "2",
                                    "ID_Zona": "2",
                                    "Venta": "1065995",
                                    "ID_Vendedor": "36",
                                    "ID_Cliente": "6",
                                    "Seguimiento": "Menor_2.9"
                                },
                                {
                                    "ID_Venta": "3109",
                                    "Fecha venta": "30-Jan-19",
                                    "ID_producto": "4",
                                    "ID_Zona": "3",
                                    "Venta": "599604",
                                    "ID_Vendedor": "20",
                                    "ID_Cliente": "1",
                                    "Seguimiento": "Menor_2.9"
                                },
                                {
                                    "ID_Venta": "3110",
                                    "Fecha venta": "30-Jan-19",
                                    "ID_producto": "1",
                                    "ID_Zona": "2",
                                    "Venta": "301346",
                                    "ID_Vendedor": "6",
                                    "ID_Cliente": "9",
                                    "Seguimiento": "Menor_2.9"
                                },
                                {
                                    "ID_Venta": "3111",
                                    "Fecha venta": "30-Jan-19",
                                    "ID_producto": "3",
                                    "ID_Zona": "4",
                                    "Venta": "860676",
                                    "ID_Vendedor": "25",
                                    "ID_Cliente": "10",
                                    "Seguimiento": "Menor_2.9"
                                },
                                {
                                    "ID_Venta": "3112",
                                    "Fecha venta": "30-Jan-19",
                                    "ID_producto": "4",
                                    "ID_Zona": "4",
                                    "Venta": "684356",
                                    "ID_Vendedor": "47",
                                    "ID_Cliente": "10",
                                    "Seguimiento": "Menor_2.9"
                                },
                                {
                                    "ID_Venta": "3113",
                                    "Fecha venta": "31-Jan-19",
                                    "ID_producto": "6",
                                    "ID_Zona": "4",
                                    "Venta": "1005648",
                                    "ID_Vendedor": "17",
                                    "ID_Cliente": "7",
                                    "Seguimiento": "Menor_2.9"
                                },
                                {
                                    "ID_Venta": "3114",
                                    "Fecha venta": "31-Jan-19",
                                    "ID_producto": "4",
                                    "ID_Zona": "4",
                                    "Venta": "1045486",
                                    "ID_Vendedor": "28",
                                    "ID_Cliente": "5",
                                    "Seguimiento": "Menor_2.9"
                                },
                                {
                                    "ID_Venta": "3115",
                                    "Fecha venta": "31-Jan-19",
                                    "ID_producto": "1",
                                    "ID_Zona": "1",
                                    "Venta": "1528906",
                                    "ID_Vendedor": "25",
                                    "ID_Cliente": "1",
                                    "Seguimiento": "Menor_2.9"
                                },
                                {
                                    "ID_Venta": "3116",
                                    "Fecha venta": "2-Jan-19",
                                    "ID_producto": "3",
                                    "ID_Zona": "1",
                                    "Venta": "285136",
                                    "ID_Vendedor": "10",
                                    "ID_Cliente": "1",
                                    "Seguimiento": "Menor_2.9"
                                },
                                {
                                    "ID_Venta": "3117",
                                    "Fecha venta": "2-Jan-19",
                                    "ID_producto": "4",
                                    "ID_Zona": "2",
                                    "Venta": "1431040",
                                    "ID_Vendedor": "26",
                                    "ID_Cliente": "9",
                                    "Seguimiento": "Menor_2.9"
                                },
                                {
                                    "ID_Venta": "3118",
                                    "Fecha venta": "2-Feb-19",
                                    "ID_producto": "6",
                                    "ID_Zona": "3",
                                    "Venta": "2449082",
                                    "ID_Vendedor": "17",
                                    "ID_Cliente": "10",
                                    "Seguimiento": "Menor_2.9"
                                },
                                {
                                    "ID_Venta": "3119",
                                    "Fecha venta": "2-Mar-19",
                                    "ID_producto": "5",
                                    "ID_Zona": "4",
                                    "Venta": "952929",
                                    "ID_Vendedor": "10",
                                    "ID_Cliente": "1",
                                    "Seguimiento": "Menor_2.9"
                                },
                                {
                                    "ID_Venta": "3120",
                                    "Fecha venta": "2-Mar-19",
                                    "ID_producto": "4",
                                    "ID_Zona": "1",
                                    "Venta": "1746420",
                                    "ID_Vendedor": "1",
                                    "ID_Cliente": "6",
                                    "Seguimiento": "Menor_2.9"
                                },
                                {
                                    "ID_Venta": "3121",
                                    "Fecha venta": "2-Mar-19",
                                    "ID_producto": "1",
                                    "ID_Zona": "3",
                                    "Venta": "2658076",
                                    "ID_Vendedor": "30",
                                    "ID_Cliente": "2",
                                    "Seguimiento": "Menor_2.9"
                                },
                                {
                                    "ID_Venta": "3122",
                                    "Fecha venta": "2-Mar-19",
                                    "ID_producto": "5",
                                    "ID_Zona": "4",
                                    "Venta": "496020",
                                    "ID_Vendedor": "18",
                                    "ID_Cliente": "2",
                                    "Seguimiento": "Menor_2.9"
                                },
                                {
                                    "ID_Venta": "3123",
                                    "Fecha venta": "2-May-19",
                                    "ID_producto": "1",
                                    "ID_Zona": "3",
                                    "Venta": "185010",
                                    "ID_Vendedor": "37",
                                    "ID_Cliente": "9",
                                    "Seguimiento": "Menor_2.9"
                                },
                                {
                                    "ID_Venta": "3124",
                                    "Fecha venta": "2-Jun-19",
                                    "ID_producto": "1",
                                    "ID_Zona": "2",
                                    "Venta": "2154096",
                                    "ID_Vendedor": "43",
                                    "ID_Cliente": "5",
                                    "Seguimiento": "Menor_2.9"
                                },
                                {
                                    "ID_Venta": "3125",
                                    "Fecha venta": "2-Jul-19",
                                    "ID_producto": "6",
                                    "ID_Zona": "4",
                                    "Venta": "688058",
                                    "ID_Vendedor": "40",
                                    "ID_Cliente": "9",
                                    "Seguimiento": "Menor_2.9"
                                },
                                {
                                    "ID_Venta": "3126",
                                    "Fecha venta": "2-Jul-19",
                                    "ID_producto": "3",
                                    "ID_Zona": "3",
                                    "Venta": "2902284",
                                    "ID_Vendedor": "27",
                                    "ID_Cliente": "6",
                                    "Seguimiento": "Mayor_2.9"
                                },
                                {
                                    "ID_Venta": "3127",
                                    "Fecha venta": "2-Jul-19",
                                    "ID_producto": "5",
                                    "ID_Zona": "1",
                                    "Venta": "523802",
                                    "ID_Vendedor": "19",
                                    "ID_Cliente": "10",
                                    "Seguimiento": "Menor_2.9"
                                },
                                {
                                    "ID_Venta": "3128",
                                    "Fecha venta": "2-Jul-19",
                                    "ID_producto": "2",
                                    "ID_Zona": "1",
                                    "Venta": "1817442",
                                    "ID_Vendedor": "10",
                                    "ID_Cliente": "1",
                                    "Seguimiento": "Menor_2.9"
                                },
                                {
                                    "ID_Venta": "3129",
                                    "Fecha venta": "2-Aug-19",
                                    "ID_producto": "5",
                                    "ID_Zona": "2",
                                    "Venta": "1050664",
                                    "ID_Vendedor": "36",
                                    "ID_Cliente": "4",
                                    "Seguimiento": "Menor_2.9"
                                },
                                {
                                    "ID_Venta": "3130",
                                    "Fecha venta": "2-Aug-19",
                                    "ID_producto": "1",
                                    "ID_Zona": "3",
                                    "Venta": "443362",
                                    "ID_Vendedor": "47",
                                    "ID_Cliente": "9",
                                    "Seguimiento": "Menor_2.9"
                                },
                                {
                                    "ID_Venta": "3131",
                                    "Fecha venta": "2-Aug-19",
                                    "ID_producto": "4",
                                    "ID_Zona": "1",
                                    "Venta": "839913",
                                    "ID_Vendedor": "8",
                                    "ID_Cliente": "7",
                                    "Seguimiento": "Menor_2.9"
                                },
                                {
                                    "ID_Venta": "3132",
                                    "Fecha venta": "2-Aug-19",
                                    "ID_producto": "1",
                                    "ID_Zona": "4",
                                    "Venta": "521910",
                                    "ID_Vendedor": "42",
                                    "ID_Cliente": "7",
                                    "Seguimiento": "Menor_2.9"
                                },
                                {
                                    "ID_Venta": "3133",
                                    "Fecha venta": "2-Sep-19",
                                    "ID_producto": "4",
                                    "ID_Zona": "4",
                                    "Venta": "519023",
                                    "ID_Vendedor": "34",
                                    "ID_Cliente": "10",
                                    "Seguimiento": "Menor_2.9"
                                },
                                {
                                    "ID_Venta": "3134",
                                    "Fecha venta": "2-Sep-19",
                                    "ID_producto": "2",
                                    "ID_Zona": "3",
                                    "Venta": "1468740",
                                    "ID_Vendedor": "26",
                                    "ID_Cliente": "5",
                                    "Seguimiento": "Menor_2.9"
                                },
                                {
                                    "ID_Venta": "3135",
                                    "Fecha venta": "2-Sep-19",
                                    "ID_producto": "2",
                                    "ID_Zona": "1",
                                    "Venta": "1048714",
                                    "ID_Vendedor": "13",
                                    "ID_Cliente": "4",
                                    "Seguimiento": "Menor_2.9"
                                },
                                {
                                    "ID_Venta": "3136",
                                    "Fecha venta": "2-Sep-19",
                                    "ID_producto": "2",
                                    "ID_Zona": "4",
                                    "Venta": "417626",
                                    "ID_Vendedor": "8",
                                    "ID_Cliente": "1",
                                    "Seguimiento": "Menor_2.9"
                                },
                                {
                                    "ID_Venta": "3137",
                                    "Fecha venta": "2-Oct-19",
                                    "ID_producto": "4",
                                    "ID_Zona": "2",
                                    "Venta": "268488",
                                    "ID_Vendedor": "2",
                                    "ID_Cliente": "5",
                                    "Seguimiento": "Menor_2.9"
                                },
                                {
                                    "ID_Venta": "3138",
                                    "Fecha venta": "2-Nov-19",
                                    "ID_producto": "2",
                                    "ID_Zona": "3",
                                    "Venta": "1108604",
                                    "ID_Vendedor": "46",
                                    "ID_Cliente": "9",
                                    "Seguimiento": "Menor_2.9"
                                },
                                {
                                    "ID_Venta": "3139",
                                    "Fecha venta": "2-Dec-19",
                                    "ID_producto": "3",
                                    "ID_Zona": "3",
                                    "Venta": "2357240",
                                    "ID_Vendedor": "41",
                                    "ID_Cliente": "3",
                                    "Seguimiento": "Menor_2.9"
                                },
                                {
                                    "ID_Venta": "3140",
                                    "Fecha venta": "2-Dec-19",
                                    "ID_producto": "5",
                                    "ID_Zona": "2",
                                    "Venta": "1248072",
                                    "ID_Vendedor": "41",
                                    "ID_Cliente": "6",
                                    "Seguimiento": "Menor_2.9"
                                },
                                {
                                    "ID_Venta": "3141",
                                    "Fecha venta": "13-Feb-19",
                                    "ID_producto": "5",
                                    "ID_Zona": "2",
                                    "Venta": "1708434",
                                    "ID_Vendedor": "8",
                                    "ID_Cliente": "7",
                                    "Seguimiento": "Menor_2.9"
                                },
                                {
                                    "ID_Venta": "3142",
                                    "Fecha venta": "13-Feb-19",
                                    "ID_producto": "5",
                                    "ID_Zona": "1",
                                    "Venta": "802393",
                                    "ID_Vendedor": "22",
                                    "ID_Cliente": "5",
                                    "Seguimiento": "Menor_2.9"
                                },
                                {
                                    "ID_Venta": "3143",
                                    "Fecha venta": "14-Feb-19",
                                    "ID_producto": "6",
                                    "ID_Zona": "2",
                                    "Venta": "979183",
                                    "ID_Vendedor": "36",
                                    "ID_Cliente": "3",
                                    "Seguimiento": "Menor_2.9"
                                },
                                {
                                    "ID_Venta": "3144",
                                    "Fecha venta": "14-Feb-19",
                                    "ID_producto": "5",
                                    "ID_Zona": "2",
                                    "Venta": "1978848",
                                    "ID_Vendedor": "46",
                                    "ID_Cliente": "4",
                                    "Seguimiento": "Menor_2.9"
                                },
                                {
                                    "ID_Venta": "3145",
                                    "Fecha venta": "14-Feb-19",
                                    "ID_producto": "3",
                                    "ID_Zona": "2",
                                    "Venta": "1789866",
                                    "ID_Vendedor": "12",
                                    "ID_Cliente": "7",
                                    "Seguimiento": "Menor_2.9"
                                },
                                {
                                    "ID_Venta": "3146",
                                    "Fecha venta": "15-Feb-19",
                                    "ID_producto": "3",
                                    "ID_Zona": "2",
                                    "Venta": "1568610",
                                    "ID_Vendedor": "29",
                                    "ID_Cliente": "6",
                                    "Seguimiento": "Menor_2.9"
                                },
                                {
                                    "ID_Venta": "3147",
                                    "Fecha venta": "15-Feb-19",
                                    "ID_producto": "5",
                                    "ID_Zona": "2",
                                    "Venta": "1325730",
                                    "ID_Vendedor": "27",
                                    "ID_Cliente": "4",
                                    "Seguimiento": "Menor_2.9"
                                },
                                {
                                    "ID_Venta": "3148",
                                    "Fecha venta": "15-Feb-19",
                                    "ID_producto": "5",
                                    "ID_Zona": "3",
                                    "Venta": "1855770",
                                    "ID_Vendedor": "25",
                                    "ID_Cliente": "8",
                                    "Seguimiento": "Menor_2.9"
                                },
                                {
                                    "ID_Venta": "3149",
                                    "Fecha venta": "15-Feb-19",
                                    "ID_producto": "6",
                                    "ID_Zona": "2",
                                    "Venta": "324648",
                                    "ID_Vendedor": "16",
                                    "ID_Cliente": "6",
                                    "Seguimiento": "Menor_2.9"
                                },
                                {
                                    "ID_Venta": "3150",
                                    "Fecha venta": "16-Feb-19",
                                    "ID_producto": "4",
                                    "ID_Zona": "3",
                                    "Venta": "1158894",
                                    "ID_Vendedor": "3",
                                    "ID_Cliente": "9",
                                    "Seguimiento": "Menor_2.9"
                                },
                                {
                                    "ID_Venta": "3151",
                                    "Fecha venta": "16-Feb-19",
                                    "ID_producto": "3",
                                    "ID_Zona": "2",
                                    "Venta": "293303",
                                    "ID_Vendedor": "45",
                                    "ID_Cliente": "9",
                                    "Seguimiento": "Menor_2.9"
                                },
                                {
                                    "ID_Venta": "3152",
                                    "Fecha venta": "16-Feb-19",
                                    "ID_producto": "4",
                                    "ID_Zona": "4",
                                    "Venta": "260775",
                                    "ID_Vendedor": "14",
                                    "ID_Cliente": "6",
                                    "Seguimiento": "Menor_2.9"
                                },
                                {
                                    "ID_Venta": "3153",
                                    "Fecha venta": "16-Feb-19",
                                    "ID_producto": "4",
                                    "ID_Zona": "2",
                                    "Venta": "1040635",
                                    "ID_Vendedor": "29",
                                    "ID_Cliente": "7",
                                    "Seguimiento": "Menor_2.9"
                                },
                                {
                                    "ID_Venta": "3154",
                                    "Fecha venta": "17-Feb-19",
                                    "ID_producto": "4",
                                    "ID_Zona": "4",
                                    "Venta": "1527516",
                                    "ID_Vendedor": "6",
                                    "ID_Cliente": "6",
                                    "Seguimiento": "Menor_2.9"
                                },
                                {
                                    "ID_Venta": "3155",
                                    "Fecha venta": "17-Feb-19",
                                    "ID_producto": "5",
                                    "ID_Zona": "1",
                                    "Venta": "590785",
                                    "ID_Vendedor": "19",
                                    "ID_Cliente": "1",
                                    "Seguimiento": "Menor_2.9"
                                },
                                {
                                    "ID_Venta": "3156",
                                    "Fecha venta": "18-Feb-19",
                                    "ID_producto": "6",
                                    "ID_Zona": "1",
                                    "Venta": "858714",
                                    "ID_Vendedor": "42",
                                    "ID_Cliente": "2",
                                    "Seguimiento": "Menor_2.9"
                                },
                                {
                                    "ID_Venta": "3157",
                                    "Fecha venta": "19-Feb-19",
                                    "ID_producto": "2",
                                    "ID_Zona": "4",
                                    "Venta": "435670",
                                    "ID_Vendedor": "49",
                                    "ID_Cliente": "6",
                                    "Seguimiento": "Menor_2.9"
                                },
                                {
                                    "ID_Venta": "3158",
                                    "Fecha venta": "19-Feb-19",
                                    "ID_producto": "2",
                                    "ID_Zona": "4",
                                    "Venta": "1127274",
                                    "ID_Vendedor": "29",
                                    "ID_Cliente": "10",
                                    "Seguimiento": "Menor_2.9"
                                },
                                {
                                    "ID_Venta": "3159",
                                    "Fecha venta": "19-Feb-19",
                                    "ID_producto": "3",
                                    "ID_Zona": "3",
                                    "Venta": "305945",
                                    "ID_Vendedor": "17",
                                    "ID_Cliente": "10",
                                    "Seguimiento": "Menor_2.9"
                                },
                                {
                                    "ID_Venta": "3160",
                                    "Fecha venta": "19-Feb-19",
                                    "ID_producto": "5",
                                    "ID_Zona": "1",
                                    "Venta": "992698",
                                    "ID_Vendedor": "37",
                                    "ID_Cliente": "9",
                                    "Seguimiento": "Menor_2.9"
                                },
                                {
                                    "ID_Venta": "3161",
                                    "Fecha venta": "20-Feb-19",
                                    "ID_producto": "1",
                                    "ID_Zona": "1",
                                    "Venta": "648092",
                                    "ID_Vendedor": "1",
                                    "ID_Cliente": "4",
                                    "Seguimiento": "Menor_2.9"
                                },
                                {
                                    "ID_Venta": "3162",
                                    "Fecha venta": "20-Feb-19",
                                    "ID_producto": "5",
                                    "ID_Zona": "4",
                                    "Venta": "2186658",
                                    "ID_Vendedor": "19",
                                    "ID_Cliente": "5",
                                    "Seguimiento": "Menor_2.9"
                                },
                                {
                                    "ID_Venta": "3163",
                                    "Fecha venta": "20-Feb-19",
                                    "ID_producto": "2",
                                    "ID_Zona": "2",
                                    "Venta": "973206",
                                    "ID_Vendedor": "47",
                                    "ID_Cliente": "1",
                                    "Seguimiento": "Menor_2.9"
                                },
                                {
                                    "ID_Venta": "3164",
                                    "Fecha venta": "20-Feb-19",
                                    "ID_producto": "4",
                                    "ID_Zona": "3",
                                    "Venta": "1175040",
                                    "ID_Vendedor": "47",
                                    "ID_Cliente": "8",
                                    "Seguimiento": "Menor_2.9"
                                },
                                {
                                    "ID_Venta": "3165",
                                    "Fecha venta": "21-Feb-19",
                                    "ID_producto": "2",
                                    "ID_Zona": "1",
                                    "Venta": "1433796",
                                    "ID_Vendedor": "23",
                                    "ID_Cliente": "8",
                                    "Seguimiento": "Menor_2.9"
                                },
                                {
                                    "ID_Venta": "3166",
                                    "Fecha venta": "21-Feb-19",
                                    "ID_producto": "4",
                                    "ID_Zona": "4",
                                    "Venta": "348696",
                                    "ID_Vendedor": "17",
                                    "ID_Cliente": "4",
                                    "Seguimiento": "Menor_2.9"
                                },
                                {
                                    "ID_Venta": "3167",
                                    "Fecha venta": "22-Feb-19",
                                    "ID_producto": "2",
                                    "ID_Zona": "1",
                                    "Venta": "738700",
                                    "ID_Vendedor": "40",
                                    "ID_Cliente": "9",
                                    "Seguimiento": "Menor_2.9"
                                },
                                {
                                    "ID_Venta": "3168",
                                    "Fecha venta": "22-Feb-19",
                                    "ID_producto": "1",
                                    "ID_Zona": "1",
                                    "Venta": "1374975",
                                    "ID_Vendedor": "11",
                                    "ID_Cliente": "8",
                                    "Seguimiento": "Menor_2.9"
                                },
                                {
                                    "ID_Venta": "3169",
                                    "Fecha venta": "23-Feb-19",
                                    "ID_producto": "5",
                                    "ID_Zona": "1",
                                    "Venta": "2066100",
                                    "ID_Vendedor": "11",
                                    "ID_Cliente": "9",
                                    "Seguimiento": "Menor_2.9"
                                },
                                {
                                    "ID_Venta": "3170",
                                    "Fecha venta": "23-Feb-19",
                                    "ID_producto": "4",
                                    "ID_Zona": "1",
                                    "Venta": "1576848",
                                    "ID_Vendedor": "27",
                                    "ID_Cliente": "4",
                                    "Seguimiento": "Menor_2.9"
                                },
                                {
                                    "ID_Venta": "3171",
                                    "Fecha venta": "23-Feb-19",
                                    "ID_producto": "3",
                                    "ID_Zona": "2",
                                    "Venta": "684588",
                                    "ID_Vendedor": "46",
                                    "ID_Cliente": "4",
                                    "Seguimiento": "Menor_2.9"
                                },
                                {
                                    "ID_Venta": "3172",
                                    "Fecha venta": "23-Feb-19",
                                    "ID_producto": "4",
                                    "ID_Zona": "2",
                                    "Venta": "1478573",
                                    "ID_Vendedor": "21",
                                    "ID_Cliente": "4",
                                    "Seguimiento": "Menor_2.9"
                                },
                                {
                                    "ID_Venta": "3173",
                                    "Fecha venta": "24-Feb-19",
                                    "ID_producto": "4",
                                    "ID_Zona": "4",
                                    "Venta": "1395837",
                                    "ID_Vendedor": "32",
                                    "ID_Cliente": "1",
                                    "Seguimiento": "Menor_2.9"
                                },
                                {
                                    "ID_Venta": "3174",
                                    "Fecha venta": "24-Feb-19",
                                    "ID_producto": "6",
                                    "ID_Zona": "2",
                                    "Venta": "520384",
                                    "ID_Vendedor": "19",
                                    "ID_Cliente": "3",
                                    "Seguimiento": "Menor_2.9"
                                },
                                {
                                    "ID_Venta": "3175",
                                    "Fecha venta": "24-Feb-19",
                                    "ID_producto": "2",
                                    "ID_Zona": "3",
                                    "Venta": "1780812",
                                    "ID_Vendedor": "45",
                                    "ID_Cliente": "6",
                                    "Seguimiento": "Menor_2.9"
                                },
                                {
                                    "ID_Venta": "3176",
                                    "Fecha venta": "24-Feb-19",
                                    "ID_producto": "2",
                                    "ID_Zona": "2",
                                    "Venta": "825759",
                                    "ID_Vendedor": "36",
                                    "ID_Cliente": "4",
                                    "Seguimiento": "Menor_2.9"
                                },
                                {
                                    "ID_Venta": "3177",
                                    "Fecha venta": "25-Feb-19",
                                    "ID_producto": "6",
                                    "ID_Zona": "2",
                                    "Venta": "801408",
                                    "ID_Vendedor": "16",
                                    "ID_Cliente": "5",
                                    "Seguimiento": "Menor_2.9"
                                },
                                {
                                    "ID_Venta": "3178",
                                    "Fecha venta": "25-Feb-19",
                                    "ID_producto": "4",
                                    "ID_Zona": "3",
                                    "Venta": "1028074",
                                    "ID_Vendedor": "38",
                                    "ID_Cliente": "7",
                                    "Seguimiento": "Menor_2.9"
                                },
                                {
                                    "ID_Venta": "3179",
                                    "Fecha venta": "26-Feb-19",
                                    "ID_producto": "1",
                                    "ID_Zona": "3",
                                    "Venta": "904935",
                                    "ID_Vendedor": "38",
                                    "ID_Cliente": "4",
                                    "Seguimiento": "Menor_2.9"
                                },
                                {
                                    "ID_Venta": "3180",
                                    "Fecha venta": "26-Feb-19",
                                    "ID_producto": "6",
                                    "ID_Zona": "2",
                                    "Venta": "1615068",
                                    "ID_Vendedor": "45",
                                    "ID_Cliente": "5",
                                    "Seguimiento": "Menor_2.9"
                                },
                                {
                                    "ID_Venta": "3181",
                                    "Fecha venta": "28-Feb-19",
                                    "ID_producto": "6",
                                    "ID_Zona": "2",
                                    "Venta": "957453",
                                    "ID_Vendedor": "4",
                                    "ID_Cliente": "7",
                                    "Seguimiento": "Menor_2.9"
                                },
                                {
                                    "ID_Venta": "3182",
                                    "Fecha venta": "28-Feb-19",
                                    "ID_producto": "4",
                                    "ID_Zona": "1",
                                    "Venta": "1587768",
                                    "ID_Vendedor": "16",
                                    "ID_Cliente": "5",
                                    "Seguimiento": "Menor_2.9"
                                },
                                {
                                    "ID_Venta": "3183",
                                    "Fecha venta": "28-Feb-19",
                                    "ID_producto": "3",
                                    "ID_Zona": "3",
                                    "Venta": "606279",
                                    "ID_Vendedor": "2",
                                    "ID_Cliente": "4",
                                    "Seguimiento": "Menor_2.9"
                                },
                                {
                                    "ID_Venta": "3184",
                                    "Fecha venta": "28-Feb-19",
                                    "ID_producto": "6",
                                    "ID_Zona": "4",
                                    "Venta": "2233602",
                                    "ID_Vendedor": "31",
                                    "ID_Cliente": "4",
                                    "Seguimiento": "Menor_2.9"
                                },
                                {
                                    "ID_Venta": "3185",
                                    "Fecha venta": "28-Feb-19",
                                    "ID_producto": "5",
                                    "ID_Zona": "4",
                                    "Venta": "1913624",
                                    "ID_Vendedor": "31",
                                    "ID_Cliente": "7",
                                    "Seguimiento": "Menor_2.9"
                                },
                                {
                                    "ID_Venta": "3186",
                                    "Fecha venta": "3-Jan-19",
                                    "ID_producto": "5",
                                    "ID_Zona": "1",
                                    "Venta": "1583686",
                                    "ID_Vendedor": "30",
                                    "ID_Cliente": "7",
                                    "Seguimiento": "Menor_2.9"
                                },
                                {
                                    "ID_Venta": "3187",
                                    "Fecha venta": "3-Jan-19",
                                    "ID_producto": "6",
                                    "ID_Zona": "2",
                                    "Venta": "1420020",
                                    "ID_Vendedor": "45",
                                    "ID_Cliente": "9",
                                    "Seguimiento": "Menor_2.9"
                                },
                                {
                                    "ID_Venta": "3188",
                                    "Fecha venta": "3-Jan-19",
                                    "ID_producto": "6",
                                    "ID_Zona": "3",
                                    "Venta": "311090",
                                    "ID_Vendedor": "25",
                                    "ID_Cliente": "7",
                                    "Seguimiento": "Menor_2.9"
                                },
                                {
                                    "ID_Venta": "3189",
                                    "Fecha venta": "3-Jan-19",
                                    "ID_producto": "5",
                                    "ID_Zona": "3",
                                    "Venta": "732028",
                                    "ID_Vendedor": "45",
                                    "ID_Cliente": "2",
                                    "Seguimiento": "Menor_2.9"
                                },
                                {
                                    "ID_Venta": "3190",
                                    "Fecha venta": "3-Feb-19",
                                    "ID_producto": "1",
                                    "ID_Zona": "4",
                                    "Venta": "1324008",
                                    "ID_Vendedor": "19",
                                    "ID_Cliente": "8",
                                    "Seguimiento": "Menor_2.9"
                                },
                                {
                                    "ID_Venta": "3191",
                                    "Fecha venta": "3-Feb-19",
                                    "ID_producto": "2",
                                    "ID_Zona": "3",
                                    "Venta": "1057310",
                                    "ID_Vendedor": "3",
                                    "ID_Cliente": "9",
                                    "Seguimiento": "Menor_2.9"
                                },
                                {
                                    "ID_Venta": "3192",
                                    "Fecha venta": "3-Feb-19",
                                    "ID_producto": "6",
                                    "ID_Zona": "4",
                                    "Venta": "2439640",
                                    "ID_Vendedor": "33",
                                    "ID_Cliente": "9",
                                    "Seguimiento": "Menor_2.9"
                                },
                                {
                                    "ID_Venta": "3193",
                                    "Fecha venta": "3-Apr-19",
                                    "ID_producto": "5",
                                    "ID_Zona": "2",
                                    "Venta": "2019120",
                                    "ID_Vendedor": "42",
                                    "ID_Cliente": "6",
                                    "Seguimiento": "Menor_2.9"
                                },
                                {
                                    "ID_Venta": "3194",
                                    "Fecha venta": "3-Apr-19",
                                    "ID_producto": "1",
                                    "ID_Zona": "4",
                                    "Venta": "397606",
                                    "ID_Vendedor": "19",
                                    "ID_Cliente": "9",
                                    "Seguimiento": "Menor_2.9"
                                },
                                {
                                    "ID_Venta": "3195",
                                    "Fecha venta": "3-Apr-19",
                                    "ID_producto": "4",
                                    "ID_Zona": "1",
                                    "Venta": "1109075",
                                    "ID_Vendedor": "27",
                                    "ID_Cliente": "10",
                                    "Seguimiento": "Menor_2.9"
                                },
                                {
                                    "ID_Venta": "3196",
                                    "Fecha venta": "3-Apr-19",
                                    "ID_producto": "4",
                                    "ID_Zona": "2",
                                    "Venta": "2075632",
                                    "ID_Vendedor": "5",
                                    "ID_Cliente": "9",
                                    "Seguimiento": "Menor_2.9"
                                },
                                {
                                    "ID_Venta": "3197",
                                    "Fecha venta": "3-Apr-19",
                                    "ID_producto": "1",
                                    "ID_Zona": "1",
                                    "Venta": "2262708",
                                    "ID_Vendedor": "21",
                                    "ID_Cliente": "6",
                                    "Seguimiento": "Menor_2.9"
                                },
                                {
                                    "ID_Venta": "3198",
                                    "Fecha venta": "3-May-19",
                                    "ID_producto": "6",
                                    "ID_Zona": "2",
                                    "Venta": "1684340",
                                    "ID_Vendedor": "40",
                                    "ID_Cliente": "1",
                                    "Seguimiento": "Menor_2.9"
                                },
                                {
                                    "ID_Venta": "3199",
                                    "Fecha venta": "3-May-19",
                                    "ID_producto": "3",
                                    "ID_Zona": "3",
                                    "Venta": "1859220",
                                    "ID_Vendedor": "41",
                                    "ID_Cliente": "9",
                                    "Seguimiento": "Menor_2.9"
                                },
                                {
                                    "ID_Venta": "3200",
                                    "Fecha venta": "3-May-19",
                                    "ID_producto": "4",
                                    "ID_Zona": "3",
                                    "Venta": "181192",
                                    "ID_Vendedor": "30",
                                    "ID_Cliente": "3",
                                    "Seguimiento": "Menor_2.9"
                                },
                                {
                                    "ID_Venta": "3201",
                                    "Fecha venta": "3-Jun-19",
                                    "ID_producto": "1",
                                    "ID_Zona": "2",
                                    "Venta": "849462",
                                    "ID_Vendedor": "43",
                                    "ID_Cliente": "8",
                                    "Seguimiento": "Menor_2.9"
                                },
                                {
                                    "ID_Venta": "3202",
                                    "Fecha venta": "3-Jun-19",
                                    "ID_producto": "3",
                                    "ID_Zona": "4",
                                    "Venta": "1360966",
                                    "ID_Vendedor": "19",
                                    "ID_Cliente": "4",
                                    "Seguimiento": "Menor_2.9"
                                },
                                {
                                    "ID_Venta": "3203",
                                    "Fecha venta": "3-Jun-19",
                                    "ID_producto": "4",
                                    "ID_Zona": "3",
                                    "Venta": "1694763",
                                    "ID_Vendedor": "15",
                                    "ID_Cliente": "7",
                                    "Seguimiento": "Menor_2.9"
                                },
                                {
                                    "ID_Venta": "3204",
                                    "Fecha venta": "3-Jun-19",
                                    "ID_producto": "1",
                                    "ID_Zona": "1",
                                    "Venta": "350872",
                                    "ID_Vendedor": "1",
                                    "ID_Cliente": "5",
                                    "Seguimiento": "Menor_2.9"
                                },
                                {
                                    "ID_Venta": "3205",
                                    "Fecha venta": "3-Jul-19",
                                    "ID_producto": "4",
                                    "ID_Zona": "2",
                                    "Venta": "870837",
                                    "ID_Vendedor": "10",
                                    "ID_Cliente": "8",
                                    "Seguimiento": "Menor_2.9"
                                },
                                {
                                    "ID_Venta": "3206",
                                    "Fecha venta": "3-Aug-19",
                                    "ID_producto": "1",
                                    "ID_Zona": "1",
                                    "Venta": "1622790",
                                    "ID_Vendedor": "22",
                                    "ID_Cliente": "9",
                                    "Seguimiento": "Menor_2.9"
                                },
                                {
                                    "ID_Venta": "3207",
                                    "Fecha venta": "3-Aug-19",
                                    "ID_producto": "3",
                                    "ID_Zona": "1",
                                    "Venta": "1195474",
                                    "ID_Vendedor": "3",
                                    "ID_Cliente": "8",
                                    "Seguimiento": "Menor_2.9"
                                },
                                {
                                    "ID_Venta": "3208",
                                    "Fecha venta": "3-Aug-19",
                                    "ID_producto": "1",
                                    "ID_Zona": "3",
                                    "Venta": "1083261",
                                    "ID_Vendedor": "23",
                                    "ID_Cliente": "8",
                                    "Seguimiento": "Menor_2.9"
                                },
                                {
                                    "ID_Venta": "3209",
                                    "Fecha venta": "3-Sep-19",
                                    "ID_producto": "4",
                                    "ID_Zona": "1",
                                    "Venta": "918722",
                                    "ID_Vendedor": "13",
                                    "ID_Cliente": "2",
                                    "Seguimiento": "Menor_2.9"
                                },
                                {
                                    "ID_Venta": "3210",
                                    "Fecha venta": "3-Sep-19",
                                    "ID_producto": "2",
                                    "ID_Zona": "3",
                                    "Venta": "997968",
                                    "ID_Vendedor": "45",
                                    "ID_Cliente": "7",
                                    "Seguimiento": "Menor_2.9"
                                },
                                {
                                    "ID_Venta": "3211",
                                    "Fecha venta": "3-Sep-19",
                                    "ID_producto": "2",
                                    "ID_Zona": "2",
                                    "Venta": "601306",
                                    "ID_Vendedor": "45",
                                    "ID_Cliente": "8",
                                    "Seguimiento": "Menor_2.9"
                                },
                                {
                                    "ID_Venta": "3212",
                                    "Fecha venta": "3-Oct-19",
                                    "ID_producto": "2",
                                    "ID_Zona": "1",
                                    "Venta": "425173",
                                    "ID_Vendedor": "17",
                                    "ID_Cliente": "1",
                                    "Seguimiento": "Menor_2.9"
                                },
                                {
                                    "ID_Venta": "3213",
                                    "Fecha venta": "3-Nov-19",
                                    "ID_producto": "4",
                                    "ID_Zona": "4",
                                    "Venta": "503871",
                                    "ID_Vendedor": "26",
                                    "ID_Cliente": "3",
                                    "Seguimiento": "Menor_2.9"
                                },
                                {
                                    "ID_Venta": "3214",
                                    "Fecha venta": "3-Nov-19",
                                    "ID_producto": "4",
                                    "ID_Zona": "3",
                                    "Venta": "1607588",
                                    "ID_Vendedor": "38",
                                    "ID_Cliente": "10",
                                    "Seguimiento": "Menor_2.9"
                                },
                                {
                                    "ID_Venta": "3215",
                                    "Fecha venta": "3-Nov-19",
                                    "ID_producto": "5",
                                    "ID_Zona": "3",
                                    "Venta": "522912",
                                    "ID_Vendedor": "23",
                                    "ID_Cliente": "8",
                                    "Seguimiento": "Menor_2.9"
                                },
                                {
                                    "ID_Venta": "3216",
                                    "Fecha venta": "3-Nov-19",
                                    "ID_producto": "4",
                                    "ID_Zona": "1",
                                    "Venta": "319347",
                                    "ID_Vendedor": "45",
                                    "ID_Cliente": "5",
                                    "Seguimiento": "Menor_2.9"
                                },
                                {
                                    "ID_Venta": "3217",
                                    "Fecha venta": "3-Nov-19",
                                    "ID_producto": "5",
                                    "ID_Zona": "2",
                                    "Venta": "1020257",
                                    "ID_Vendedor": "33",
                                    "ID_Cliente": "9",
                                    "Seguimiento": "Menor_2.9"
                                },
                                {
                                    "ID_Venta": "3218",
                                    "Fecha venta": "3-Nov-19",
                                    "ID_producto": "6",
                                    "ID_Zona": "3",
                                    "Venta": "812913",
                                    "ID_Vendedor": "18",
                                    "ID_Cliente": "10",
                                    "Seguimiento": "Menor_2.9"
                                },
                                {
                                    "ID_Venta": "3219",
                                    "Fecha venta": "3-Dec-19",
                                    "ID_producto": "3",
                                    "ID_Zona": "4",
                                    "Venta": "905920",
                                    "ID_Vendedor": "43",
                                    "ID_Cliente": "3",
                                    "Seguimiento": "Menor_2.9"
                                },
                                {
                                    "ID_Venta": "3220",
                                    "Fecha venta": "3-Dec-19",
                                    "ID_producto": "3",
                                    "ID_Zona": "1",
                                    "Venta": "905532",
                                    "ID_Vendedor": "21",
                                    "ID_Cliente": "6",
                                    "Seguimiento": "Menor_2.9"
                                },
                                {
                                    "ID_Venta": "3221",
                                    "Fecha venta": "13-Mar-19",
                                    "ID_producto": "2",
                                    "ID_Zona": "1",
                                    "Venta": "1134840",
                                    "ID_Vendedor": "22",
                                    "ID_Cliente": "4",
                                    "Seguimiento": "Menor_2.9"
                                },
                                {
                                    "ID_Venta": "3222",
                                    "Fecha venta": "13-Mar-19",
                                    "ID_producto": "1",
                                    "ID_Zona": "2",
                                    "Venta": "1034034",
                                    "ID_Vendedor": "47",
                                    "ID_Cliente": "4",
                                    "Seguimiento": "Menor_2.9"
                                },
                                {
                                    "ID_Venta": "3223",
                                    "Fecha venta": "13-Mar-19",
                                    "ID_producto": "5",
                                    "ID_Zona": "1",
                                    "Venta": "949060",
                                    "ID_Vendedor": "23",
                                    "ID_Cliente": "1",
                                    "Seguimiento": "Menor_2.9"
                                },
                                {
                                    "ID_Venta": "3224",
                                    "Fecha venta": "13-Mar-19",
                                    "ID_producto": "5",
                                    "ID_Zona": "1",
                                    "Venta": "1242624",
                                    "ID_Vendedor": "12",
                                    "ID_Cliente": "3",
                                    "Seguimiento": "Menor_2.9"
                                },
                                {
                                    "ID_Venta": "3225",
                                    "Fecha venta": "13-Mar-19",
                                    "ID_producto": "7",
                                    "ID_Zona": "3",
                                    "Venta": "1456487",
                                    "ID_Vendedor": "10",
                                    "ID_Cliente": "5",
                                    "Seguimiento": "Menor_2.9"
                                },
                                {
                                    "ID_Venta": "3226",
                                    "Fecha venta": "13-Mar-19",
                                    "ID_producto": "2",
                                    "ID_Zona": "3",
                                    "Venta": "1128390",
                                    "ID_Vendedor": "43",
                                    "ID_Cliente": "2",
                                    "Seguimiento": "Menor_2.9"
                                },
                                {
                                    "ID_Venta": "3227",
                                    "Fecha venta": "14-Mar-19",
                                    "ID_producto": "4",
                                    "ID_Zona": "3",
                                    "Venta": "720576",
                                    "ID_Vendedor": "6",
                                    "ID_Cliente": "2",
                                    "Seguimiento": "Menor_2.9"
                                },
                                {
                                    "ID_Venta": "3228",
                                    "Fecha venta": "14-Mar-19",
                                    "ID_producto": "6",
                                    "ID_Zona": "3",
                                    "Venta": "325420",
                                    "ID_Vendedor": "23",
                                    "ID_Cliente": "3",
                                    "Seguimiento": "Menor_2.9"
                                },
                                {
                                    "ID_Venta": "3229",
                                    "Fecha venta": "14-Mar-19",
                                    "ID_producto": "2",
                                    "ID_Zona": "3",
                                    "Venta": "1194342",
                                    "ID_Vendedor": "12",
                                    "ID_Cliente": "3",
                                    "Seguimiento": "Menor_2.9"
                                },
                                {
                                    "ID_Venta": "3230",
                                    "Fecha venta": "14-Mar-19",
                                    "ID_producto": "4",
                                    "ID_Zona": "4",
                                    "Venta": "476784",
                                    "ID_Vendedor": "7",
                                    "ID_Cliente": "3",
                                    "Seguimiento": "Menor_2.9"
                                },
                                {
                                    "ID_Venta": "3231",
                                    "Fecha venta": "15-Mar-19",
                                    "ID_producto": "3",
                                    "ID_Zona": "4",
                                    "Venta": "520672",
                                    "ID_Vendedor": "44",
                                    "ID_Cliente": "4",
                                    "Seguimiento": "Menor_2.9"
                                },
                                {
                                    "ID_Venta": "3232",
                                    "Fecha venta": "15-Mar-19",
                                    "ID_producto": "5",
                                    "ID_Zona": "3",
                                    "Venta": "306020",
                                    "ID_Vendedor": "1",
                                    "ID_Cliente": "10",
                                    "Seguimiento": "Menor_2.9"
                                },
                                {
                                    "ID_Venta": "3233",
                                    "Fecha venta": "16-Mar-19",
                                    "ID_producto": "3",
                                    "ID_Zona": "4",
                                    "Venta": "713680",
                                    "ID_Vendedor": "36",
                                    "ID_Cliente": "4",
                                    "Seguimiento": "Menor_2.9"
                                },
                                {
                                    "ID_Venta": "3234",
                                    "Fecha venta": "16-Mar-19",
                                    "ID_producto": "5",
                                    "ID_Zona": "2",
                                    "Venta": "763983",
                                    "ID_Vendedor": "30",
                                    "ID_Cliente": "4",
                                    "Seguimiento": "Menor_2.9"
                                },
                                {
                                    "ID_Venta": "3235",
                                    "Fecha venta": "16-Mar-19",
                                    "ID_producto": "3",
                                    "ID_Zona": "3",
                                    "Venta": "347776",
                                    "ID_Vendedor": "34",
                                    "ID_Cliente": "8",
                                    "Seguimiento": "Menor_2.9"
                                },
                                {
                                    "ID_Venta": "3236",
                                    "Fecha venta": "17-Mar-19",
                                    "ID_producto": "4",
                                    "ID_Zona": "2",
                                    "Venta": "2765240",
                                    "ID_Vendedor": "45",
                                    "ID_Cliente": "5",
                                    "Seguimiento": "Menor_2.9"
                                },
                                {
                                    "ID_Venta": "3237",
                                    "Fecha venta": "17-Mar-19",
                                    "ID_producto": "3",
                                    "ID_Zona": "1",
                                    "Venta": "470118",
                                    "ID_Vendedor": "22",
                                    "ID_Cliente": "4",
                                    "Seguimiento": "Menor_2.9"
                                },
                                {
                                    "ID_Venta": "3238",
                                    "Fecha venta": "17-Mar-19",
                                    "ID_producto": "4",
                                    "ID_Zona": "1",
                                    "Venta": "726264",
                                    "ID_Vendedor": "3",
                                    "ID_Cliente": "7",
                                    "Seguimiento": "Menor_2.9"
                                },
                                {
                                    "ID_Venta": "3239",
                                    "Fecha venta": "17-Mar-19",
                                    "ID_producto": "2",
                                    "ID_Zona": "4",
                                    "Venta": "1056714",
                                    "ID_Vendedor": "43",
                                    "ID_Cliente": "7",
                                    "Seguimiento": "Menor_2.9"
                                },
                                {
                                    "ID_Venta": "3240",
                                    "Fecha venta": "18-Mar-19",
                                    "ID_producto": "3",
                                    "ID_Zona": "3",
                                    "Venta": "774792",
                                    "ID_Vendedor": "31",
                                    "ID_Cliente": "9",
                                    "Seguimiento": "Menor_2.9"
                                },
                                {
                                    "ID_Venta": "3241",
                                    "Fecha venta": "18-Mar-19",
                                    "ID_producto": "5",
                                    "ID_Zona": "3",
                                    "Venta": "555013",
                                    "ID_Vendedor": "23",
                                    "ID_Cliente": "7",
                                    "Seguimiento": "Menor_2.9"
                                },
                                {
                                    "ID_Venta": "3242",
                                    "Fecha venta": "18-Mar-19",
                                    "ID_producto": "4",
                                    "ID_Zona": "4",
                                    "Venta": "586920",
                                    "ID_Vendedor": "19",
                                    "ID_Cliente": "4",
                                    "Seguimiento": "Menor_2.9"
                                },
                                {
                                    "ID_Venta": "3243",
                                    "Fecha venta": "19-Mar-19",
                                    "ID_producto": "4",
                                    "ID_Zona": "2",
                                    "Venta": "1096470",
                                    "ID_Vendedor": "47",
                                    "ID_Cliente": "9",
                                    "Seguimiento": "Menor_2.9"
                                },
                                {
                                    "ID_Venta": "3244",
                                    "Fecha venta": "19-Mar-19",
                                    "ID_producto": "6",
                                    "ID_Zona": "1",
                                    "Venta": "1364690",
                                    "ID_Vendedor": "6",
                                    "ID_Cliente": "7",
                                    "Seguimiento": "Menor_2.9"
                                },
                                {
                                    "ID_Venta": "3245",
                                    "Fecha venta": "19-Mar-19",
                                    "ID_producto": "5",
                                    "ID_Zona": "4",
                                    "Venta": "1800729",
                                    "ID_Vendedor": "2",
                                    "ID_Cliente": "7",
                                    "Seguimiento": "Menor_2.9"
                                },
                                {
                                    "ID_Venta": "3246",
                                    "Fecha venta": "20-Mar-19",
                                    "ID_producto": "1",
                                    "ID_Zona": "4",
                                    "Venta": "1035648",
                                    "ID_Vendedor": "26",
                                    "ID_Cliente": "1",
                                    "Seguimiento": "Menor_2.9"
                                },
                                {
                                    "ID_Venta": "3247",
                                    "Fecha venta": "20-Mar-19",
                                    "ID_producto": "3",
                                    "ID_Zona": "4",
                                    "Venta": "940310",
                                    "ID_Vendedor": "2",
                                    "ID_Cliente": "6",
                                    "Seguimiento": "Menor_2.9"
                                },
                                {
                                    "ID_Venta": "3248",
                                    "Fecha venta": "20-Mar-19",
                                    "ID_producto": "6",
                                    "ID_Zona": "4",
                                    "Venta": "1298025",
                                    "ID_Vendedor": "27",
                                    "ID_Cliente": "10",
                                    "Seguimiento": "Menor_2.9"
                                },
                                {
                                    "ID_Venta": "3249",
                                    "Fecha venta": "20-Mar-19",
                                    "ID_producto": "4",
                                    "ID_Zona": "3",
                                    "Venta": "192290",
                                    "ID_Vendedor": "31",
                                    "ID_Cliente": "9",
                                    "Seguimiento": "Menor_2.9"
                                },
                                {
                                    "ID_Venta": "3250",
                                    "Fecha venta": "20-Mar-19",
                                    "ID_producto": "4",
                                    "ID_Zona": "3",
                                    "Venta": "1202811",
                                    "ID_Vendedor": "22",
                                    "ID_Cliente": "7",
                                    "Seguimiento": "Menor_2.9"
                                },
                                {
                                    "ID_Venta": "3251",
                                    "Fecha venta": "21-Mar-19",
                                    "ID_producto": "1",
                                    "ID_Zona": "2",
                                    "Venta": "366780",
                                    "ID_Vendedor": "1",
                                    "ID_Cliente": "8",
                                    "Seguimiento": "Menor_2.9"
                                },
                                {
                                    "ID_Venta": "3252",
                                    "Fecha venta": "21-Mar-19",
                                    "ID_producto": "2",
                                    "ID_Zona": "1",
                                    "Venta": "1966615",
                                    "ID_Vendedor": "31",
                                    "ID_Cliente": "6",
                                    "Seguimiento": "Menor_2.9"
                                },
                                {
                                    "ID_Venta": "3253",
                                    "Fecha venta": "21-Mar-19",
                                    "ID_producto": "4",
                                    "ID_Zona": "2",
                                    "Venta": "1389072",
                                    "ID_Vendedor": "46",
                                    "ID_Cliente": "8",
                                    "Seguimiento": "Menor_2.9"
                                },
                                {
                                    "ID_Venta": "3254",
                                    "Fecha venta": "22-Mar-19",
                                    "ID_producto": "7",
                                    "ID_Zona": "2",
                                    "Venta": "495093",
                                    "ID_Vendedor": "5",
                                    "ID_Cliente": "6",
                                    "Seguimiento": "Menor_2.9"
                                },
                                {
                                    "ID_Venta": "3255",
                                    "Fecha venta": "23-Mar-19",
                                    "ID_producto": "3",
                                    "ID_Zona": "2",
                                    "Venta": "1194726",
                                    "ID_Vendedor": "49",
                                    "ID_Cliente": "8",
                                    "Seguimiento": "Menor_2.9"
                                },
                                {
                                    "ID_Venta": "3256",
                                    "Fecha venta": "23-Mar-19",
                                    "ID_producto": "6",
                                    "ID_Zona": "2",
                                    "Venta": "2010960",
                                    "ID_Vendedor": "34",
                                    "ID_Cliente": "1",
                                    "Seguimiento": "Menor_2.9"
                                },
                                {
                                    "ID_Venta": "3257",
                                    "Fecha venta": "23-Mar-19",
                                    "ID_producto": "4",
                                    "ID_Zona": "2",
                                    "Venta": "912256",
                                    "ID_Vendedor": "7",
                                    "ID_Cliente": "2",
                                    "Seguimiento": "Menor_2.9"
                                },
                                {
                                    "ID_Venta": "3258",
                                    "Fecha venta": "24-Mar-19",
                                    "ID_producto": "2",
                                    "ID_Zona": "4",
                                    "Venta": "777868",
                                    "ID_Vendedor": "3",
                                    "ID_Cliente": "2",
                                    "Seguimiento": "Menor_2.9"
                                },
                                {
                                    "ID_Venta": "3259",
                                    "Fecha venta": "24-Mar-19",
                                    "ID_producto": "5",
                                    "ID_Zona": "1",
                                    "Venta": "1114746",
                                    "ID_Vendedor": "42",
                                    "ID_Cliente": "6",
                                    "Seguimiento": "Menor_2.9"
                                },
                                {
                                    "ID_Venta": "3260",
                                    "Fecha venta": "24-Mar-19",
                                    "ID_producto": "4",
                                    "ID_Zona": "1",
                                    "Venta": "1028676",
                                    "ID_Vendedor": "32",
                                    "ID_Cliente": "1",
                                    "Seguimiento": "Menor_2.9"
                                },
                                {
                                    "ID_Venta": "3261",
                                    "Fecha venta": "24-Mar-19",
                                    "ID_producto": "5",
                                    "ID_Zona": "1",
                                    "Venta": "1674794",
                                    "ID_Vendedor": "35",
                                    "ID_Cliente": "5",
                                    "Seguimiento": "Menor_2.9"
                                },
                                {
                                    "ID_Venta": "3262",
                                    "Fecha venta": "25-Mar-19",
                                    "ID_producto": "4",
                                    "ID_Zona": "3",
                                    "Venta": "1608903",
                                    "ID_Vendedor": "38",
                                    "ID_Cliente": "9",
                                    "Seguimiento": "Menor_2.9"
                                },
                                {
                                    "ID_Venta": "3263",
                                    "Fecha venta": "26-Mar-19",
                                    "ID_producto": "4",
                                    "ID_Zona": "4",
                                    "Venta": "1630569",
                                    "ID_Vendedor": "2",
                                    "ID_Cliente": "1",
                                    "Seguimiento": "Menor_2.9"
                                },
                                {
                                    "ID_Venta": "3264",
                                    "Fecha venta": "26-Mar-19",
                                    "ID_producto": "2",
                                    "ID_Zona": "3",
                                    "Venta": "1475952",
                                    "ID_Vendedor": "31",
                                    "ID_Cliente": "4",
                                    "Seguimiento": "Menor_2.9"
                                },
                                {
                                    "ID_Venta": "3265",
                                    "Fecha venta": "27-Mar-19",
                                    "ID_producto": "1",
                                    "ID_Zona": "2",
                                    "Venta": "393057",
                                    "ID_Vendedor": "23",
                                    "ID_Cliente": "7",
                                    "Seguimiento": "Menor_2.9"
                                },
                                {
                                    "ID_Venta": "3266",
                                    "Fecha venta": "27-Mar-19",
                                    "ID_producto": "4",
                                    "ID_Zona": "3",
                                    "Venta": "1925935",
                                    "ID_Vendedor": "22",
                                    "ID_Cliente": "3",
                                    "Seguimiento": "Menor_2.9"
                                },
                                {
                                    "ID_Venta": "3267",
                                    "Fecha venta": "28-Mar-19",
                                    "ID_producto": "4",
                                    "ID_Zona": "4",
                                    "Venta": "1682346",
                                    "ID_Vendedor": "41",
                                    "ID_Cliente": "9",
                                    "Seguimiento": "Menor_2.9"
                                },
                                {
                                    "ID_Venta": "3268",
                                    "Fecha venta": "29-Mar-19",
                                    "ID_producto": "5",
                                    "ID_Zona": "4",
                                    "Venta": "2908500",
                                    "ID_Vendedor": "43",
                                    "ID_Cliente": "10",
                                    "Seguimiento": "Mayor_2.9"
                                },
                                {
                                    "ID_Venta": "3269",
                                    "Fecha venta": "29-Mar-19",
                                    "ID_producto": "4",
                                    "ID_Zona": "3",
                                    "Venta": "1178610",
                                    "ID_Vendedor": "28",
                                    "ID_Cliente": "3",
                                    "Seguimiento": "Menor_2.9"
                                },
                                {
                                    "ID_Venta": "3270",
                                    "Fecha venta": "29-Mar-19",
                                    "ID_producto": "4",
                                    "ID_Zona": "3",
                                    "Venta": "622909",
                                    "ID_Vendedor": "9",
                                    "ID_Cliente": "6",
                                    "Seguimiento": "Menor_2.9"
                                },
                                {
                                    "ID_Venta": "3271",
                                    "Fecha venta": "30-Mar-19",
                                    "ID_producto": "1",
                                    "ID_Zona": "3",
                                    "Venta": "1056839",
                                    "ID_Vendedor": "37",
                                    "ID_Cliente": "1",
                                    "Seguimiento": "Menor_2.9"
                                },
                                {
                                    "ID_Venta": "3272",
                                    "Fecha venta": "30-Mar-19",
                                    "ID_producto": "3",
                                    "ID_Zona": "3",
                                    "Venta": "1656364",
                                    "ID_Vendedor": "6",
                                    "ID_Cliente": "7",
                                    "Seguimiento": "Menor_2.9"
                                },
                                {
                                    "ID_Venta": "3273",
                                    "Fecha venta": "30-Mar-19",
                                    "ID_producto": "2",
                                    "ID_Zona": "2",
                                    "Venta": "739872",
                                    "ID_Vendedor": "24",
                                    "ID_Cliente": "9",
                                    "Seguimiento": "Menor_2.9"
                                },
                                {
                                    "ID_Venta": "3274",
                                    "Fecha venta": "30-Mar-19",
                                    "ID_producto": "2",
                                    "ID_Zona": "1",
                                    "Venta": "898209",
                                    "ID_Vendedor": "16",
                                    "ID_Cliente": "5",
                                    "Seguimiento": "Menor_2.9"
                                },
                                {
                                    "ID_Venta": "3275",
                                    "Fecha venta": "31-Mar-19",
                                    "ID_producto": "4",
                                    "ID_Zona": "4",
                                    "Venta": "417564",
                                    "ID_Vendedor": "9",
                                    "ID_Cliente": "1",
                                    "Seguimiento": "Menor_2.9"
                                },
                                {
                                    "ID_Venta": "3276",
                                    "Fecha venta": "31-Mar-19",
                                    "ID_producto": "3",
                                    "ID_Zona": "2",
                                    "Venta": "591004",
                                    "ID_Vendedor": "1",
                                    "ID_Cliente": "6",
                                    "Seguimiento": "Menor_2.9"
                                },
                                {
                                    "ID_Venta": "3277",
                                    "Fecha venta": "4-Jan-19",
                                    "ID_producto": "1",
                                    "ID_Zona": "1",
                                    "Venta": "1802156",
                                    "ID_Vendedor": "40",
                                    "ID_Cliente": "3",
                                    "Seguimiento": "Menor_2.9"
                                },
                                {
                                    "ID_Venta": "3278",
                                    "Fecha venta": "4-Feb-19",
                                    "ID_producto": "3",
                                    "ID_Zona": "4",
                                    "Venta": "725474",
                                    "ID_Vendedor": "6",
                                    "ID_Cliente": "6",
                                    "Seguimiento": "Menor_2.9"
                                },
                                {
                                    "ID_Venta": "3279",
                                    "Fecha venta": "4-Feb-19",
                                    "ID_producto": "3",
                                    "ID_Zona": "1",
                                    "Venta": "845640",
                                    "ID_Vendedor": "15",
                                    "ID_Cliente": "4",
                                    "Seguimiento": "Menor_2.9"
                                },
                                {
                                    "ID_Venta": "3280",
                                    "Fecha venta": "4-Mar-19",
                                    "ID_producto": "5",
                                    "ID_Zona": "3",
                                    "Venta": "761536",
                                    "ID_Vendedor": "41",
                                    "ID_Cliente": "9",
                                    "Seguimiento": "Menor_2.9"
                                },
                                {
                                    "ID_Venta": "3281",
                                    "Fecha venta": "4-Mar-19",
                                    "ID_producto": "4",
                                    "ID_Zona": "2",
                                    "Venta": "2336340",
                                    "ID_Vendedor": "19",
                                    "ID_Cliente": "7",
                                    "Seguimiento": "Menor_2.9"
                                },
                                {
                                    "ID_Venta": "3282",
                                    "Fecha venta": "4-Mar-19",
                                    "ID_producto": "1",
                                    "ID_Zona": "4",
                                    "Venta": "1296900",
                                    "ID_Vendedor": "44",
                                    "ID_Cliente": "8",
                                    "Seguimiento": "Menor_2.9"
                                },
                                {
                                    "ID_Venta": "3283",
                                    "Fecha venta": "4-Apr-19",
                                    "ID_producto": "3",
                                    "ID_Zona": "2",
                                    "Venta": "2384334",
                                    "ID_Vendedor": "5",
                                    "ID_Cliente": "7",
                                    "Seguimiento": "Menor_2.9"
                                },
                                {
                                    "ID_Venta": "3284",
                                    "Fecha venta": "4-Apr-19",
                                    "ID_producto": "2",
                                    "ID_Zona": "1",
                                    "Venta": "1517292",
                                    "ID_Vendedor": "38",
                                    "ID_Cliente": "3",
                                    "Seguimiento": "Menor_2.9"
                                },
                                {
                                    "ID_Venta": "3285",
                                    "Fecha venta": "4-Apr-19",
                                    "ID_producto": "4",
                                    "ID_Zona": "3",
                                    "Venta": "631057",
                                    "ID_Vendedor": "33",
                                    "ID_Cliente": "6",
                                    "Seguimiento": "Menor_2.9"
                                },
                                {
                                    "ID_Venta": "3286",
                                    "Fecha venta": "4-Apr-19",
                                    "ID_producto": "4",
                                    "ID_Zona": "4",
                                    "Venta": "2490587",
                                    "ID_Vendedor": "4",
                                    "ID_Cliente": "4",
                                    "Seguimiento": "Menor_2.9"
                                },
                                {
                                    "ID_Venta": "3287",
                                    "Fecha venta": "4-May-19",
                                    "ID_producto": "1",
                                    "ID_Zona": "3",
                                    "Venta": "443460",
                                    "ID_Vendedor": "7",
                                    "ID_Cliente": "7",
                                    "Seguimiento": "Menor_2.9"
                                },
                                {
                                    "ID_Venta": "3288",
                                    "Fecha venta": "4-Jun-19",
                                    "ID_producto": "2",
                                    "ID_Zona": "4",
                                    "Venta": "2065357",
                                    "ID_Vendedor": "45",
                                    "ID_Cliente": "7",
                                    "Seguimiento": "Menor_2.9"
                                },
                                {
                                    "ID_Venta": "3289",
                                    "Fecha venta": "4-Jun-19",
                                    "ID_producto": "1",
                                    "ID_Zona": "1",
                                    "Venta": "2914416",
                                    "ID_Vendedor": "13",
                                    "ID_Cliente": "8",
                                    "Seguimiento": "Mayor_2.9"
                                },
                                {
                                    "ID_Venta": "3290",
                                    "Fecha venta": "4-Jun-19",
                                    "ID_producto": "5",
                                    "ID_Zona": "1",
                                    "Venta": "1147000",
                                    "ID_Vendedor": "9",
                                    "ID_Cliente": "7",
                                    "Seguimiento": "Menor_2.9"
                                },
                                {
                                    "ID_Venta": "3291",
                                    "Fecha venta": "4-Jul-19",
                                    "ID_producto": "6",
                                    "ID_Zona": "1",
                                    "Venta": "1567834",
                                    "ID_Vendedor": "7",
                                    "ID_Cliente": "9",
                                    "Seguimiento": "Menor_2.9"
                                },
                                {
                                    "ID_Venta": "3292",
                                    "Fecha venta": "4-Jul-19",
                                    "ID_producto": "3",
                                    "ID_Zona": "3",
                                    "Venta": "787400",
                                    "ID_Vendedor": "23",
                                    "ID_Cliente": "1",
                                    "Seguimiento": "Menor_2.9"
                                },
                                {
                                    "ID_Venta": "3293",
                                    "Fecha venta": "4-Jul-19",
                                    "ID_producto": "2",
                                    "ID_Zona": "2",
                                    "Venta": "1028159",
                                    "ID_Vendedor": "39",
                                    "ID_Cliente": "7",
                                    "Seguimiento": "Menor_2.9"
                                },
                                {
                                    "ID_Venta": "3294",
                                    "Fecha venta": "4-Jul-19",
                                    "ID_producto": "6",
                                    "ID_Zona": "2",
                                    "Venta": "818176",
                                    "ID_Vendedor": "17",
                                    "ID_Cliente": "4",
                                    "Seguimiento": "Menor_2.9"
                                },
                                {
                                    "ID_Venta": "3295",
                                    "Fecha venta": "4-Aug-19",
                                    "ID_producto": "1",
                                    "ID_Zona": "2",
                                    "Venta": "1088181",
                                    "ID_Vendedor": "38",
                                    "ID_Cliente": "3",
                                    "Seguimiento": "Menor_2.9"
                                },
                                {
                                    "ID_Venta": "3296",
                                    "Fecha venta": "4-Aug-19",
                                    "ID_producto": "5",
                                    "ID_Zona": "4",
                                    "Venta": "414829",
                                    "ID_Vendedor": "24",
                                    "ID_Cliente": "3",
                                    "Seguimiento": "Menor_2.9"
                                },
                                {
                                    "ID_Venta": "3297",
                                    "Fecha venta": "4-Aug-19",
                                    "ID_producto": "4",
                                    "ID_Zona": "1",
                                    "Venta": "1497132",
                                    "ID_Vendedor": "5",
                                    "ID_Cliente": "6",
                                    "Seguimiento": "Menor_2.9"
                                },
                                {
                                    "ID_Venta": "3298",
                                    "Fecha venta": "4-Sep-19",
                                    "ID_producto": "4",
                                    "ID_Zona": "3",
                                    "Venta": "2689434",
                                    "ID_Vendedor": "28",
                                    "ID_Cliente": "1",
                                    "Seguimiento": "Menor_2.9"
                                },
                                {
                                    "ID_Venta": "3299",
                                    "Fecha venta": "4-Sep-19",
                                    "ID_producto": "1",
                                    "ID_Zona": "2",
                                    "Venta": "1224850",
                                    "ID_Vendedor": "42",
                                    "ID_Cliente": "5",
                                    "Seguimiento": "Menor_2.9"
                                },
                                {
                                    "ID_Venta": "3300",
                                    "Fecha venta": "4-Sep-19",
                                    "ID_producto": "2",
                                    "ID_Zona": "2",
                                    "Venta": "881868",
                                    "ID_Vendedor": "17",
                                    "ID_Cliente": "7",
                                    "Seguimiento": "Menor_2.9"
                                },
                                {
                                    "ID_Venta": "3301",
                                    "Fecha venta": "4-Sep-19",
                                    "ID_producto": "5",
                                    "ID_Zona": "1",
                                    "Venta": "448065",
                                    "ID_Vendedor": "41",
                                    "ID_Cliente": "9",
                                    "Seguimiento": "Menor_2.9"
                                },
                                {
                                    "ID_Venta": "3302",
                                    "Fecha venta": "4-Sep-19",
                                    "ID_producto": "5",
                                    "ID_Zona": "3",
                                    "Venta": "2179125",
                                    "ID_Vendedor": "46",
                                    "ID_Cliente": "8",
                                    "Seguimiento": "Menor_2.9"
                                },
                                {
                                    "ID_Venta": "3303",
                                    "Fecha venta": "4-Sep-19",
                                    "ID_producto": "2",
                                    "ID_Zona": "4",
                                    "Venta": "916229",
                                    "ID_Vendedor": "10",
                                    "ID_Cliente": "1",
                                    "Seguimiento": "Menor_2.9"
                                },
                                {
                                    "ID_Venta": "3304",
                                    "Fecha venta": "4-Sep-19",
                                    "ID_producto": "6",
                                    "ID_Zona": "2",
                                    "Venta": "1270400",
                                    "ID_Vendedor": "11",
                                    "ID_Cliente": "3",
                                    "Seguimiento": "Menor_2.9"
                                },
                                {
                                    "ID_Venta": "3305",
                                    "Fecha venta": "4-Oct-19",
                                    "ID_producto": "5",
                                    "ID_Zona": "3",
                                    "Venta": "1026508",
                                    "ID_Vendedor": "9",
                                    "ID_Cliente": "6",
                                    "Seguimiento": "Menor_2.9"
                                },
                                {
                                    "ID_Venta": "3306",
                                    "Fecha venta": "4-Nov-19",
                                    "ID_producto": "2",
                                    "ID_Zona": "1",
                                    "Venta": "1760000",
                                    "ID_Vendedor": "33",
                                    "ID_Cliente": "5",
                                    "Seguimiento": "Menor_2.9"
                                },
                                {
                                    "ID_Venta": "3307",
                                    "Fecha venta": "4-Nov-19",
                                    "ID_producto": "1",
                                    "ID_Zona": "2",
                                    "Venta": "1533077",
                                    "ID_Vendedor": "34",
                                    "ID_Cliente": "4",
                                    "Seguimiento": "Menor_2.9"
                                },
                                {
                                    "ID_Venta": "3308",
                                    "Fecha venta": "13-Apr-19",
                                    "ID_producto": "2",
                                    "ID_Zona": "3",
                                    "Venta": "1180036",
                                    "ID_Vendedor": "27",
                                    "ID_Cliente": "6",
                                    "Seguimiento": "Menor_2.9"
                                },
                                {
                                    "ID_Venta": "3309",
                                    "Fecha venta": "13-Apr-19",
                                    "ID_producto": "6",
                                    "ID_Zona": "3",
                                    "Venta": "760620",
                                    "ID_Vendedor": "39",
                                    "ID_Cliente": "9",
                                    "Seguimiento": "Menor_2.9"
                                },
                                {
                                    "ID_Venta": "3310",
                                    "Fecha venta": "13-Apr-19",
                                    "ID_producto": "1",
                                    "ID_Zona": "3",
                                    "Venta": "825430",
                                    "ID_Vendedor": "15",
                                    "ID_Cliente": "5",
                                    "Seguimiento": "Menor_2.9"
                                },
                                {
                                    "ID_Venta": "3311",
                                    "Fecha venta": "14-Apr-19",
                                    "ID_producto": "4",
                                    "ID_Zona": "3",
                                    "Venta": "830830",
                                    "ID_Vendedor": "2",
                                    "ID_Cliente": "9",
                                    "Seguimiento": "Menor_2.9"
                                },
                                {
                                    "ID_Venta": "3312",
                                    "Fecha venta": "14-Apr-19",
                                    "ID_producto": "5",
                                    "ID_Zona": "3",
                                    "Venta": "2129576",
                                    "ID_Vendedor": "27",
                                    "ID_Cliente": "4",
                                    "Seguimiento": "Menor_2.9"
                                },
                                {
                                    "ID_Venta": "3313",
                                    "Fecha venta": "15-Apr-19",
                                    "ID_producto": "1",
                                    "ID_Zona": "3",
                                    "Venta": "1297780",
                                    "ID_Vendedor": "21",
                                    "ID_Cliente": "6",
                                    "Seguimiento": "Menor_2.9"
                                },
                                {
                                    "ID_Venta": "3314",
                                    "Fecha venta": "15-Apr-19",
                                    "ID_producto": "4",
                                    "ID_Zona": "4",
                                    "Venta": "1808512",
                                    "ID_Vendedor": "45",
                                    "ID_Cliente": "7",
                                    "Seguimiento": "Menor_2.9"
                                },
                                {
                                    "ID_Venta": "3315",
                                    "Fecha venta": "15-Apr-19",
                                    "ID_producto": "5",
                                    "ID_Zona": "3",
                                    "Venta": "1386892",
                                    "ID_Vendedor": "23",
                                    "ID_Cliente": "2",
                                    "Seguimiento": "Menor_2.9"
                                },
                                {
                                    "ID_Venta": "3316",
                                    "Fecha venta": "16-Apr-19",
                                    "ID_producto": "3",
                                    "ID_Zona": "4",
                                    "Venta": "1063902",
                                    "ID_Vendedor": "10",
                                    "ID_Cliente": "2",
                                    "Seguimiento": "Menor_2.9"
                                },
                                {
                                    "ID_Venta": "3317",
                                    "Fecha venta": "17-Apr-19",
                                    "ID_producto": "4",
                                    "ID_Zona": "2",
                                    "Venta": "1804088",
                                    "ID_Vendedor": "9",
                                    "ID_Cliente": "7",
                                    "Seguimiento": "Menor_2.9"
                                },
                                {
                                    "ID_Venta": "3318",
                                    "Fecha venta": "18-Apr-19",
                                    "ID_producto": "3",
                                    "ID_Zona": "1",
                                    "Venta": "394250",
                                    "ID_Vendedor": "47",
                                    "ID_Cliente": "5",
                                    "Seguimiento": "Menor_2.9"
                                },
                                {
                                    "ID_Venta": "3319",
                                    "Fecha venta": "18-Apr-19",
                                    "ID_producto": "5",
                                    "ID_Zona": "3",
                                    "Venta": "540018",
                                    "ID_Vendedor": "8",
                                    "ID_Cliente": "5",
                                    "Seguimiento": "Menor_2.9"
                                },
                                {
                                    "ID_Venta": "3320",
                                    "Fecha venta": "19-Apr-19",
                                    "ID_producto": "3",
                                    "ID_Zona": "3",
                                    "Venta": "293172",
                                    "ID_Vendedor": "27",
                                    "ID_Cliente": "10",
                                    "Seguimiento": "Menor_2.9"
                                },
                                {
                                    "ID_Venta": "3321",
                                    "Fecha venta": "20-Apr-19",
                                    "ID_producto": "1",
                                    "ID_Zona": "4",
                                    "Venta": "607014",
                                    "ID_Vendedor": "14",
                                    "ID_Cliente": "8",
                                    "Seguimiento": "Menor_2.9"
                                },
                                {
                                    "ID_Venta": "3322",
                                    "Fecha venta": "20-Apr-19",
                                    "ID_producto": "2",
                                    "ID_Zona": "4",
                                    "Venta": "180048",
                                    "ID_Vendedor": "37",
                                    "ID_Cliente": "10",
                                    "Seguimiento": "Menor_2.9"
                                },
                                {
                                    "ID_Venta": "3323",
                                    "Fecha venta": "20-Apr-19",
                                    "ID_producto": "6",
                                    "ID_Zona": "4",
                                    "Venta": "2686236",
                                    "ID_Vendedor": "19",
                                    "ID_Cliente": "8",
                                    "Seguimiento": "Menor_2.9"
                                },
                                {
                                    "ID_Venta": "3324",
                                    "Fecha venta": "21-Apr-19",
                                    "ID_producto": "3",
                                    "ID_Zona": "4",
                                    "Venta": "807432",
                                    "ID_Vendedor": "2",
                                    "ID_Cliente": "3",
                                    "Seguimiento": "Menor_2.9"
                                },
                                {
                                    "ID_Venta": "3325",
                                    "Fecha venta": "21-Apr-19",
                                    "ID_producto": "3",
                                    "ID_Zona": "3",
                                    "Venta": "463424",
                                    "ID_Vendedor": "9",
                                    "ID_Cliente": "7",
                                    "Seguimiento": "Menor_2.9"
                                },
                                {
                                    "ID_Venta": "3326",
                                    "Fecha venta": "22-Apr-19",
                                    "ID_producto": "5",
                                    "ID_Zona": "4",
                                    "Venta": "2078216",
                                    "ID_Vendedor": "34",
                                    "ID_Cliente": "2",
                                    "Seguimiento": "Menor_2.9"
                                },
                                {
                                    "ID_Venta": "3327",
                                    "Fecha venta": "22-Apr-19",
                                    "ID_producto": "4",
                                    "ID_Zona": "4",
                                    "Venta": "999005",
                                    "ID_Vendedor": "29",
                                    "ID_Cliente": "8",
                                    "Seguimiento": "Menor_2.9"
                                },
                                {
                                    "ID_Venta": "3328",
                                    "Fecha venta": "23-Apr-19",
                                    "ID_producto": "4",
                                    "ID_Zona": "1",
                                    "Venta": "355135",
                                    "ID_Vendedor": "37",
                                    "ID_Cliente": "10",
                                    "Seguimiento": "Menor_2.9"
                                },
                                {
                                    "ID_Venta": "3329",
                                    "Fecha venta": "23-Apr-19",
                                    "ID_producto": "6",
                                    "ID_Zona": "4",
                                    "Venta": "2517504",
                                    "ID_Vendedor": "3",
                                    "ID_Cliente": "10",
                                    "Seguimiento": "Menor_2.9"
                                },
                                {
                                    "ID_Venta": "3330",
                                    "Fecha venta": "24-Apr-19",
                                    "ID_producto": "1",
                                    "ID_Zona": "4",
                                    "Venta": "612568",
                                    "ID_Vendedor": "10",
                                    "ID_Cliente": "8",
                                    "Seguimiento": "Menor_2.9"
                                },
                                {
                                    "ID_Venta": "3331",
                                    "Fecha venta": "24-Apr-19",
                                    "ID_producto": "2",
                                    "ID_Zona": "2",
                                    "Venta": "845790",
                                    "ID_Vendedor": "36",
                                    "ID_Cliente": "5",
                                    "Seguimiento": "Menor_2.9"
                                },
                                {
                                    "ID_Venta": "3332",
                                    "Fecha venta": "26-Apr-19",
                                    "ID_producto": "3",
                                    "ID_Zona": "1",
                                    "Venta": "1031320",
                                    "ID_Vendedor": "31",
                                    "ID_Cliente": "2",
                                    "Seguimiento": "Menor_2.9"
                                },
                                {
                                    "ID_Venta": "3333",
                                    "Fecha venta": "26-Apr-19",
                                    "ID_producto": "5",
                                    "ID_Zona": "1",
                                    "Venta": "1450644",
                                    "ID_Vendedor": "4",
                                    "ID_Cliente": "4",
                                    "Seguimiento": "Menor_2.9"
                                },
                                {
                                    "ID_Venta": "3334",
                                    "Fecha venta": "26-Apr-19",
                                    "ID_producto": "6",
                                    "ID_Zona": "2",
                                    "Venta": "454080",
                                    "ID_Vendedor": "19",
                                    "ID_Cliente": "1",
                                    "Seguimiento": "Menor_2.9"
                                },
                                {
                                    "ID_Venta": "3335",
                                    "Fecha venta": "27-Apr-19",
                                    "ID_producto": "4",
                                    "ID_Zona": "3",
                                    "Venta": "740688",
                                    "ID_Vendedor": "31",
                                    "ID_Cliente": "1",
                                    "Seguimiento": "Menor_2.9"
                                },
                                {
                                    "ID_Venta": "3336",
                                    "Fecha venta": "27-Apr-19",
                                    "ID_producto": "6",
                                    "ID_Zona": "4",
                                    "Venta": "397408",
                                    "ID_Vendedor": "44",
                                    "ID_Cliente": "4",
                                    "Seguimiento": "Menor_2.9"
                                },
                                {
                                    "ID_Venta": "3337",
                                    "Fecha venta": "27-Apr-19",
                                    "ID_producto": "1",
                                    "ID_Zona": "1",
                                    "Venta": "2140712",
                                    "ID_Vendedor": "4",
                                    "ID_Cliente": "8",
                                    "Seguimiento": "Menor_2.9"
                                }
                            ]
                        },
                        "text/html": "<table><tr><th>ID_Venta</th><th>Fecha venta</th><th>ID_producto</th><th>ID_Zona</th><th>Venta</th><th>ID_Vendedor</th><th>ID_Cliente</th><th>Seguimiento</th></tr><tr><td>3025</td><td>1-Jan-19</td><td>3</td><td>1</td><td>2662784</td><td>26</td><td>2</td><td>Menor_2.9</td></tr><tr><td>3026</td><td>1-Jan-19</td><td>2</td><td>1</td><td>821748</td><td>40</td><td>10</td><td>Menor_2.9</td></tr><tr><td>3027</td><td>1-Feb-19</td><td>2</td><td>1</td><td>1335499</td><td>38</td><td>9</td><td>Menor_2.9</td></tr><tr><td>3028</td><td>1-Mar-19</td><td>1</td><td>2</td><td>2398617</td><td>7</td><td>7</td><td>Menor_2.9</td></tr><tr><td>3029</td><td>1-Mar-19</td><td>3</td><td>1</td><td>486416</td><td>15</td><td>8</td><td>Menor_2.9</td></tr><tr><td>3030</td><td>1-Apr-19</td><td>4</td><td>2</td><td>429730</td><td>49</td><td>6</td><td>Menor_2.9</td></tr><tr><td>3031</td><td>1-Apr-19</td><td>5</td><td>1</td><td>904344</td><td>49</td><td>8</td><td>Menor_2.9</td></tr><tr><td>3032</td><td>1-May-19</td><td>4</td><td>3</td><td>643200</td><td>47</td><td>2</td><td>Menor_2.9</td></tr><tr><td>3033</td><td>1-May-19</td><td>5</td><td>2</td><td>571676</td><td>28</td><td>7</td><td>Menor_2.9</td></tr><tr><td>3034</td><td>1-May-19</td><td>4</td><td>1</td><td>885960</td><td>44</td><td>9</td><td>Menor_2.9</td></tr><tr><td>3035</td><td>1-May-19</td><td>4</td><td>1</td><td>1520119</td><td>38</td><td>2</td><td>Menor_2.9</td></tr><tr><td>3036</td><td>1-Jun-19</td><td>4</td><td>3</td><td>1895036</td><td>24</td><td>1</td><td>Menor_2.9</td></tr><tr><td>3037</td><td>1-Jun-19</td><td>3</td><td>4</td><td>1022140</td><td>8</td><td>4</td><td>Menor_2.9</td></tr><tr><td>3038</td><td>1-Jun-19</td><td>4</td><td>3</td><td>862634</td><td>21</td><td>8</td><td>Menor_2.9</td></tr><tr><td>3039</td><td>1-Jun-19</td><td>4</td><td>4</td><td>1156990</td><td>24</td><td>10</td><td>Menor_2.9</td></tr><tr><td>3040</td><td>1-Jun-19</td><td>4</td><td>1</td><td>1108128</td><td>25</td><td>2</td><td>Menor_2.9</td></tr><tr><td>3041</td><td>1-Jun-19</td><td>3</td><td>3</td><td>713250</td><td>1</td><td>6</td><td>Menor_2.9</td></tr><tr><td>3042</td><td>1-Jun-19</td><td>1</td><td>4</td><td>610816</td><td>2</td><td>1</td><td>Menor_2.9</td></tr><tr><td>3043</td><td>1-Jun-19</td><td>2</td><td>1</td><td>709596</td><td>32</td><td>6</td><td>Menor_2.9</td></tr><tr><td>3044</td><td>1-Jun-19</td><td>3</td><td>1</td><td>1635413</td><td>20</td><td>4</td><td>Menor_2.9</td></tr><tr><td>3045</td><td>1-Jul-19</td><td>6</td><td>4</td><td>1296258</td><td>14</td><td>4</td><td>Menor_2.9</td></tr><tr><td>3046</td><td>1-Jul-19</td><td>1</td><td>4</td><td>1077858</td><td>34</td><td>3</td><td>Menor_2.9</td></tr><tr><td>3047</td><td>1-Jul-19</td><td>3</td><td>4</td><td>1880032</td><td>31</td><td>4</td><td>Menor_2.9</td></tr><tr><td>3048</td><td>1-Jul-19</td><td>2</td><td>1</td><td>1934080</td><td>47</td><td>3</td><td>Menor_2.9</td></tr><tr><td>3049</td><td>1-Jul-19</td><td>4</td><td>2</td><td>269724</td><td>2</td><td>4</td><td>Menor_2.9</td></tr><tr><td>3050</td><td>1-Aug-19</td><td>3</td><td>4</td><td>440500</td><td>11</td><td>10</td><td>Menor_2.9</td></tr><tr><td>3051</td><td>1-Aug-19</td><td>4</td><td>4</td><td>1369333</td><td>24</td><td>5</td><td>Menor_2.9</td></tr><tr><td>3052</td><td>1-Aug-19</td><td>2</td><td>2</td><td>1965472</td><td>9</td><td>3</td><td>Menor_2.9</td></tr><tr><td>3053</td><td>1-Sep-19</td><td>6</td><td>2</td><td>1425488</td><td>43</td><td>2</td><td>Menor_2.9</td></tr><tr><td>3054</td><td>1-Sep-19</td><td>4</td><td>1</td><td>896800</td><td>15</td><td>9</td><td>Menor_2.9</td></tr><tr><td>3055</td><td>1-Sep-19</td><td>6</td><td>3</td><td>2204352</td><td>38</td><td>2</td><td>Menor_2.9</td></tr><tr><td>3056</td><td>1-Oct-19</td><td>6</td><td>4</td><td>511700</td><td>32</td><td>4</td><td>Menor_2.9</td></tr><tr><td>3057</td><td>1-Oct-19</td><td>4</td><td>4</td><td>1578675</td><td>8</td><td>1</td><td>Menor_2.9</td></tr><tr><td>3058</td><td>1-Oct-19</td><td>6</td><td>1</td><td>730452</td><td>25</td><td>9</td><td>Menor_2.9</td></tr><tr><td>3059</td><td>1-Nov-19</td><td>4</td><td>1</td><td>2797050</td><td>33</td><td>4</td><td>Menor_2.9</td></tr><tr><td>3060</td><td>1-Nov-19</td><td>4</td><td>4</td><td>2427311</td><td>20</td><td>4</td><td>Menor_2.9</td></tr><tr><td>3061</td><td>1-Nov-19</td><td>6</td><td>2</td><td>932292</td><td>29</td><td>1</td><td>Menor_2.9</td></tr><tr><td>3062</td><td>1-Nov-19</td><td>5</td><td>3</td><td>373240</td><td>32</td><td>3</td><td>Menor_2.9</td></tr><tr><td>3063</td><td>1-Dec-19</td><td>1</td><td>4</td><td>537825</td><td>43</td><td>5</td><td>Menor_2.9</td></tr><tr><td>3064</td><td>1-Dec-19</td><td>6</td><td>4</td><td>761520</td><td>14</td><td>8</td><td>Menor_2.9</td></tr><tr><td>3065</td><td>1-Dec-19</td><td>1</td><td>3</td><td>1486030</td><td>11</td><td>4</td><td>Menor_2.9</td></tr><tr><td>3066</td><td>1-Dec-19</td><td>6</td><td>2</td><td>968243</td><td>45</td><td>4</td><td>Menor_2.9</td></tr><tr><td>3067</td><td>13-Jan-19</td><td>6</td><td>4</td><td>1856000</td><td>12</td><td>6</td><td>Menor_2.9</td></tr><tr><td>3068</td><td>14-Jan-19</td><td>4</td><td>4</td><td>814380</td><td>49</td><td>4</td><td>Menor_2.9</td></tr><tr><td>3069</td><td>14-Jan-19</td><td>5</td><td>3</td><td>1230684</td><td>9</td><td>8</td><td>Menor_2.9</td></tr><tr><td>3070</td><td>15-Jan-19</td><td>1</td><td>2</td><td>1857735</td><td>2</td><td>6</td><td>Menor_2.9</td></tr><tr><td>3071</td><td>15-Jan-19</td><td>2</td><td>3</td><td>1360268</td><td>8</td><td>7</td><td>Menor_2.9</td></tr><tr><td>3072</td><td>15-Jan-19</td><td>4</td><td>2</td><td>2291421</td><td>8</td><td>1</td><td>Menor_2.9</td></tr><tr><td>3073</td><td>16-Jan-19</td><td>4</td><td>3</td><td>1598664</td><td>28</td><td>1</td><td>Menor_2.9</td></tr><tr><td>3074</td><td>17-Jan-19</td><td>3</td><td>4</td><td>885969</td><td>27</td><td>8</td><td>Menor_2.9</td></tr><tr><td>3075</td><td>17-Jan-19</td><td>5</td><td>2</td><td>485240</td><td>34</td><td>8</td><td>Menor_2.9</td></tr><tr><td>3076</td><td>17-Jan-19</td><td>1</td><td>3</td><td>2143368</td><td>29</td><td>7</td><td>Menor_2.9</td></tr><tr><td>3077</td><td>17-Jan-19</td><td>5</td><td>1</td><td>1570624</td><td>12</td><td>4</td><td>Menor_2.9</td></tr><tr><td>3078</td><td>17-Jan-19</td><td>5</td><td>4</td><td>1517889</td><td>9</td><td>1</td><td>Menor_2.9</td></tr><tr><td>3079</td><td>18-Jan-19</td><td>2</td><td>2</td><td>1047917</td><td>27</td><td>4</td><td>Menor_2.9</td></tr><tr><td>3080</td><td>18-Jan-19</td><td>2</td><td>2</td><td>393736</td><td>26</td><td>8</td><td>Menor_2.9</td></tr><tr><td>3081</td><td>18-Jan-19</td><td>6</td><td>3</td><td>1491920</td><td>40</td><td>2</td><td>Menor_2.9</td></tr><tr><td>3082</td><td>18-Jan-19</td><td>1</td><td>4</td><td>1420132</td><td>10</td><td>6</td><td>Menor_2.9</td></tr><tr><td>3083</td><td>19-Jan-19</td><td>6</td><td>2</td><td>1511944</td><td>25</td><td>5</td><td>Menor_2.9</td></tr><tr><td>3084</td><td>20-Jan-19</td><td>5</td><td>2</td><td>569098</td><td>17</td><td>1</td><td>Menor_2.9</td></tr><tr><td>3085</td><td>20-Jan-19</td><td>2</td><td>4</td><td>784080</td><td>4</td><td>7</td><td>Menor_2.9</td></tr><tr><td>3086</td><td>20-Jan-19</td><td>4</td><td>3</td><td>657270</td><td>26</td><td>10</td><td>Menor_2.9</td></tr><tr><td>3087</td><td>20-Jan-19</td><td>1</td><td>1</td><td>268332</td><td>9</td><td>4</td><td>Menor_2.9</td></tr><tr><td>3088</td><td>20-Jan-19</td><td>2</td><td>1</td><td>1677492</td><td>10</td><td>9</td><td>Menor_2.9</td></tr><tr><td>3089</td><td>20-Jan-19</td><td>5</td><td>2</td><td>1494204</td><td>38</td><td>3</td><td>Menor_2.9</td></tr><tr><td>3090</td><td>21-Jan-19</td><td>2</td><td>3</td><td>2321325</td><td>6</td><td>6</td><td>Menor_2.9</td></tr><tr><td>3091</td><td>22-Jan-19</td><td>4</td><td>3</td><td>1896340</td><td>41</td><td>6</td><td>Menor_2.9</td></tr><tr><td>3092</td><td>23-Jan-19</td><td>1</td><td>4</td><td>1788885</td><td>8</td><td>4</td><td>Menor_2.9</td></tr><tr><td>3093</td><td>23-Jan-19</td><td>5</td><td>3</td><td>1554336</td><td>49</td><td>3</td><td>Menor_2.9</td></tr><tr><td>3094</td><td>23-Jan-19</td><td>4</td><td>3</td><td>1086478</td><td>13</td><td>6</td><td>Menor_2.9</td></tr><tr><td>3095</td><td>24-Jan-19</td><td>2</td><td>2</td><td>302100</td><td>45</td><td>4</td><td>Menor_2.9</td></tr><tr><td>3096</td><td>24-Jan-19</td><td>5</td><td>1</td><td>2189122</td><td>12</td><td>10</td><td>Menor_2.9</td></tr><tr><td>3097</td><td>25-Jan-19</td><td>6</td><td>3</td><td>1014928</td><td>30</td><td>1</td><td>Menor_2.9</td></tr><tr><td>3098</td><td>26-Jan-19</td><td>5</td><td>4</td><td>381254</td><td>12</td><td>1</td><td>Menor_2.9</td></tr><tr><td>3099</td><td>26-Jan-19</td><td>3</td><td>4</td><td>2563064</td><td>38</td><td>10</td><td>Menor_2.9</td></tr><tr><td>3100</td><td>26-Jan-19</td><td>1</td><td>4</td><td>1445090</td><td>20</td><td>8</td><td>Menor_2.9</td></tr><tr><td>3101</td><td>26-Jan-19</td><td>3</td><td>1</td><td>2148783</td><td>41</td><td>4</td><td>Menor_2.9</td></tr><tr><td>3102</td><td>27-Jan-19</td><td>5</td><td>1</td><td>1295712</td><td>41</td><td>9</td><td>Menor_2.9</td></tr><tr><td>3103</td><td>28-Jan-19</td><td>4</td><td>4</td><td>921827</td><td>15</td><td>5</td><td>Menor_2.9</td></tr><tr><td>3104</td><td>28-Jan-19</td><td>4</td><td>3</td><td>915936</td><td>36</td><td>5</td><td>Menor_2.9</td></tr><tr><td>3105</td><td>29-Jan-19</td><td>6</td><td>3</td><td>659808</td><td>26</td><td>1</td><td>Menor_2.9</td></tr><tr><td>3106</td><td>29-Jan-19</td><td>5</td><td>2</td><td>1636700</td><td>14</td><td>1</td><td>Menor_2.9</td></tr><tr><td>3107</td><td>29-Jan-19</td><td>4</td><td>2</td><td>997776</td><td>14</td><td>9</td><td>Menor_2.9</td></tr><tr><td>3108</td><td>29-Jan-19</td><td>2</td><td>2</td><td>1065995</td><td>36</td><td>6</td><td>Menor_2.9</td></tr><tr><td>3109</td><td>30-Jan-19</td><td>4</td><td>3</td><td>599604</td><td>20</td><td>1</td><td>Menor_2.9</td></tr><tr><td>3110</td><td>30-Jan-19</td><td>1</td><td>2</td><td>301346</td><td>6</td><td>9</td><td>Menor_2.9</td></tr><tr><td>3111</td><td>30-Jan-19</td><td>3</td><td>4</td><td>860676</td><td>25</td><td>10</td><td>Menor_2.9</td></tr><tr><td>3112</td><td>30-Jan-19</td><td>4</td><td>4</td><td>684356</td><td>47</td><td>10</td><td>Menor_2.9</td></tr><tr><td>3113</td><td>31-Jan-19</td><td>6</td><td>4</td><td>1005648</td><td>17</td><td>7</td><td>Menor_2.9</td></tr><tr><td>3114</td><td>31-Jan-19</td><td>4</td><td>4</td><td>1045486</td><td>28</td><td>5</td><td>Menor_2.9</td></tr><tr><td>3115</td><td>31-Jan-19</td><td>1</td><td>1</td><td>1528906</td><td>25</td><td>1</td><td>Menor_2.9</td></tr><tr><td>3116</td><td>2-Jan-19</td><td>3</td><td>1</td><td>285136</td><td>10</td><td>1</td><td>Menor_2.9</td></tr><tr><td>3117</td><td>2-Jan-19</td><td>4</td><td>2</td><td>1431040</td><td>26</td><td>9</td><td>Menor_2.9</td></tr><tr><td>3118</td><td>2-Feb-19</td><td>6</td><td>3</td><td>2449082</td><td>17</td><td>10</td><td>Menor_2.9</td></tr><tr><td>3119</td><td>2-Mar-19</td><td>5</td><td>4</td><td>952929</td><td>10</td><td>1</td><td>Menor_2.9</td></tr><tr><td>3120</td><td>2-Mar-19</td><td>4</td><td>1</td><td>1746420</td><td>1</td><td>6</td><td>Menor_2.9</td></tr><tr><td>3121</td><td>2-Mar-19</td><td>1</td><td>3</td><td>2658076</td><td>30</td><td>2</td><td>Menor_2.9</td></tr><tr><td>3122</td><td>2-Mar-19</td><td>5</td><td>4</td><td>496020</td><td>18</td><td>2</td><td>Menor_2.9</td></tr><tr><td>3123</td><td>2-May-19</td><td>1</td><td>3</td><td>185010</td><td>37</td><td>9</td><td>Menor_2.9</td></tr><tr><td>3124</td><td>2-Jun-19</td><td>1</td><td>2</td><td>2154096</td><td>43</td><td>5</td><td>Menor_2.9</td></tr><tr><td>3125</td><td>2-Jul-19</td><td>6</td><td>4</td><td>688058</td><td>40</td><td>9</td><td>Menor_2.9</td></tr><tr><td>3126</td><td>2-Jul-19</td><td>3</td><td>3</td><td>2902284</td><td>27</td><td>6</td><td>Mayor_2.9</td></tr><tr><td>3127</td><td>2-Jul-19</td><td>5</td><td>1</td><td>523802</td><td>19</td><td>10</td><td>Menor_2.9</td></tr><tr><td>3128</td><td>2-Jul-19</td><td>2</td><td>1</td><td>1817442</td><td>10</td><td>1</td><td>Menor_2.9</td></tr><tr><td>3129</td><td>2-Aug-19</td><td>5</td><td>2</td><td>1050664</td><td>36</td><td>4</td><td>Menor_2.9</td></tr><tr><td>3130</td><td>2-Aug-19</td><td>1</td><td>3</td><td>443362</td><td>47</td><td>9</td><td>Menor_2.9</td></tr><tr><td>3131</td><td>2-Aug-19</td><td>4</td><td>1</td><td>839913</td><td>8</td><td>7</td><td>Menor_2.9</td></tr><tr><td>3132</td><td>2-Aug-19</td><td>1</td><td>4</td><td>521910</td><td>42</td><td>7</td><td>Menor_2.9</td></tr><tr><td>3133</td><td>2-Sep-19</td><td>4</td><td>4</td><td>519023</td><td>34</td><td>10</td><td>Menor_2.9</td></tr><tr><td>3134</td><td>2-Sep-19</td><td>2</td><td>3</td><td>1468740</td><td>26</td><td>5</td><td>Menor_2.9</td></tr><tr><td>3135</td><td>2-Sep-19</td><td>2</td><td>1</td><td>1048714</td><td>13</td><td>4</td><td>Menor_2.9</td></tr><tr><td>3136</td><td>2-Sep-19</td><td>2</td><td>4</td><td>417626</td><td>8</td><td>1</td><td>Menor_2.9</td></tr><tr><td>3137</td><td>2-Oct-19</td><td>4</td><td>2</td><td>268488</td><td>2</td><td>5</td><td>Menor_2.9</td></tr><tr><td>3138</td><td>2-Nov-19</td><td>2</td><td>3</td><td>1108604</td><td>46</td><td>9</td><td>Menor_2.9</td></tr><tr><td>3139</td><td>2-Dec-19</td><td>3</td><td>3</td><td>2357240</td><td>41</td><td>3</td><td>Menor_2.9</td></tr><tr><td>3140</td><td>2-Dec-19</td><td>5</td><td>2</td><td>1248072</td><td>41</td><td>6</td><td>Menor_2.9</td></tr><tr><td>3141</td><td>13-Feb-19</td><td>5</td><td>2</td><td>1708434</td><td>8</td><td>7</td><td>Menor_2.9</td></tr><tr><td>3142</td><td>13-Feb-19</td><td>5</td><td>1</td><td>802393</td><td>22</td><td>5</td><td>Menor_2.9</td></tr><tr><td>3143</td><td>14-Feb-19</td><td>6</td><td>2</td><td>979183</td><td>36</td><td>3</td><td>Menor_2.9</td></tr><tr><td>3144</td><td>14-Feb-19</td><td>5</td><td>2</td><td>1978848</td><td>46</td><td>4</td><td>Menor_2.9</td></tr><tr><td>3145</td><td>14-Feb-19</td><td>3</td><td>2</td><td>1789866</td><td>12</td><td>7</td><td>Menor_2.9</td></tr><tr><td>3146</td><td>15-Feb-19</td><td>3</td><td>2</td><td>1568610</td><td>29</td><td>6</td><td>Menor_2.9</td></tr><tr><td>3147</td><td>15-Feb-19</td><td>5</td><td>2</td><td>1325730</td><td>27</td><td>4</td><td>Menor_2.9</td></tr><tr><td>3148</td><td>15-Feb-19</td><td>5</td><td>3</td><td>1855770</td><td>25</td><td>8</td><td>Menor_2.9</td></tr><tr><td>3149</td><td>15-Feb-19</td><td>6</td><td>2</td><td>324648</td><td>16</td><td>6</td><td>Menor_2.9</td></tr><tr><td>3150</td><td>16-Feb-19</td><td>4</td><td>3</td><td>1158894</td><td>3</td><td>9</td><td>Menor_2.9</td></tr><tr><td>3151</td><td>16-Feb-19</td><td>3</td><td>2</td><td>293303</td><td>45</td><td>9</td><td>Menor_2.9</td></tr><tr><td>3152</td><td>16-Feb-19</td><td>4</td><td>4</td><td>260775</td><td>14</td><td>6</td><td>Menor_2.9</td></tr><tr><td>3153</td><td>16-Feb-19</td><td>4</td><td>2</td><td>1040635</td><td>29</td><td>7</td><td>Menor_2.9</td></tr><tr><td>3154</td><td>17-Feb-19</td><td>4</td><td>4</td><td>1527516</td><td>6</td><td>6</td><td>Menor_2.9</td></tr><tr><td>3155</td><td>17-Feb-19</td><td>5</td><td>1</td><td>590785</td><td>19</td><td>1</td><td>Menor_2.9</td></tr><tr><td>3156</td><td>18-Feb-19</td><td>6</td><td>1</td><td>858714</td><td>42</td><td>2</td><td>Menor_2.9</td></tr><tr><td>3157</td><td>19-Feb-19</td><td>2</td><td>4</td><td>435670</td><td>49</td><td>6</td><td>Menor_2.9</td></tr><tr><td>3158</td><td>19-Feb-19</td><td>2</td><td>4</td><td>1127274</td><td>29</td><td>10</td><td>Menor_2.9</td></tr><tr><td>3159</td><td>19-Feb-19</td><td>3</td><td>3</td><td>305945</td><td>17</td><td>10</td><td>Menor_2.9</td></tr><tr><td>3160</td><td>19-Feb-19</td><td>5</td><td>1</td><td>992698</td><td>37</td><td>9</td><td>Menor_2.9</td></tr><tr><td>3161</td><td>20-Feb-19</td><td>1</td><td>1</td><td>648092</td><td>1</td><td>4</td><td>Menor_2.9</td></tr><tr><td>3162</td><td>20-Feb-19</td><td>5</td><td>4</td><td>2186658</td><td>19</td><td>5</td><td>Menor_2.9</td></tr><tr><td>3163</td><td>20-Feb-19</td><td>2</td><td>2</td><td>973206</td><td>47</td><td>1</td><td>Menor_2.9</td></tr><tr><td>3164</td><td>20-Feb-19</td><td>4</td><td>3</td><td>1175040</td><td>47</td><td>8</td><td>Menor_2.9</td></tr><tr><td>3165</td><td>21-Feb-19</td><td>2</td><td>1</td><td>1433796</td><td>23</td><td>8</td><td>Menor_2.9</td></tr><tr><td>3166</td><td>21-Feb-19</td><td>4</td><td>4</td><td>348696</td><td>17</td><td>4</td><td>Menor_2.9</td></tr><tr><td>3167</td><td>22-Feb-19</td><td>2</td><td>1</td><td>738700</td><td>40</td><td>9</td><td>Menor_2.9</td></tr><tr><td>3168</td><td>22-Feb-19</td><td>1</td><td>1</td><td>1374975</td><td>11</td><td>8</td><td>Menor_2.9</td></tr><tr><td>3169</td><td>23-Feb-19</td><td>5</td><td>1</td><td>2066100</td><td>11</td><td>9</td><td>Menor_2.9</td></tr><tr><td>3170</td><td>23-Feb-19</td><td>4</td><td>1</td><td>1576848</td><td>27</td><td>4</td><td>Menor_2.9</td></tr><tr><td>3171</td><td>23-Feb-19</td><td>3</td><td>2</td><td>684588</td><td>46</td><td>4</td><td>Menor_2.9</td></tr><tr><td>3172</td><td>23-Feb-19</td><td>4</td><td>2</td><td>1478573</td><td>21</td><td>4</td><td>Menor_2.9</td></tr><tr><td>3173</td><td>24-Feb-19</td><td>4</td><td>4</td><td>1395837</td><td>32</td><td>1</td><td>Menor_2.9</td></tr><tr><td>3174</td><td>24-Feb-19</td><td>6</td><td>2</td><td>520384</td><td>19</td><td>3</td><td>Menor_2.9</td></tr><tr><td>3175</td><td>24-Feb-19</td><td>2</td><td>3</td><td>1780812</td><td>45</td><td>6</td><td>Menor_2.9</td></tr><tr><td>3176</td><td>24-Feb-19</td><td>2</td><td>2</td><td>825759</td><td>36</td><td>4</td><td>Menor_2.9</td></tr><tr><td>3177</td><td>25-Feb-19</td><td>6</td><td>2</td><td>801408</td><td>16</td><td>5</td><td>Menor_2.9</td></tr><tr><td>3178</td><td>25-Feb-19</td><td>4</td><td>3</td><td>1028074</td><td>38</td><td>7</td><td>Menor_2.9</td></tr><tr><td>3179</td><td>26-Feb-19</td><td>1</td><td>3</td><td>904935</td><td>38</td><td>4</td><td>Menor_2.9</td></tr><tr><td>3180</td><td>26-Feb-19</td><td>6</td><td>2</td><td>1615068</td><td>45</td><td>5</td><td>Menor_2.9</td></tr><tr><td>3181</td><td>28-Feb-19</td><td>6</td><td>2</td><td>957453</td><td>4</td><td>7</td><td>Menor_2.9</td></tr><tr><td>3182</td><td>28-Feb-19</td><td>4</td><td>1</td><td>1587768</td><td>16</td><td>5</td><td>Menor_2.9</td></tr><tr><td>3183</td><td>28-Feb-19</td><td>3</td><td>3</td><td>606279</td><td>2</td><td>4</td><td>Menor_2.9</td></tr><tr><td>3184</td><td>28-Feb-19</td><td>6</td><td>4</td><td>2233602</td><td>31</td><td>4</td><td>Menor_2.9</td></tr><tr><td>3185</td><td>28-Feb-19</td><td>5</td><td>4</td><td>1913624</td><td>31</td><td>7</td><td>Menor_2.9</td></tr><tr><td>3186</td><td>3-Jan-19</td><td>5</td><td>1</td><td>1583686</td><td>30</td><td>7</td><td>Menor_2.9</td></tr><tr><td>3187</td><td>3-Jan-19</td><td>6</td><td>2</td><td>1420020</td><td>45</td><td>9</td><td>Menor_2.9</td></tr><tr><td>3188</td><td>3-Jan-19</td><td>6</td><td>3</td><td>311090</td><td>25</td><td>7</td><td>Menor_2.9</td></tr><tr><td>3189</td><td>3-Jan-19</td><td>5</td><td>3</td><td>732028</td><td>45</td><td>2</td><td>Menor_2.9</td></tr><tr><td>3190</td><td>3-Feb-19</td><td>1</td><td>4</td><td>1324008</td><td>19</td><td>8</td><td>Menor_2.9</td></tr><tr><td>3191</td><td>3-Feb-19</td><td>2</td><td>3</td><td>1057310</td><td>3</td><td>9</td><td>Menor_2.9</td></tr><tr><td>3192</td><td>3-Feb-19</td><td>6</td><td>4</td><td>2439640</td><td>33</td><td>9</td><td>Menor_2.9</td></tr><tr><td>3193</td><td>3-Apr-19</td><td>5</td><td>2</td><td>2019120</td><td>42</td><td>6</td><td>Menor_2.9</td></tr><tr><td>3194</td><td>3-Apr-19</td><td>1</td><td>4</td><td>397606</td><td>19</td><td>9</td><td>Menor_2.9</td></tr><tr><td>3195</td><td>3-Apr-19</td><td>4</td><td>1</td><td>1109075</td><td>27</td><td>10</td><td>Menor_2.9</td></tr><tr><td>3196</td><td>3-Apr-19</td><td>4</td><td>2</td><td>2075632</td><td>5</td><td>9</td><td>Menor_2.9</td></tr><tr><td>3197</td><td>3-Apr-19</td><td>1</td><td>1</td><td>2262708</td><td>21</td><td>6</td><td>Menor_2.9</td></tr><tr><td>3198</td><td>3-May-19</td><td>6</td><td>2</td><td>1684340</td><td>40</td><td>1</td><td>Menor_2.9</td></tr><tr><td>3199</td><td>3-May-19</td><td>3</td><td>3</td><td>1859220</td><td>41</td><td>9</td><td>Menor_2.9</td></tr><tr><td>3200</td><td>3-May-19</td><td>4</td><td>3</td><td>181192</td><td>30</td><td>3</td><td>Menor_2.9</td></tr><tr><td>3201</td><td>3-Jun-19</td><td>1</td><td>2</td><td>849462</td><td>43</td><td>8</td><td>Menor_2.9</td></tr><tr><td>3202</td><td>3-Jun-19</td><td>3</td><td>4</td><td>1360966</td><td>19</td><td>4</td><td>Menor_2.9</td></tr><tr><td>3203</td><td>3-Jun-19</td><td>4</td><td>3</td><td>1694763</td><td>15</td><td>7</td><td>Menor_2.9</td></tr><tr><td>3204</td><td>3-Jun-19</td><td>1</td><td>1</td><td>350872</td><td>1</td><td>5</td><td>Menor_2.9</td></tr><tr><td>3205</td><td>3-Jul-19</td><td>4</td><td>2</td><td>870837</td><td>10</td><td>8</td><td>Menor_2.9</td></tr><tr><td>3206</td><td>3-Aug-19</td><td>1</td><td>1</td><td>1622790</td><td>22</td><td>9</td><td>Menor_2.9</td></tr><tr><td>3207</td><td>3-Aug-19</td><td>3</td><td>1</td><td>1195474</td><td>3</td><td>8</td><td>Menor_2.9</td></tr><tr><td>3208</td><td>3-Aug-19</td><td>1</td><td>3</td><td>1083261</td><td>23</td><td>8</td><td>Menor_2.9</td></tr><tr><td>3209</td><td>3-Sep-19</td><td>4</td><td>1</td><td>918722</td><td>13</td><td>2</td><td>Menor_2.9</td></tr><tr><td>3210</td><td>3-Sep-19</td><td>2</td><td>3</td><td>997968</td><td>45</td><td>7</td><td>Menor_2.9</td></tr><tr><td>3211</td><td>3-Sep-19</td><td>2</td><td>2</td><td>601306</td><td>45</td><td>8</td><td>Menor_2.9</td></tr><tr><td>3212</td><td>3-Oct-19</td><td>2</td><td>1</td><td>425173</td><td>17</td><td>1</td><td>Menor_2.9</td></tr><tr><td>3213</td><td>3-Nov-19</td><td>4</td><td>4</td><td>503871</td><td>26</td><td>3</td><td>Menor_2.9</td></tr><tr><td>3214</td><td>3-Nov-19</td><td>4</td><td>3</td><td>1607588</td><td>38</td><td>10</td><td>Menor_2.9</td></tr><tr><td>3215</td><td>3-Nov-19</td><td>5</td><td>3</td><td>522912</td><td>23</td><td>8</td><td>Menor_2.9</td></tr><tr><td>3216</td><td>3-Nov-19</td><td>4</td><td>1</td><td>319347</td><td>45</td><td>5</td><td>Menor_2.9</td></tr><tr><td>3217</td><td>3-Nov-19</td><td>5</td><td>2</td><td>1020257</td><td>33</td><td>9</td><td>Menor_2.9</td></tr><tr><td>3218</td><td>3-Nov-19</td><td>6</td><td>3</td><td>812913</td><td>18</td><td>10</td><td>Menor_2.9</td></tr><tr><td>3219</td><td>3-Dec-19</td><td>3</td><td>4</td><td>905920</td><td>43</td><td>3</td><td>Menor_2.9</td></tr><tr><td>3220</td><td>3-Dec-19</td><td>3</td><td>1</td><td>905532</td><td>21</td><td>6</td><td>Menor_2.9</td></tr><tr><td>3221</td><td>13-Mar-19</td><td>2</td><td>1</td><td>1134840</td><td>22</td><td>4</td><td>Menor_2.9</td></tr><tr><td>3222</td><td>13-Mar-19</td><td>1</td><td>2</td><td>1034034</td><td>47</td><td>4</td><td>Menor_2.9</td></tr><tr><td>3223</td><td>13-Mar-19</td><td>5</td><td>1</td><td>949060</td><td>23</td><td>1</td><td>Menor_2.9</td></tr><tr><td>3224</td><td>13-Mar-19</td><td>5</td><td>1</td><td>1242624</td><td>12</td><td>3</td><td>Menor_2.9</td></tr><tr><td>3225</td><td>13-Mar-19</td><td>7</td><td>3</td><td>1456487</td><td>10</td><td>5</td><td>Menor_2.9</td></tr><tr><td>3226</td><td>13-Mar-19</td><td>2</td><td>3</td><td>1128390</td><td>43</td><td>2</td><td>Menor_2.9</td></tr><tr><td>3227</td><td>14-Mar-19</td><td>4</td><td>3</td><td>720576</td><td>6</td><td>2</td><td>Menor_2.9</td></tr><tr><td>3228</td><td>14-Mar-19</td><td>6</td><td>3</td><td>325420</td><td>23</td><td>3</td><td>Menor_2.9</td></tr><tr><td>3229</td><td>14-Mar-19</td><td>2</td><td>3</td><td>1194342</td><td>12</td><td>3</td><td>Menor_2.9</td></tr><tr><td>3230</td><td>14-Mar-19</td><td>4</td><td>4</td><td>476784</td><td>7</td><td>3</td><td>Menor_2.9</td></tr><tr><td>3231</td><td>15-Mar-19</td><td>3</td><td>4</td><td>520672</td><td>44</td><td>4</td><td>Menor_2.9</td></tr><tr><td>3232</td><td>15-Mar-19</td><td>5</td><td>3</td><td>306020</td><td>1</td><td>10</td><td>Menor_2.9</td></tr><tr><td>3233</td><td>16-Mar-19</td><td>3</td><td>4</td><td>713680</td><td>36</td><td>4</td><td>Menor_2.9</td></tr><tr><td>3234</td><td>16-Mar-19</td><td>5</td><td>2</td><td>763983</td><td>30</td><td>4</td><td>Menor_2.9</td></tr><tr><td>3235</td><td>16-Mar-19</td><td>3</td><td>3</td><td>347776</td><td>34</td><td>8</td><td>Menor_2.9</td></tr><tr><td>3236</td><td>17-Mar-19</td><td>4</td><td>2</td><td>2765240</td><td>45</td><td>5</td><td>Menor_2.9</td></tr><tr><td>3237</td><td>17-Mar-19</td><td>3</td><td>1</td><td>470118</td><td>22</td><td>4</td><td>Menor_2.9</td></tr><tr><td>3238</td><td>17-Mar-19</td><td>4</td><td>1</td><td>726264</td><td>3</td><td>7</td><td>Menor_2.9</td></tr><tr><td>3239</td><td>17-Mar-19</td><td>2</td><td>4</td><td>1056714</td><td>43</td><td>7</td><td>Menor_2.9</td></tr><tr><td>3240</td><td>18-Mar-19</td><td>3</td><td>3</td><td>774792</td><td>31</td><td>9</td><td>Menor_2.9</td></tr><tr><td>3241</td><td>18-Mar-19</td><td>5</td><td>3</td><td>555013</td><td>23</td><td>7</td><td>Menor_2.9</td></tr><tr><td>3242</td><td>18-Mar-19</td><td>4</td><td>4</td><td>586920</td><td>19</td><td>4</td><td>Menor_2.9</td></tr><tr><td>3243</td><td>19-Mar-19</td><td>4</td><td>2</td><td>1096470</td><td>47</td><td>9</td><td>Menor_2.9</td></tr><tr><td>3244</td><td>19-Mar-19</td><td>6</td><td>1</td><td>1364690</td><td>6</td><td>7</td><td>Menor_2.9</td></tr><tr><td>3245</td><td>19-Mar-19</td><td>5</td><td>4</td><td>1800729</td><td>2</td><td>7</td><td>Menor_2.9</td></tr><tr><td>3246</td><td>20-Mar-19</td><td>1</td><td>4</td><td>1035648</td><td>26</td><td>1</td><td>Menor_2.9</td></tr><tr><td>3247</td><td>20-Mar-19</td><td>3</td><td>4</td><td>940310</td><td>2</td><td>6</td><td>Menor_2.9</td></tr><tr><td>3248</td><td>20-Mar-19</td><td>6</td><td>4</td><td>1298025</td><td>27</td><td>10</td><td>Menor_2.9</td></tr><tr><td>3249</td><td>20-Mar-19</td><td>4</td><td>3</td><td>192290</td><td>31</td><td>9</td><td>Menor_2.9</td></tr><tr><td>3250</td><td>20-Mar-19</td><td>4</td><td>3</td><td>1202811</td><td>22</td><td>7</td><td>Menor_2.9</td></tr><tr><td>3251</td><td>21-Mar-19</td><td>1</td><td>2</td><td>366780</td><td>1</td><td>8</td><td>Menor_2.9</td></tr><tr><td>3252</td><td>21-Mar-19</td><td>2</td><td>1</td><td>1966615</td><td>31</td><td>6</td><td>Menor_2.9</td></tr><tr><td>3253</td><td>21-Mar-19</td><td>4</td><td>2</td><td>1389072</td><td>46</td><td>8</td><td>Menor_2.9</td></tr><tr><td>3254</td><td>22-Mar-19</td><td>7</td><td>2</td><td>495093</td><td>5</td><td>6</td><td>Menor_2.9</td></tr><tr><td>3255</td><td>23-Mar-19</td><td>3</td><td>2</td><td>1194726</td><td>49</td><td>8</td><td>Menor_2.9</td></tr><tr><td>3256</td><td>23-Mar-19</td><td>6</td><td>2</td><td>2010960</td><td>34</td><td>1</td><td>Menor_2.9</td></tr><tr><td>3257</td><td>23-Mar-19</td><td>4</td><td>2</td><td>912256</td><td>7</td><td>2</td><td>Menor_2.9</td></tr><tr><td>3258</td><td>24-Mar-19</td><td>2</td><td>4</td><td>777868</td><td>3</td><td>2</td><td>Menor_2.9</td></tr><tr><td>3259</td><td>24-Mar-19</td><td>5</td><td>1</td><td>1114746</td><td>42</td><td>6</td><td>Menor_2.9</td></tr><tr><td>3260</td><td>24-Mar-19</td><td>4</td><td>1</td><td>1028676</td><td>32</td><td>1</td><td>Menor_2.9</td></tr><tr><td>3261</td><td>24-Mar-19</td><td>5</td><td>1</td><td>1674794</td><td>35</td><td>5</td><td>Menor_2.9</td></tr><tr><td>3262</td><td>25-Mar-19</td><td>4</td><td>3</td><td>1608903</td><td>38</td><td>9</td><td>Menor_2.9</td></tr><tr><td>3263</td><td>26-Mar-19</td><td>4</td><td>4</td><td>1630569</td><td>2</td><td>1</td><td>Menor_2.9</td></tr><tr><td>3264</td><td>26-Mar-19</td><td>2</td><td>3</td><td>1475952</td><td>31</td><td>4</td><td>Menor_2.9</td></tr><tr><td>3265</td><td>27-Mar-19</td><td>1</td><td>2</td><td>393057</td><td>23</td><td>7</td><td>Menor_2.9</td></tr><tr><td>3266</td><td>27-Mar-19</td><td>4</td><td>3</td><td>1925935</td><td>22</td><td>3</td><td>Menor_2.9</td></tr><tr><td>3267</td><td>28-Mar-19</td><td>4</td><td>4</td><td>1682346</td><td>41</td><td>9</td><td>Menor_2.9</td></tr><tr><td>3268</td><td>29-Mar-19</td><td>5</td><td>4</td><td>2908500</td><td>43</td><td>10</td><td>Mayor_2.9</td></tr><tr><td>3269</td><td>29-Mar-19</td><td>4</td><td>3</td><td>1178610</td><td>28</td><td>3</td><td>Menor_2.9</td></tr><tr><td>3270</td><td>29-Mar-19</td><td>4</td><td>3</td><td>622909</td><td>9</td><td>6</td><td>Menor_2.9</td></tr><tr><td>3271</td><td>30-Mar-19</td><td>1</td><td>3</td><td>1056839</td><td>37</td><td>1</td><td>Menor_2.9</td></tr><tr><td>3272</td><td>30-Mar-19</td><td>3</td><td>3</td><td>1656364</td><td>6</td><td>7</td><td>Menor_2.9</td></tr><tr><td>3273</td><td>30-Mar-19</td><td>2</td><td>2</td><td>739872</td><td>24</td><td>9</td><td>Menor_2.9</td></tr><tr><td>3274</td><td>30-Mar-19</td><td>2</td><td>1</td><td>898209</td><td>16</td><td>5</td><td>Menor_2.9</td></tr><tr><td>3275</td><td>31-Mar-19</td><td>4</td><td>4</td><td>417564</td><td>9</td><td>1</td><td>Menor_2.9</td></tr><tr><td>3276</td><td>31-Mar-19</td><td>3</td><td>2</td><td>591004</td><td>1</td><td>6</td><td>Menor_2.9</td></tr><tr><td>3277</td><td>4-Jan-19</td><td>1</td><td>1</td><td>1802156</td><td>40</td><td>3</td><td>Menor_2.9</td></tr><tr><td>3278</td><td>4-Feb-19</td><td>3</td><td>4</td><td>725474</td><td>6</td><td>6</td><td>Menor_2.9</td></tr><tr><td>3279</td><td>4-Feb-19</td><td>3</td><td>1</td><td>845640</td><td>15</td><td>4</td><td>Menor_2.9</td></tr><tr><td>3280</td><td>4-Mar-19</td><td>5</td><td>3</td><td>761536</td><td>41</td><td>9</td><td>Menor_2.9</td></tr><tr><td>3281</td><td>4-Mar-19</td><td>4</td><td>2</td><td>2336340</td><td>19</td><td>7</td><td>Menor_2.9</td></tr><tr><td>3282</td><td>4-Mar-19</td><td>1</td><td>4</td><td>1296900</td><td>44</td><td>8</td><td>Menor_2.9</td></tr><tr><td>3283</td><td>4-Apr-19</td><td>3</td><td>2</td><td>2384334</td><td>5</td><td>7</td><td>Menor_2.9</td></tr><tr><td>3284</td><td>4-Apr-19</td><td>2</td><td>1</td><td>1517292</td><td>38</td><td>3</td><td>Menor_2.9</td></tr><tr><td>3285</td><td>4-Apr-19</td><td>4</td><td>3</td><td>631057</td><td>33</td><td>6</td><td>Menor_2.9</td></tr><tr><td>3286</td><td>4-Apr-19</td><td>4</td><td>4</td><td>2490587</td><td>4</td><td>4</td><td>Menor_2.9</td></tr><tr><td>3287</td><td>4-May-19</td><td>1</td><td>3</td><td>443460</td><td>7</td><td>7</td><td>Menor_2.9</td></tr><tr><td>3288</td><td>4-Jun-19</td><td>2</td><td>4</td><td>2065357</td><td>45</td><td>7</td><td>Menor_2.9</td></tr><tr><td>3289</td><td>4-Jun-19</td><td>1</td><td>1</td><td>2914416</td><td>13</td><td>8</td><td>Mayor_2.9</td></tr><tr><td>3290</td><td>4-Jun-19</td><td>5</td><td>1</td><td>1147000</td><td>9</td><td>7</td><td>Menor_2.9</td></tr><tr><td>3291</td><td>4-Jul-19</td><td>6</td><td>1</td><td>1567834</td><td>7</td><td>9</td><td>Menor_2.9</td></tr><tr><td>3292</td><td>4-Jul-19</td><td>3</td><td>3</td><td>787400</td><td>23</td><td>1</td><td>Menor_2.9</td></tr><tr><td>3293</td><td>4-Jul-19</td><td>2</td><td>2</td><td>1028159</td><td>39</td><td>7</td><td>Menor_2.9</td></tr><tr><td>3294</td><td>4-Jul-19</td><td>6</td><td>2</td><td>818176</td><td>17</td><td>4</td><td>Menor_2.9</td></tr><tr><td>3295</td><td>4-Aug-19</td><td>1</td><td>2</td><td>1088181</td><td>38</td><td>3</td><td>Menor_2.9</td></tr><tr><td>3296</td><td>4-Aug-19</td><td>5</td><td>4</td><td>414829</td><td>24</td><td>3</td><td>Menor_2.9</td></tr><tr><td>3297</td><td>4-Aug-19</td><td>4</td><td>1</td><td>1497132</td><td>5</td><td>6</td><td>Menor_2.9</td></tr><tr><td>3298</td><td>4-Sep-19</td><td>4</td><td>3</td><td>2689434</td><td>28</td><td>1</td><td>Menor_2.9</td></tr><tr><td>3299</td><td>4-Sep-19</td><td>1</td><td>2</td><td>1224850</td><td>42</td><td>5</td><td>Menor_2.9</td></tr><tr><td>3300</td><td>4-Sep-19</td><td>2</td><td>2</td><td>881868</td><td>17</td><td>7</td><td>Menor_2.9</td></tr><tr><td>3301</td><td>4-Sep-19</td><td>5</td><td>1</td><td>448065</td><td>41</td><td>9</td><td>Menor_2.9</td></tr><tr><td>3302</td><td>4-Sep-19</td><td>5</td><td>3</td><td>2179125</td><td>46</td><td>8</td><td>Menor_2.9</td></tr><tr><td>3303</td><td>4-Sep-19</td><td>2</td><td>4</td><td>916229</td><td>10</td><td>1</td><td>Menor_2.9</td></tr><tr><td>3304</td><td>4-Sep-19</td><td>6</td><td>2</td><td>1270400</td><td>11</td><td>3</td><td>Menor_2.9</td></tr><tr><td>3305</td><td>4-Oct-19</td><td>5</td><td>3</td><td>1026508</td><td>9</td><td>6</td><td>Menor_2.9</td></tr><tr><td>3306</td><td>4-Nov-19</td><td>2</td><td>1</td><td>1760000</td><td>33</td><td>5</td><td>Menor_2.9</td></tr><tr><td>3307</td><td>4-Nov-19</td><td>1</td><td>2</td><td>1533077</td><td>34</td><td>4</td><td>Menor_2.9</td></tr><tr><td>3308</td><td>13-Apr-19</td><td>2</td><td>3</td><td>1180036</td><td>27</td><td>6</td><td>Menor_2.9</td></tr><tr><td>3309</td><td>13-Apr-19</td><td>6</td><td>3</td><td>760620</td><td>39</td><td>9</td><td>Menor_2.9</td></tr><tr><td>3310</td><td>13-Apr-19</td><td>1</td><td>3</td><td>825430</td><td>15</td><td>5</td><td>Menor_2.9</td></tr><tr><td>3311</td><td>14-Apr-19</td><td>4</td><td>3</td><td>830830</td><td>2</td><td>9</td><td>Menor_2.9</td></tr><tr><td>3312</td><td>14-Apr-19</td><td>5</td><td>3</td><td>2129576</td><td>27</td><td>4</td><td>Menor_2.9</td></tr><tr><td>3313</td><td>15-Apr-19</td><td>1</td><td>3</td><td>1297780</td><td>21</td><td>6</td><td>Menor_2.9</td></tr><tr><td>3314</td><td>15-Apr-19</td><td>4</td><td>4</td><td>1808512</td><td>45</td><td>7</td><td>Menor_2.9</td></tr><tr><td>3315</td><td>15-Apr-19</td><td>5</td><td>3</td><td>1386892</td><td>23</td><td>2</td><td>Menor_2.9</td></tr><tr><td>3316</td><td>16-Apr-19</td><td>3</td><td>4</td><td>1063902</td><td>10</td><td>2</td><td>Menor_2.9</td></tr><tr><td>3317</td><td>17-Apr-19</td><td>4</td><td>2</td><td>1804088</td><td>9</td><td>7</td><td>Menor_2.9</td></tr><tr><td>3318</td><td>18-Apr-19</td><td>3</td><td>1</td><td>394250</td><td>47</td><td>5</td><td>Menor_2.9</td></tr><tr><td>3319</td><td>18-Apr-19</td><td>5</td><td>3</td><td>540018</td><td>8</td><td>5</td><td>Menor_2.9</td></tr><tr><td>3320</td><td>19-Apr-19</td><td>3</td><td>3</td><td>293172</td><td>27</td><td>10</td><td>Menor_2.9</td></tr><tr><td>3321</td><td>20-Apr-19</td><td>1</td><td>4</td><td>607014</td><td>14</td><td>8</td><td>Menor_2.9</td></tr><tr><td>3322</td><td>20-Apr-19</td><td>2</td><td>4</td><td>180048</td><td>37</td><td>10</td><td>Menor_2.9</td></tr><tr><td>3323</td><td>20-Apr-19</td><td>6</td><td>4</td><td>2686236</td><td>19</td><td>8</td><td>Menor_2.9</td></tr><tr><td>3324</td><td>21-Apr-19</td><td>3</td><td>4</td><td>807432</td><td>2</td><td>3</td><td>Menor_2.9</td></tr><tr><td>3325</td><td>21-Apr-19</td><td>3</td><td>3</td><td>463424</td><td>9</td><td>7</td><td>Menor_2.9</td></tr><tr><td>3326</td><td>22-Apr-19</td><td>5</td><td>4</td><td>2078216</td><td>34</td><td>2</td><td>Menor_2.9</td></tr><tr><td>3327</td><td>22-Apr-19</td><td>4</td><td>4</td><td>999005</td><td>29</td><td>8</td><td>Menor_2.9</td></tr><tr><td>3328</td><td>23-Apr-19</td><td>4</td><td>1</td><td>355135</td><td>37</td><td>10</td><td>Menor_2.9</td></tr><tr><td>3329</td><td>23-Apr-19</td><td>6</td><td>4</td><td>2517504</td><td>3</td><td>10</td><td>Menor_2.9</td></tr><tr><td>3330</td><td>24-Apr-19</td><td>1</td><td>4</td><td>612568</td><td>10</td><td>8</td><td>Menor_2.9</td></tr><tr><td>3331</td><td>24-Apr-19</td><td>2</td><td>2</td><td>845790</td><td>36</td><td>5</td><td>Menor_2.9</td></tr><tr><td>3332</td><td>26-Apr-19</td><td>3</td><td>1</td><td>1031320</td><td>31</td><td>2</td><td>Menor_2.9</td></tr><tr><td>3333</td><td>26-Apr-19</td><td>5</td><td>1</td><td>1450644</td><td>4</td><td>4</td><td>Menor_2.9</td></tr><tr><td>3334</td><td>26-Apr-19</td><td>6</td><td>2</td><td>454080</td><td>19</td><td>1</td><td>Menor_2.9</td></tr><tr><td>3335</td><td>27-Apr-19</td><td>4</td><td>3</td><td>740688</td><td>31</td><td>1</td><td>Menor_2.9</td></tr><tr><td>3336</td><td>27-Apr-19</td><td>6</td><td>4</td><td>397408</td><td>44</td><td>4</td><td>Menor_2.9</td></tr><tr><td>3337</td><td>27-Apr-19</td><td>1</td><td>1</td><td>2140712</td><td>4</td><td>8</td><td>Menor_2.9</td></tr></table>"
                    },
                    "metadata": {}
                }
            ],
            "execution_count": 17
        },
        {
            "cell_type": "markdown",
            "source": [
                "## Parte 2. Uso de IF y CASE. Responder usando otra base de datos que se creará a continuación:"
            ],
            "metadata": {
                "language": "sql",
                "azdata_cell_guid": "7fcc3630-8bc0-4383-be50-70a2a1239de7"
            },
            "attachments": {}
        },
        {
            "cell_type": "markdown",
            "source": [
                "-  <span style=\"color: var(--cib-color-syntax-gray); font-family: Menlo, Monaco, Consolas, &quot;Droid Sans Mono&quot;, &quot;Courier New&quot;, monospace, &quot;Droid Sans Fallback&quot;; font-size: var(--cib-type-body1-font-size); font-weight: var(--cib-type-body1-font-weight); white-space-collapse: preserve;\">Crear la base de datos 'market' si no existe:</span>"
            ],
            "metadata": {
                "language": "sql",
                "azdata_cell_guid": "9368c130-8b6d-4705-8d7a-7680025d47d6"
            },
            "attachments": {}
        },
        {
            "cell_type": "code",
            "source": [
                "CREATE DATABASE IF NOT EXISTS market;\r\n",
                "USE market;"
            ],
            "metadata": {
                "language": "sql",
                "azdata_cell_guid": "45580aeb-3fe8-401c-9328-9621da5e71f6",
                "tags": [
                    "hide_input"
                ]
            },
            "outputs": [
                {
                    "output_type": "display_data",
                    "data": {
                        "text/html": "Commands completed successfully"
                    },
                    "metadata": {}
                },
                {
                    "output_type": "display_data",
                    "data": {
                        "text/html": "Commands completed successfully"
                    },
                    "metadata": {}
                },
                {
                    "output_type": "display_data",
                    "data": {
                        "text/html": "Total execution time: 00:00:00.009"
                    },
                    "metadata": {}
                }
            ],
            "execution_count": 18
        },
        {
            "cell_type": "markdown",
            "source": [
                "- Crear la tabla 'Ventas'"
            ],
            "metadata": {
                "language": "sql",
                "azdata_cell_guid": "0cf1937c-a5cc-4c6b-b9ef-cdb8252eeea0"
            },
            "attachments": {}
        },
        {
            "cell_type": "code",
            "source": [
                "CREATE TABLE Ventas (\r\n",
                "    ID INT AUTO_INCREMENT PRIMARY KEY,\r\n",
                "    Producto VARCHAR(100),\r\n",
                "    Cantidad INT,\r\n",
                "    Precio DECIMAL(10,2),\r\n",
                "    Descuento DECIMAL(5,2)\r\n",
                ");"
            ],
            "metadata": {
                "language": "sql",
                "azdata_cell_guid": "dcdfd2ab-9822-41b5-90d0-6e374e3f055b"
            },
            "outputs": [
                {
                    "output_type": "display_data",
                    "data": {
                        "text/html": "Commands completed successfully"
                    },
                    "metadata": {}
                },
                {
                    "output_type": "display_data",
                    "data": {
                        "text/html": "Total execution time: 00:00:00.049"
                    },
                    "metadata": {}
                }
            ],
            "execution_count": 19
        },
        {
            "cell_type": "markdown",
            "source": [
                "- Insertar 10 registros en 'Ventas'"
            ],
            "metadata": {
                "language": "sql",
                "azdata_cell_guid": "4f96d700-ff32-49b5-9da1-3ec376cfc611"
            },
            "attachments": {}
        },
        {
            "cell_type": "code",
            "source": [
                "INSERT INTO Ventas (Producto, Cantidad, Precio, Descuento) VALUES\r\n",
                "('Laptop', 1, 1200.00, 0),\r\n",
                "('Smartphone', 2, 300.00, 15.00),\r\n",
                "('Teclado', 5, 50.00, 5.00),\r\n",
                "('Monitor', 2, 200.00, 10.00),\r\n",
                "('Mouse', 10, 20.00, 2.00),\r\n",
                "('Cámara Web', 3, 70.00, 5.00),\r\n",
                "('Altavoces', 4, 35.00, 3.50),\r\n",
                "('Impresora', 1, 85.00, 0),\r\n",
                "('Router', 2, 60.00, 0),\r\n",
                "('Tablet', 5, 250.00, 12.50);"
            ],
            "metadata": {
                "language": "sql",
                "azdata_cell_guid": "9a9722ea-eb80-4751-91d9-de0c8c186ce8"
            },
            "outputs": [
                {
                    "output_type": "display_data",
                    "data": {
                        "text/html": "Commands completed successfully"
                    },
                    "metadata": {}
                },
                {
                    "output_type": "display_data",
                    "data": {
                        "text/html": "Total execution time: 00:00:00.015"
                    },
                    "metadata": {}
                }
            ],
            "execution_count": 20
        },
        {
            "cell_type": "markdown",
            "source": [
                "### _Una vez creada la base de datos y la tabla responder las siguientes preguntas usando IF y/o CASE_"
            ],
            "metadata": {
                "language": "sql",
                "azdata_cell_guid": "0c960f01-2b69-4e63-8692-b673f89ae3f9"
            },
            "attachments": {}
        },
        {
            "cell_type": "markdown",
            "source": [
                "**4.**  <span style=\"color: var(--cib-color-syntax-gray); font-family: Menlo, Monaco, Consolas, &quot;Droid Sans Mono&quot;, &quot;Courier New&quot;, monospace, &quot;Droid Sans Fallback&quot;; font-size: var(--cib-type-body1-font-size); white-space-collapse: preserve;\"><b>Aplicar descuento si la cantidad es mayor a 3</b></span>"
            ],
            "metadata": {
                "language": "sql",
                "azdata_cell_guid": "79da35c0-46e3-4a33-a24f-62d4883fbe3f"
            },
            "attachments": {}
        },
        {
            "cell_type": "code",
            "source": [
                "SELECT *,\r\n",
                "IF(Cantidad > 3,Precio-(Precio*0.2),Precio) AS Precio_rebajado\r\n",
                "FROM Ventas;"
            ],
            "metadata": {
                "language": "sql",
                "azdata_cell_guid": "24b4f8c8-9c50-45f6-b754-df5d54cf4bb9",
                "tags": []
            },
            "outputs": [
                {
                    "output_type": "display_data",
                    "data": {
                        "text/html": "(10 row(s) affected)"
                    },
                    "metadata": {}
                },
                {
                    "output_type": "display_data",
                    "data": {
                        "text/html": "Total execution time: 00:00:01.004"
                    },
                    "metadata": {}
                },
                {
                    "output_type": "execute_result",
                    "execution_count": 21,
                    "data": {
                        "application/vnd.dataresource+json": {
                            "schema": {
                                "fields": [
                                    {
                                        "name": "ID"
                                    },
                                    {
                                        "name": "Producto"
                                    },
                                    {
                                        "name": "Cantidad"
                                    },
                                    {
                                        "name": "Precio"
                                    },
                                    {
                                        "name": "Descuento"
                                    },
                                    {
                                        "name": "Precio_rebajado"
                                    }
                                ]
                            },
                            "data": [
                                {
                                    "ID": "1",
                                    "Producto": "Laptop",
                                    "Cantidad": "1",
                                    "Precio": "1200.00",
                                    "Descuento": "0.00",
                                    "Precio_rebajado": "1200.00"
                                },
                                {
                                    "ID": "2",
                                    "Producto": "Smartphone",
                                    "Cantidad": "2",
                                    "Precio": "300.00",
                                    "Descuento": "15.00",
                                    "Precio_rebajado": "300.00"
                                },
                                {
                                    "ID": "3",
                                    "Producto": "Teclado",
                                    "Cantidad": "5",
                                    "Precio": "50.00",
                                    "Descuento": "5.00",
                                    "Precio_rebajado": "40.000"
                                },
                                {
                                    "ID": "4",
                                    "Producto": "Monitor",
                                    "Cantidad": "2",
                                    "Precio": "200.00",
                                    "Descuento": "10.00",
                                    "Precio_rebajado": "200.00"
                                },
                                {
                                    "ID": "5",
                                    "Producto": "Mouse",
                                    "Cantidad": "10",
                                    "Precio": "20.00",
                                    "Descuento": "2.00",
                                    "Precio_rebajado": "16.000"
                                },
                                {
                                    "ID": "6",
                                    "Producto": "Cámara Web",
                                    "Cantidad": "3",
                                    "Precio": "70.00",
                                    "Descuento": "5.00",
                                    "Precio_rebajado": "70.00"
                                },
                                {
                                    "ID": "7",
                                    "Producto": "Altavoces",
                                    "Cantidad": "4",
                                    "Precio": "35.00",
                                    "Descuento": "3.50",
                                    "Precio_rebajado": "28.000"
                                },
                                {
                                    "ID": "8",
                                    "Producto": "Impresora",
                                    "Cantidad": "1",
                                    "Precio": "85.00",
                                    "Descuento": "0.00",
                                    "Precio_rebajado": "85.00"
                                },
                                {
                                    "ID": "9",
                                    "Producto": "Router",
                                    "Cantidad": "2",
                                    "Precio": "60.00",
                                    "Descuento": "0.00",
                                    "Precio_rebajado": "60.00"
                                },
                                {
                                    "ID": "10",
                                    "Producto": "Tablet",
                                    "Cantidad": "5",
                                    "Precio": "250.00",
                                    "Descuento": "12.50",
                                    "Precio_rebajado": "200.000"
                                }
                            ]
                        },
                        "text/html": "<table><tr><th>ID</th><th>Producto</th><th>Cantidad</th><th>Precio</th><th>Descuento</th><th>Precio_rebajado</th></tr><tr><td>1</td><td>Laptop</td><td>1</td><td>1200.00</td><td>0.00</td><td>1200.00</td></tr><tr><td>2</td><td>Smartphone</td><td>2</td><td>300.00</td><td>15.00</td><td>300.00</td></tr><tr><td>3</td><td>Teclado</td><td>5</td><td>50.00</td><td>5.00</td><td>40.000</td></tr><tr><td>4</td><td>Monitor</td><td>2</td><td>200.00</td><td>10.00</td><td>200.00</td></tr><tr><td>5</td><td>Mouse</td><td>10</td><td>20.00</td><td>2.00</td><td>16.000</td></tr><tr><td>6</td><td>Cámara Web</td><td>3</td><td>70.00</td><td>5.00</td><td>70.00</td></tr><tr><td>7</td><td>Altavoces</td><td>4</td><td>35.00</td><td>3.50</td><td>28.000</td></tr><tr><td>8</td><td>Impresora</td><td>1</td><td>85.00</td><td>0.00</td><td>85.00</td></tr><tr><td>9</td><td>Router</td><td>2</td><td>60.00</td><td>0.00</td><td>60.00</td></tr><tr><td>10</td><td>Tablet</td><td>5</td><td>250.00</td><td>12.50</td><td>200.000</td></tr></table>"
                    },
                    "metadata": {}
                }
            ],
            "execution_count": 21
        },
        {
            "cell_type": "markdown",
            "source": [
                "**5.** <span style=\"color: var(--cib-color-syntax-gray); font-family: Menlo, Monaco, Consolas, &quot;Droid Sans Mono&quot;, &quot;Courier New&quot;, monospace, &quot;Droid Sans Fallback&quot;; font-size: var(--cib-type-body1-font-size); white-space-collapse: preserve;\"><b>Clasificar productos como 'Caro' o 'Barato' basado en el precio. Establezca usted mismo el criterio de 'Caro' y 'Barato'</b></span>"
            ],
            "metadata": {
                "language": "sql",
                "azdata_cell_guid": "e7ad562d-09a6-4417-9b17-a2bd5a6f06cc"
            },
            "attachments": {}
        },
        {
            "cell_type": "code",
            "source": [
                "SELECT *,\r\n",
                "IF(Precio > 100, \"Caro\", \"Barato\") AS Clasificacion_precio\r\n",
                "FROM Ventas;"
            ],
            "metadata": {
                "language": "sql",
                "azdata_cell_guid": "5f0bd861-67c4-4688-8451-1cf5ce09b673"
            },
            "outputs": [
                {
                    "output_type": "display_data",
                    "data": {
                        "text/html": "(10 row(s) affected)"
                    },
                    "metadata": {}
                },
                {
                    "output_type": "display_data",
                    "data": {
                        "text/html": "Total execution time: 00:00:01.009"
                    },
                    "metadata": {}
                },
                {
                    "output_type": "execute_result",
                    "execution_count": 22,
                    "data": {
                        "application/vnd.dataresource+json": {
                            "schema": {
                                "fields": [
                                    {
                                        "name": "ID"
                                    },
                                    {
                                        "name": "Producto"
                                    },
                                    {
                                        "name": "Cantidad"
                                    },
                                    {
                                        "name": "Precio"
                                    },
                                    {
                                        "name": "Descuento"
                                    },
                                    {
                                        "name": "Clasificacion_precio"
                                    }
                                ]
                            },
                            "data": [
                                {
                                    "ID": "1",
                                    "Producto": "Laptop",
                                    "Cantidad": "1",
                                    "Precio": "1200.00",
                                    "Descuento": "0.00",
                                    "Clasificacion_precio": "Caro"
                                },
                                {
                                    "ID": "2",
                                    "Producto": "Smartphone",
                                    "Cantidad": "2",
                                    "Precio": "300.00",
                                    "Descuento": "15.00",
                                    "Clasificacion_precio": "Caro"
                                },
                                {
                                    "ID": "3",
                                    "Producto": "Teclado",
                                    "Cantidad": "5",
                                    "Precio": "50.00",
                                    "Descuento": "5.00",
                                    "Clasificacion_precio": "Barato"
                                },
                                {
                                    "ID": "4",
                                    "Producto": "Monitor",
                                    "Cantidad": "2",
                                    "Precio": "200.00",
                                    "Descuento": "10.00",
                                    "Clasificacion_precio": "Caro"
                                },
                                {
                                    "ID": "5",
                                    "Producto": "Mouse",
                                    "Cantidad": "10",
                                    "Precio": "20.00",
                                    "Descuento": "2.00",
                                    "Clasificacion_precio": "Barato"
                                },
                                {
                                    "ID": "6",
                                    "Producto": "Cámara Web",
                                    "Cantidad": "3",
                                    "Precio": "70.00",
                                    "Descuento": "5.00",
                                    "Clasificacion_precio": "Barato"
                                },
                                {
                                    "ID": "7",
                                    "Producto": "Altavoces",
                                    "Cantidad": "4",
                                    "Precio": "35.00",
                                    "Descuento": "3.50",
                                    "Clasificacion_precio": "Barato"
                                },
                                {
                                    "ID": "8",
                                    "Producto": "Impresora",
                                    "Cantidad": "1",
                                    "Precio": "85.00",
                                    "Descuento": "0.00",
                                    "Clasificacion_precio": "Barato"
                                },
                                {
                                    "ID": "9",
                                    "Producto": "Router",
                                    "Cantidad": "2",
                                    "Precio": "60.00",
                                    "Descuento": "0.00",
                                    "Clasificacion_precio": "Barato"
                                },
                                {
                                    "ID": "10",
                                    "Producto": "Tablet",
                                    "Cantidad": "5",
                                    "Precio": "250.00",
                                    "Descuento": "12.50",
                                    "Clasificacion_precio": "Caro"
                                }
                            ]
                        },
                        "text/html": "<table><tr><th>ID</th><th>Producto</th><th>Cantidad</th><th>Precio</th><th>Descuento</th><th>Clasificacion_precio</th></tr><tr><td>1</td><td>Laptop</td><td>1</td><td>1200.00</td><td>0.00</td><td>Caro</td></tr><tr><td>2</td><td>Smartphone</td><td>2</td><td>300.00</td><td>15.00</td><td>Caro</td></tr><tr><td>3</td><td>Teclado</td><td>5</td><td>50.00</td><td>5.00</td><td>Barato</td></tr><tr><td>4</td><td>Monitor</td><td>2</td><td>200.00</td><td>10.00</td><td>Caro</td></tr><tr><td>5</td><td>Mouse</td><td>10</td><td>20.00</td><td>2.00</td><td>Barato</td></tr><tr><td>6</td><td>Cámara Web</td><td>3</td><td>70.00</td><td>5.00</td><td>Barato</td></tr><tr><td>7</td><td>Altavoces</td><td>4</td><td>35.00</td><td>3.50</td><td>Barato</td></tr><tr><td>8</td><td>Impresora</td><td>1</td><td>85.00</td><td>0.00</td><td>Barato</td></tr><tr><td>9</td><td>Router</td><td>2</td><td>60.00</td><td>0.00</td><td>Barato</td></tr><tr><td>10</td><td>Tablet</td><td>5</td><td>250.00</td><td>12.50</td><td>Caro</td></tr></table>"
                    },
                    "metadata": {}
                }
            ],
            "execution_count": 22
        },
        {
            "cell_type": "markdown",
            "source": [
                "**6.** <span style=\"color: var(--cib-color-syntax-gray); font-family: Menlo, Monaco, Consolas, &quot;Droid Sans Mono&quot;, &quot;Courier New&quot;, monospace, &quot;Droid Sans Fallback&quot;; font-size: var(--cib-type-body1-font-size); white-space-collapse: preserve;\"><b>Calcular el total de ventas con y sin descuento</b></span>"
            ],
            "metadata": {
                "language": "sql",
                "azdata_cell_guid": "8f064a70-41a5-449e-8a46-052a2627d897"
            },
            "attachments": {}
        },
        {
            "cell_type": "code",
            "source": [
                "SELECT \r\n",
                "    Producto,\r\n",
                "    Precio_final,\r\n",
                "    Precio_final * Cantidad AS Suma_precio\r\n",
                "FROM (\r\n",
                "    SELECT \r\n",
                "        Producto,\r\n",
                "        Precio,\r\n",
                "        IF(Descuento > 0.00, Precio - ((Precio * Descuento) / 100), Precio) AS Precio_final,\r\n",
                "        Cantidad\r\n",
                "    FROM \r\n",
                "        Ventas\r\n",
                ") AS subquery\r\n",
                "GROUP BY \r\n",
                "    Producto, Precio_final, Cantidad;\r\n",
                "\r\n",
                "\r\n",
                ""
            ],
            "metadata": {
                "language": "sql",
                "azdata_cell_guid": "e8bd708c-dfad-460e-845a-0d41bba21746"
            },
            "outputs": [
                {
                    "output_type": "display_data",
                    "data": {
                        "text/html": "(10 row(s) affected)"
                    },
                    "metadata": {}
                },
                {
                    "output_type": "display_data",
                    "data": {
                        "text/html": "Total execution time: 00:00:01.007"
                    },
                    "metadata": {}
                },
                {
                    "output_type": "execute_result",
                    "execution_count": 27,
                    "data": {
                        "application/vnd.dataresource+json": {
                            "schema": {
                                "fields": [
                                    {
                                        "name": "Producto"
                                    },
                                    {
                                        "name": "Precio_final"
                                    },
                                    {
                                        "name": "Suma_precio"
                                    }
                                ]
                            },
                            "data": [
                                {
                                    "Producto": "Laptop",
                                    "Precio_final": "1200.00000000",
                                    "Suma_precio": "1200.00000000"
                                },
                                {
                                    "Producto": "Smartphone",
                                    "Precio_final": "255.00000000",
                                    "Suma_precio": "510.00000000"
                                },
                                {
                                    "Producto": "Teclado",
                                    "Precio_final": "47.50000000",
                                    "Suma_precio": "237.50000000"
                                },
                                {
                                    "Producto": "Monitor",
                                    "Precio_final": "180.00000000",
                                    "Suma_precio": "360.00000000"
                                },
                                {
                                    "Producto": "Mouse",
                                    "Precio_final": "19.60000000",
                                    "Suma_precio": "196.00000000"
                                },
                                {
                                    "Producto": "Cámara Web",
                                    "Precio_final": "66.50000000",
                                    "Suma_precio": "199.50000000"
                                },
                                {
                                    "Producto": "Altavoces",
                                    "Precio_final": "33.77500000",
                                    "Suma_precio": "135.10000000"
                                },
                                {
                                    "Producto": "Impresora",
                                    "Precio_final": "85.00000000",
                                    "Suma_precio": "85.00000000"
                                },
                                {
                                    "Producto": "Router",
                                    "Precio_final": "60.00000000",
                                    "Suma_precio": "120.00000000"
                                },
                                {
                                    "Producto": "Tablet",
                                    "Precio_final": "218.75000000",
                                    "Suma_precio": "1093.75000000"
                                }
                            ]
                        },
                        "text/html": "<table><tr><th>Producto</th><th>Precio_final</th><th>Suma_precio</th></tr><tr><td>Laptop</td><td>1200.00000000</td><td>1200.00000000</td></tr><tr><td>Smartphone</td><td>255.00000000</td><td>510.00000000</td></tr><tr><td>Teclado</td><td>47.50000000</td><td>237.50000000</td></tr><tr><td>Monitor</td><td>180.00000000</td><td>360.00000000</td></tr><tr><td>Mouse</td><td>19.60000000</td><td>196.00000000</td></tr><tr><td>Cámara Web</td><td>66.50000000</td><td>199.50000000</td></tr><tr><td>Altavoces</td><td>33.77500000</td><td>135.10000000</td></tr><tr><td>Impresora</td><td>85.00000000</td><td>85.00000000</td></tr><tr><td>Router</td><td>60.00000000</td><td>120.00000000</td></tr><tr><td>Tablet</td><td>218.75000000</td><td>1093.75000000</td></tr></table>"
                    },
                    "metadata": {}
                }
            ],
            "execution_count": 27
        },
        {
            "cell_type": "markdown",
            "source": [
                "**7.** <span style=\"color: var(--cib-color-syntax-gray); font-family: Menlo, Monaco, Consolas, &quot;Droid Sans Mono&quot;, &quot;Courier New&quot;, monospace, &quot;Droid Sans Fallback&quot;; font-size: var(--cib-type-body1-font-size); white-space-collapse: preserve;\"><b>Aplicar un descuento adicional del 10% a los productos que ya tienen descuento</b></span>"
            ],
            "metadata": {
                "language": "sql",
                "azdata_cell_guid": "7164efcb-8e88-4310-9408-e9bee7fdaf79"
            },
            "attachments": {}
        },
        {
            "cell_type": "code",
            "source": [
                "USE market;\r\n",
                "SELECT \r\n",
                "    Producto,\r\n",
                "    Precio,\r\n",
                "    IF(Descuento > 0.00, Precio - ((Precio * (Descuento + 10)) / 100), Precio) AS Precio_Final,\r\n",
                "    (IF(Descuento > 0.00, Precio - ((Precio * (Descuento + 10)) / 100), Precio) * Cantidad) AS Suma_precio_final\r\n",
                "FROM \r\n",
                "    ventas\r\n",
                "GROUP BY \r\n",
                "    Producto, Precio, Descuento, Cantidad;\r\n",
                ""
            ],
            "metadata": {
                "language": "sql",
                "azdata_cell_guid": "4373f678-0f79-4490-917d-76a7ffc410d8"
            },
            "outputs": [
                {
                    "output_type": "display_data",
                    "data": {
                        "text/html": "Commands completed successfully"
                    },
                    "metadata": {}
                },
                {
                    "output_type": "display_data",
                    "data": {
                        "text/html": "(10 row(s) affected)"
                    },
                    "metadata": {}
                },
                {
                    "output_type": "display_data",
                    "data": {
                        "text/html": "Total execution time: 00:00:01.017"
                    },
                    "metadata": {}
                },
                {
                    "output_type": "execute_result",
                    "execution_count": 8,
                    "data": {
                        "application/vnd.dataresource+json": {
                            "schema": {
                                "fields": [
                                    {
                                        "name": "Producto"
                                    },
                                    {
                                        "name": "Precio"
                                    },
                                    {
                                        "name": "Precio_Final"
                                    },
                                    {
                                        "name": "Suma_precio_final"
                                    }
                                ]
                            },
                            "data": [
                                {
                                    "Producto": "Laptop",
                                    "Precio": "1200.00",
                                    "Precio_Final": "1200.00000000",
                                    "Suma_precio_final": "1200.00000000"
                                },
                                {
                                    "Producto": "Smartphone",
                                    "Precio": "300.00",
                                    "Precio_Final": "225.00000000",
                                    "Suma_precio_final": "450.00000000"
                                },
                                {
                                    "Producto": "Teclado",
                                    "Precio": "50.00",
                                    "Precio_Final": "42.50000000",
                                    "Suma_precio_final": "212.50000000"
                                },
                                {
                                    "Producto": "Monitor",
                                    "Precio": "200.00",
                                    "Precio_Final": "160.00000000",
                                    "Suma_precio_final": "320.00000000"
                                },
                                {
                                    "Producto": "Mouse",
                                    "Precio": "20.00",
                                    "Precio_Final": "17.60000000",
                                    "Suma_precio_final": "176.00000000"
                                },
                                {
                                    "Producto": "Cámara Web",
                                    "Precio": "70.00",
                                    "Precio_Final": "59.50000000",
                                    "Suma_precio_final": "178.50000000"
                                },
                                {
                                    "Producto": "Altavoces",
                                    "Precio": "35.00",
                                    "Precio_Final": "30.27500000",
                                    "Suma_precio_final": "121.10000000"
                                },
                                {
                                    "Producto": "Impresora",
                                    "Precio": "85.00",
                                    "Precio_Final": "85.00000000",
                                    "Suma_precio_final": "85.00000000"
                                },
                                {
                                    "Producto": "Router",
                                    "Precio": "60.00",
                                    "Precio_Final": "60.00000000",
                                    "Suma_precio_final": "120.00000000"
                                },
                                {
                                    "Producto": "Tablet",
                                    "Precio": "250.00",
                                    "Precio_Final": "193.75000000",
                                    "Suma_precio_final": "968.75000000"
                                }
                            ]
                        },
                        "text/html": "<table><tr><th>Producto</th><th>Precio</th><th>Precio_Final</th><th>Suma_precio_final</th></tr><tr><td>Laptop</td><td>1200.00</td><td>1200.00000000</td><td>1200.00000000</td></tr><tr><td>Smartphone</td><td>300.00</td><td>225.00000000</td><td>450.00000000</td></tr><tr><td>Teclado</td><td>50.00</td><td>42.50000000</td><td>212.50000000</td></tr><tr><td>Monitor</td><td>200.00</td><td>160.00000000</td><td>320.00000000</td></tr><tr><td>Mouse</td><td>20.00</td><td>17.60000000</td><td>176.00000000</td></tr><tr><td>Cámara Web</td><td>70.00</td><td>59.50000000</td><td>178.50000000</td></tr><tr><td>Altavoces</td><td>35.00</td><td>30.27500000</td><td>121.10000000</td></tr><tr><td>Impresora</td><td>85.00</td><td>85.00000000</td><td>85.00000000</td></tr><tr><td>Router</td><td>60.00</td><td>60.00000000</td><td>120.00000000</td></tr><tr><td>Tablet</td><td>250.00</td><td>193.75000000</td><td>968.75000000</td></tr></table>"
                    },
                    "metadata": {}
                }
            ],
            "execution_count": 8
        },
        {
            "cell_type": "markdown",
            "source": [
                "**8.** <span style=\"color: var(--cib-color-syntax-gray); font-family: Menlo, Monaco, Consolas, &quot;Droid Sans Mono&quot;, &quot;Courier New&quot;, monospace, &quot;Droid Sans Fallback&quot;; font-size: var(--cib-type-body1-font-size); white-space-collapse: preserve;\"><b>Aumentar el precio de los productos en un 20% si se venden menos de 3 unidades</b></span>"
            ],
            "metadata": {
                "language": "sql",
                "azdata_cell_guid": "5bfac967-7f23-46f1-b9cb-771848bf797f"
            },
            "attachments": {}
        },
        {
            "cell_type": "code",
            "source": [
                "SELECT \r\n",
                "    ID,\r\n",
                "    Producto,\r\n",
                "    Precio,\r\n",
                "    Cantidad,\r\n",
                "    Descuento,\r\n",
                "    IF(Descuento > 0 AND Cantidad < 3, (Precio - ((Precio*(Descuento))/100)) * 1.2, \r\n",
                "        IF(Descuento = 0 AND Cantidad < 3, Precio * 1.2, \r\n",
                "            IF(Descuento >= 0 AND Cantidad > 3, (Precio - ((Precio*(Descuento))/100)), Precio * 1.2))) AS Estado\r\n",
                "FROM Ventas;"
            ],
            "metadata": {
                "language": "sql",
                "azdata_cell_guid": "df0d953a-dac0-43c5-9258-ef9f4e8a1f02"
            },
            "outputs": [
                {
                    "output_type": "display_data",
                    "data": {
                        "text/html": "(10 row(s) affected)"
                    },
                    "metadata": {}
                },
                {
                    "output_type": "display_data",
                    "data": {
                        "text/html": "Total execution time: 00:00:01.016"
                    },
                    "metadata": {}
                },
                {
                    "output_type": "execute_result",
                    "execution_count": 9,
                    "data": {
                        "application/vnd.dataresource+json": {
                            "schema": {
                                "fields": [
                                    {
                                        "name": "ID"
                                    },
                                    {
                                        "name": "Producto"
                                    },
                                    {
                                        "name": "Precio"
                                    },
                                    {
                                        "name": "Cantidad"
                                    },
                                    {
                                        "name": "Descuento"
                                    },
                                    {
                                        "name": "Estado"
                                    }
                                ]
                            },
                            "data": [
                                {
                                    "ID": "1",
                                    "Producto": "Laptop",
                                    "Precio": "1200.00",
                                    "Cantidad": "1",
                                    "Descuento": "0.00",
                                    "Estado": "1440.000"
                                },
                                {
                                    "ID": "2",
                                    "Producto": "Smartphone",
                                    "Precio": "300.00",
                                    "Cantidad": "2",
                                    "Descuento": "15.00",
                                    "Estado": "306.000000000"
                                },
                                {
                                    "ID": "3",
                                    "Producto": "Teclado",
                                    "Precio": "50.00",
                                    "Cantidad": "5",
                                    "Descuento": "5.00",
                                    "Estado": "47.50000000"
                                },
                                {
                                    "ID": "4",
                                    "Producto": "Monitor",
                                    "Precio": "200.00",
                                    "Cantidad": "2",
                                    "Descuento": "10.00",
                                    "Estado": "216.000000000"
                                },
                                {
                                    "ID": "5",
                                    "Producto": "Mouse",
                                    "Precio": "20.00",
                                    "Cantidad": "10",
                                    "Descuento": "2.00",
                                    "Estado": "19.60000000"
                                },
                                {
                                    "ID": "6",
                                    "Producto": "Cámara Web",
                                    "Precio": "70.00",
                                    "Cantidad": "3",
                                    "Descuento": "5.00",
                                    "Estado": "84.000"
                                },
                                {
                                    "ID": "7",
                                    "Producto": "Altavoces",
                                    "Precio": "35.00",
                                    "Cantidad": "4",
                                    "Descuento": "3.50",
                                    "Estado": "33.77500000"
                                },
                                {
                                    "ID": "8",
                                    "Producto": "Impresora",
                                    "Precio": "85.00",
                                    "Cantidad": "1",
                                    "Descuento": "0.00",
                                    "Estado": "102.000"
                                },
                                {
                                    "ID": "9",
                                    "Producto": "Router",
                                    "Precio": "60.00",
                                    "Cantidad": "2",
                                    "Descuento": "0.00",
                                    "Estado": "72.000"
                                },
                                {
                                    "ID": "10",
                                    "Producto": "Tablet",
                                    "Precio": "250.00",
                                    "Cantidad": "5",
                                    "Descuento": "12.50",
                                    "Estado": "218.75000000"
                                }
                            ]
                        },
                        "text/html": "<table><tr><th>ID</th><th>Producto</th><th>Precio</th><th>Cantidad</th><th>Descuento</th><th>Estado</th></tr><tr><td>1</td><td>Laptop</td><td>1200.00</td><td>1</td><td>0.00</td><td>1440.000</td></tr><tr><td>2</td><td>Smartphone</td><td>300.00</td><td>2</td><td>15.00</td><td>306.000000000</td></tr><tr><td>3</td><td>Teclado</td><td>50.00</td><td>5</td><td>5.00</td><td>47.50000000</td></tr><tr><td>4</td><td>Monitor</td><td>200.00</td><td>2</td><td>10.00</td><td>216.000000000</td></tr><tr><td>5</td><td>Mouse</td><td>20.00</td><td>10</td><td>2.00</td><td>19.60000000</td></tr><tr><td>6</td><td>Cámara Web</td><td>70.00</td><td>3</td><td>5.00</td><td>84.000</td></tr><tr><td>7</td><td>Altavoces</td><td>35.00</td><td>4</td><td>3.50</td><td>33.77500000</td></tr><tr><td>8</td><td>Impresora</td><td>85.00</td><td>1</td><td>0.00</td><td>102.000</td></tr><tr><td>9</td><td>Router</td><td>60.00</td><td>2</td><td>0.00</td><td>72.000</td></tr><tr><td>10</td><td>Tablet</td><td>250.00</td><td>5</td><td>12.50</td><td>218.75000000</td></tr></table>"
                    },
                    "metadata": {}
                }
            ],
            "execution_count": 9
        },
        {
            "cell_type": "markdown",
            "source": [
                "**9. <span style=\"color: var(--cib-color-syntax-gray); font-family: Menlo, Monaco, Consolas, &quot;Droid Sans Mono&quot;, &quot;Courier New&quot;, monospace, &quot;Droid Sans Fallback&quot;; font-size: var(--cib-type-body1-font-size); white-space-collapse: preserve;\">Asignar un rango de ventas basado en la cantidad vendida. Establezca usted mismo los criterios, por ejemplo: ALTO, MEDIO o BAJO según en valor que consideres.</span>**"
            ],
            "metadata": {
                "language": "sql",
                "azdata_cell_guid": "36319839-fff7-450e-b1dc-717faebe2db0"
            },
            "attachments": {}
        },
        {
            "cell_type": "code",
            "source": [
                "SELECT \r\n",
                "    ID,\r\n",
                "    Producto,\r\n",
                "    Precio,\r\n",
                "    Cantidad,\r\n",
                "    Descuento,\r\n",
                "    CASE \r\n",
                "        WHEN Cantidad < 5 THEN 'BAJO'\r\n",
                "        WHEN Cantidad >= 5 AND Cantidad < 10 THEN 'MEDIO'\r\n",
                "        WHEN Cantidad >=10 THEN 'ALTO'\r\n",
                "        ELSE 'Sin RANGO'\r\n",
                "    END AS Rango_Ventas\r\n",
                "FROM Ventas;"
            ],
            "metadata": {
                "language": "sql",
                "azdata_cell_guid": "b39682cb-6ae2-4a51-a354-73431fb87ee1"
            },
            "outputs": [
                {
                    "output_type": "display_data",
                    "data": {
                        "text/html": "(10 row(s) affected)"
                    },
                    "metadata": {}
                },
                {
                    "output_type": "display_data",
                    "data": {
                        "text/html": "Total execution time: 00:00:01.011"
                    },
                    "metadata": {}
                },
                {
                    "output_type": "execute_result",
                    "execution_count": 10,
                    "data": {
                        "application/vnd.dataresource+json": {
                            "schema": {
                                "fields": [
                                    {
                                        "name": "ID"
                                    },
                                    {
                                        "name": "Producto"
                                    },
                                    {
                                        "name": "Precio"
                                    },
                                    {
                                        "name": "Cantidad"
                                    },
                                    {
                                        "name": "Descuento"
                                    },
                                    {
                                        "name": "Rango_Ventas"
                                    }
                                ]
                            },
                            "data": [
                                {
                                    "ID": "1",
                                    "Producto": "Laptop",
                                    "Precio": "1200.00",
                                    "Cantidad": "1",
                                    "Descuento": "0.00",
                                    "Rango_Ventas": "BAJO"
                                },
                                {
                                    "ID": "2",
                                    "Producto": "Smartphone",
                                    "Precio": "300.00",
                                    "Cantidad": "2",
                                    "Descuento": "15.00",
                                    "Rango_Ventas": "BAJO"
                                },
                                {
                                    "ID": "3",
                                    "Producto": "Teclado",
                                    "Precio": "50.00",
                                    "Cantidad": "5",
                                    "Descuento": "5.00",
                                    "Rango_Ventas": "MEDIO"
                                },
                                {
                                    "ID": "4",
                                    "Producto": "Monitor",
                                    "Precio": "200.00",
                                    "Cantidad": "2",
                                    "Descuento": "10.00",
                                    "Rango_Ventas": "BAJO"
                                },
                                {
                                    "ID": "5",
                                    "Producto": "Mouse",
                                    "Precio": "20.00",
                                    "Cantidad": "10",
                                    "Descuento": "2.00",
                                    "Rango_Ventas": "ALTO"
                                },
                                {
                                    "ID": "6",
                                    "Producto": "Cámara Web",
                                    "Precio": "70.00",
                                    "Cantidad": "3",
                                    "Descuento": "5.00",
                                    "Rango_Ventas": "BAJO"
                                },
                                {
                                    "ID": "7",
                                    "Producto": "Altavoces",
                                    "Precio": "35.00",
                                    "Cantidad": "4",
                                    "Descuento": "3.50",
                                    "Rango_Ventas": "BAJO"
                                },
                                {
                                    "ID": "8",
                                    "Producto": "Impresora",
                                    "Precio": "85.00",
                                    "Cantidad": "1",
                                    "Descuento": "0.00",
                                    "Rango_Ventas": "BAJO"
                                },
                                {
                                    "ID": "9",
                                    "Producto": "Router",
                                    "Precio": "60.00",
                                    "Cantidad": "2",
                                    "Descuento": "0.00",
                                    "Rango_Ventas": "BAJO"
                                },
                                {
                                    "ID": "10",
                                    "Producto": "Tablet",
                                    "Precio": "250.00",
                                    "Cantidad": "5",
                                    "Descuento": "12.50",
                                    "Rango_Ventas": "MEDIO"
                                }
                            ]
                        },
                        "text/html": "<table><tr><th>ID</th><th>Producto</th><th>Precio</th><th>Cantidad</th><th>Descuento</th><th>Rango_Ventas</th></tr><tr><td>1</td><td>Laptop</td><td>1200.00</td><td>1</td><td>0.00</td><td>BAJO</td></tr><tr><td>2</td><td>Smartphone</td><td>300.00</td><td>2</td><td>15.00</td><td>BAJO</td></tr><tr><td>3</td><td>Teclado</td><td>50.00</td><td>5</td><td>5.00</td><td>MEDIO</td></tr><tr><td>4</td><td>Monitor</td><td>200.00</td><td>2</td><td>10.00</td><td>BAJO</td></tr><tr><td>5</td><td>Mouse</td><td>20.00</td><td>10</td><td>2.00</td><td>ALTO</td></tr><tr><td>6</td><td>Cámara Web</td><td>70.00</td><td>3</td><td>5.00</td><td>BAJO</td></tr><tr><td>7</td><td>Altavoces</td><td>35.00</td><td>4</td><td>3.50</td><td>BAJO</td></tr><tr><td>8</td><td>Impresora</td><td>85.00</td><td>1</td><td>0.00</td><td>BAJO</td></tr><tr><td>9</td><td>Router</td><td>60.00</td><td>2</td><td>0.00</td><td>BAJO</td></tr><tr><td>10</td><td>Tablet</td><td>250.00</td><td>5</td><td>12.50</td><td>MEDIO</td></tr></table>"
                    },
                    "metadata": {}
                }
            ],
            "execution_count": 10
        },
        {
            "cell_type": "markdown",
            "source": [
                "**10.** <span style=\"color: var(--cib-color-syntax-gray); font-family: Menlo, Monaco, Consolas, &quot;Droid Sans Mono&quot;, &quot;Courier New&quot;, monospace, &quot;Droid Sans Fallback&quot;; font-size: var(--cib-type-body1-font-size); white-space-collapse: preserve;\"><b>Determinar la categoría del producto basado en el precio</b></span>"
            ],
            "metadata": {
                "language": "sql",
                "azdata_cell_guid": "521ef5f6-5b1d-423f-b6ca-ab1db1c5a6ca"
            },
            "attachments": {}
        },
        {
            "cell_type": "code",
            "source": [
                "SELECT \r\n",
                "    ID,\r\n",
                "    Producto,\r\n",
                "    Precio,\r\n",
                "    Cantidad,\r\n",
                "    Descuento,\r\n",
                "    CASE \r\n",
                "        WHEN Precio < 200 THEN 'BAJA'\r\n",
                "        WHEN Precio >= 200 AND Precio < 1000 THEN 'MEDIA'\r\n",
                "        WHEN Precio >= 1000 THEN 'ALTA'\r\n",
                "        ELSE 'SIN CATEGORÍA'\r\n",
                "    END AS Categoria\r\n",
                "FROM Ventas;"
            ],
            "metadata": {
                "language": "sql",
                "azdata_cell_guid": "e6183f4d-d35d-437f-8027-0fad1e857e38"
            },
            "outputs": [
                {
                    "output_type": "display_data",
                    "data": {
                        "text/html": "(10 row(s) affected)"
                    },
                    "metadata": {}
                },
                {
                    "output_type": "display_data",
                    "data": {
                        "text/html": "Total execution time: 00:00:01.015"
                    },
                    "metadata": {}
                },
                {
                    "output_type": "execute_result",
                    "execution_count": 11,
                    "data": {
                        "application/vnd.dataresource+json": {
                            "schema": {
                                "fields": [
                                    {
                                        "name": "ID"
                                    },
                                    {
                                        "name": "Producto"
                                    },
                                    {
                                        "name": "Precio"
                                    },
                                    {
                                        "name": "Cantidad"
                                    },
                                    {
                                        "name": "Descuento"
                                    },
                                    {
                                        "name": "Categoria"
                                    }
                                ]
                            },
                            "data": [
                                {
                                    "ID": "1",
                                    "Producto": "Laptop",
                                    "Precio": "1200.00",
                                    "Cantidad": "1",
                                    "Descuento": "0.00",
                                    "Categoria": "ALTA"
                                },
                                {
                                    "ID": "2",
                                    "Producto": "Smartphone",
                                    "Precio": "300.00",
                                    "Cantidad": "2",
                                    "Descuento": "15.00",
                                    "Categoria": "MEDIA"
                                },
                                {
                                    "ID": "3",
                                    "Producto": "Teclado",
                                    "Precio": "50.00",
                                    "Cantidad": "5",
                                    "Descuento": "5.00",
                                    "Categoria": "BAJA"
                                },
                                {
                                    "ID": "4",
                                    "Producto": "Monitor",
                                    "Precio": "200.00",
                                    "Cantidad": "2",
                                    "Descuento": "10.00",
                                    "Categoria": "MEDIA"
                                },
                                {
                                    "ID": "5",
                                    "Producto": "Mouse",
                                    "Precio": "20.00",
                                    "Cantidad": "10",
                                    "Descuento": "2.00",
                                    "Categoria": "BAJA"
                                },
                                {
                                    "ID": "6",
                                    "Producto": "Cámara Web",
                                    "Precio": "70.00",
                                    "Cantidad": "3",
                                    "Descuento": "5.00",
                                    "Categoria": "BAJA"
                                },
                                {
                                    "ID": "7",
                                    "Producto": "Altavoces",
                                    "Precio": "35.00",
                                    "Cantidad": "4",
                                    "Descuento": "3.50",
                                    "Categoria": "BAJA"
                                },
                                {
                                    "ID": "8",
                                    "Producto": "Impresora",
                                    "Precio": "85.00",
                                    "Cantidad": "1",
                                    "Descuento": "0.00",
                                    "Categoria": "BAJA"
                                },
                                {
                                    "ID": "9",
                                    "Producto": "Router",
                                    "Precio": "60.00",
                                    "Cantidad": "2",
                                    "Descuento": "0.00",
                                    "Categoria": "BAJA"
                                },
                                {
                                    "ID": "10",
                                    "Producto": "Tablet",
                                    "Precio": "250.00",
                                    "Cantidad": "5",
                                    "Descuento": "12.50",
                                    "Categoria": "MEDIA"
                                }
                            ]
                        },
                        "text/html": "<table><tr><th>ID</th><th>Producto</th><th>Precio</th><th>Cantidad</th><th>Descuento</th><th>Categoria</th></tr><tr><td>1</td><td>Laptop</td><td>1200.00</td><td>1</td><td>0.00</td><td>ALTA</td></tr><tr><td>2</td><td>Smartphone</td><td>300.00</td><td>2</td><td>15.00</td><td>MEDIA</td></tr><tr><td>3</td><td>Teclado</td><td>50.00</td><td>5</td><td>5.00</td><td>BAJA</td></tr><tr><td>4</td><td>Monitor</td><td>200.00</td><td>2</td><td>10.00</td><td>MEDIA</td></tr><tr><td>5</td><td>Mouse</td><td>20.00</td><td>10</td><td>2.00</td><td>BAJA</td></tr><tr><td>6</td><td>Cámara Web</td><td>70.00</td><td>3</td><td>5.00</td><td>BAJA</td></tr><tr><td>7</td><td>Altavoces</td><td>35.00</td><td>4</td><td>3.50</td><td>BAJA</td></tr><tr><td>8</td><td>Impresora</td><td>85.00</td><td>1</td><td>0.00</td><td>BAJA</td></tr><tr><td>9</td><td>Router</td><td>60.00</td><td>2</td><td>0.00</td><td>BAJA</td></tr><tr><td>10</td><td>Tablet</td><td>250.00</td><td>5</td><td>12.50</td><td>MEDIA</td></tr></table>"
                    },
                    "metadata": {}
                }
            ],
            "execution_count": 11
        },
        {
            "cell_type": "markdown",
            "source": [
                "**11.**  <span style=\"color: var(--cib-color-syntax-gray); font-family: Menlo, Monaco, Consolas, &quot;Droid Sans Mono&quot;, &quot;Courier New&quot;, monospace, &quot;Droid Sans Fallback&quot;; font-size: var(--cib-type-body1-font-size); white-space-collapse: preserve;\"><b>Aplicar un impuesto adicional para productos caros</b></span>"
            ],
            "metadata": {
                "language": "sql",
                "azdata_cell_guid": "d40e15dc-862c-4116-8e01-19b00438c775"
            },
            "attachments": {}
        },
        {
            "cell_type": "code",
            "source": [
                "SELECT \r\n",
                "    ID,\r\n",
                "    Producto,\r\n",
                "    Cantidad,\r\n",
                "    Descuento,\r\n",
                "    Precio,\r\n",
                "    CASE \r\n",
                "        WHEN Precio >= 200 THEN Precio * 1.20\r\n",
                "        ELSE Precio\r\n",
                "    END AS Precio_Con_Impuesto\r\n",
                "FROM Ventas;"
            ],
            "metadata": {
                "language": "sql",
                "azdata_cell_guid": "b88e4243-79dc-4c96-9ff7-5a0c5c3e80e4"
            },
            "outputs": [
                {
                    "output_type": "display_data",
                    "data": {
                        "text/html": "(10 row(s) affected)"
                    },
                    "metadata": {}
                },
                {
                    "output_type": "display_data",
                    "data": {
                        "text/html": "Total execution time: 00:00:01.005"
                    },
                    "metadata": {}
                },
                {
                    "output_type": "execute_result",
                    "execution_count": 12,
                    "data": {
                        "application/vnd.dataresource+json": {
                            "schema": {
                                "fields": [
                                    {
                                        "name": "ID"
                                    },
                                    {
                                        "name": "Producto"
                                    },
                                    {
                                        "name": "Cantidad"
                                    },
                                    {
                                        "name": "Descuento"
                                    },
                                    {
                                        "name": "Precio"
                                    },
                                    {
                                        "name": "Precio_Con_Impuesto"
                                    }
                                ]
                            },
                            "data": [
                                {
                                    "ID": "1",
                                    "Producto": "Laptop",
                                    "Cantidad": "1",
                                    "Descuento": "0.00",
                                    "Precio": "1200.00",
                                    "Precio_Con_Impuesto": "1440.0000"
                                },
                                {
                                    "ID": "2",
                                    "Producto": "Smartphone",
                                    "Cantidad": "2",
                                    "Descuento": "15.00",
                                    "Precio": "300.00",
                                    "Precio_Con_Impuesto": "360.0000"
                                },
                                {
                                    "ID": "3",
                                    "Producto": "Teclado",
                                    "Cantidad": "5",
                                    "Descuento": "5.00",
                                    "Precio": "50.00",
                                    "Precio_Con_Impuesto": "50.00"
                                },
                                {
                                    "ID": "4",
                                    "Producto": "Monitor",
                                    "Cantidad": "2",
                                    "Descuento": "10.00",
                                    "Precio": "200.00",
                                    "Precio_Con_Impuesto": "240.0000"
                                },
                                {
                                    "ID": "5",
                                    "Producto": "Mouse",
                                    "Cantidad": "10",
                                    "Descuento": "2.00",
                                    "Precio": "20.00",
                                    "Precio_Con_Impuesto": "20.00"
                                },
                                {
                                    "ID": "6",
                                    "Producto": "Cámara Web",
                                    "Cantidad": "3",
                                    "Descuento": "5.00",
                                    "Precio": "70.00",
                                    "Precio_Con_Impuesto": "70.00"
                                },
                                {
                                    "ID": "7",
                                    "Producto": "Altavoces",
                                    "Cantidad": "4",
                                    "Descuento": "3.50",
                                    "Precio": "35.00",
                                    "Precio_Con_Impuesto": "35.00"
                                },
                                {
                                    "ID": "8",
                                    "Producto": "Impresora",
                                    "Cantidad": "1",
                                    "Descuento": "0.00",
                                    "Precio": "85.00",
                                    "Precio_Con_Impuesto": "85.00"
                                },
                                {
                                    "ID": "9",
                                    "Producto": "Router",
                                    "Cantidad": "2",
                                    "Descuento": "0.00",
                                    "Precio": "60.00",
                                    "Precio_Con_Impuesto": "60.00"
                                },
                                {
                                    "ID": "10",
                                    "Producto": "Tablet",
                                    "Cantidad": "5",
                                    "Descuento": "12.50",
                                    "Precio": "250.00",
                                    "Precio_Con_Impuesto": "300.0000"
                                }
                            ]
                        },
                        "text/html": "<table><tr><th>ID</th><th>Producto</th><th>Cantidad</th><th>Descuento</th><th>Precio</th><th>Precio_Con_Impuesto</th></tr><tr><td>1</td><td>Laptop</td><td>1</td><td>0.00</td><td>1200.00</td><td>1440.0000</td></tr><tr><td>2</td><td>Smartphone</td><td>2</td><td>15.00</td><td>300.00</td><td>360.0000</td></tr><tr><td>3</td><td>Teclado</td><td>5</td><td>5.00</td><td>50.00</td><td>50.00</td></tr><tr><td>4</td><td>Monitor</td><td>2</td><td>10.00</td><td>200.00</td><td>240.0000</td></tr><tr><td>5</td><td>Mouse</td><td>10</td><td>2.00</td><td>20.00</td><td>20.00</td></tr><tr><td>6</td><td>Cámara Web</td><td>3</td><td>5.00</td><td>70.00</td><td>70.00</td></tr><tr><td>7</td><td>Altavoces</td><td>4</td><td>3.50</td><td>35.00</td><td>35.00</td></tr><tr><td>8</td><td>Impresora</td><td>1</td><td>0.00</td><td>85.00</td><td>85.00</td></tr><tr><td>9</td><td>Router</td><td>2</td><td>0.00</td><td>60.00</td><td>60.00</td></tr><tr><td>10</td><td>Tablet</td><td>5</td><td>12.50</td><td>250.00</td><td>300.0000</td></tr></table>"
                    },
                    "metadata": {}
                }
            ],
            "execution_count": 12
        },
        {
            "cell_type": "markdown",
            "source": [
                "**12.** <span style=\"color: var(--cib-color-syntax-gray); font-family: Menlo, Monaco, Consolas, &quot;Droid Sans Mono&quot;, &quot;Courier New&quot;, monospace, &quot;Droid Sans Fallback&quot;; font-size: var(--cib-type-body1-font-size); white-space-collapse: preserve;\"><b>Asignar un nivel de stock basado en la cantidad. Establece tu mismo los criterios, por ejemplo: Sobrestock, stock adecuado, bajo stock.</b></span>"
            ],
            "metadata": {
                "language": "sql",
                "azdata_cell_guid": "fc74d4b7-9e5d-44bf-bb47-81eecf095707"
            },
            "attachments": {}
        },
        {
            "cell_type": "code",
            "source": [
                "SELECT \r\n",
                "    ID,\r\n",
                "    Producto,\r\n",
                "    Precio,\r\n",
                "    Cantidad,\r\n",
                "    Descuento,\r\n",
                "    CASE \r\n",
                "        WHEN Cantidad < 4 THEN 'BAJO'\r\n",
                "        WHEN Cantidad >= 4 AND Cantidad < 10 THEN 'NORMAL'\r\n",
                "        WHEN Cantidad >= 10 THEN 'ALTO'\r\n",
                "        ELSE 'SIN STOCK'\r\n",
                "    END AS Nivel_Stock\r\n",
                "FROM Ventas;"
            ],
            "metadata": {
                "language": "sql",
                "azdata_cell_guid": "d15ff687-2124-4e8d-969a-fa9455a68cd7"
            },
            "outputs": [
                {
                    "output_type": "display_data",
                    "data": {
                        "text/html": "(10 row(s) affected)"
                    },
                    "metadata": {}
                },
                {
                    "output_type": "display_data",
                    "data": {
                        "text/html": "Total execution time: 00:00:01.004"
                    },
                    "metadata": {}
                },
                {
                    "output_type": "execute_result",
                    "execution_count": 13,
                    "data": {
                        "application/vnd.dataresource+json": {
                            "schema": {
                                "fields": [
                                    {
                                        "name": "ID"
                                    },
                                    {
                                        "name": "Producto"
                                    },
                                    {
                                        "name": "Precio"
                                    },
                                    {
                                        "name": "Cantidad"
                                    },
                                    {
                                        "name": "Descuento"
                                    },
                                    {
                                        "name": "Nivel_Stock"
                                    }
                                ]
                            },
                            "data": [
                                {
                                    "ID": "1",
                                    "Producto": "Laptop",
                                    "Precio": "1200.00",
                                    "Cantidad": "1",
                                    "Descuento": "0.00",
                                    "Nivel_Stock": "BAJO"
                                },
                                {
                                    "ID": "2",
                                    "Producto": "Smartphone",
                                    "Precio": "300.00",
                                    "Cantidad": "2",
                                    "Descuento": "15.00",
                                    "Nivel_Stock": "BAJO"
                                },
                                {
                                    "ID": "3",
                                    "Producto": "Teclado",
                                    "Precio": "50.00",
                                    "Cantidad": "5",
                                    "Descuento": "5.00",
                                    "Nivel_Stock": "NORMAL"
                                },
                                {
                                    "ID": "4",
                                    "Producto": "Monitor",
                                    "Precio": "200.00",
                                    "Cantidad": "2",
                                    "Descuento": "10.00",
                                    "Nivel_Stock": "BAJO"
                                },
                                {
                                    "ID": "5",
                                    "Producto": "Mouse",
                                    "Precio": "20.00",
                                    "Cantidad": "10",
                                    "Descuento": "2.00",
                                    "Nivel_Stock": "ALTO"
                                },
                                {
                                    "ID": "6",
                                    "Producto": "Cámara Web",
                                    "Precio": "70.00",
                                    "Cantidad": "3",
                                    "Descuento": "5.00",
                                    "Nivel_Stock": "BAJO"
                                },
                                {
                                    "ID": "7",
                                    "Producto": "Altavoces",
                                    "Precio": "35.00",
                                    "Cantidad": "4",
                                    "Descuento": "3.50",
                                    "Nivel_Stock": "NORMAL"
                                },
                                {
                                    "ID": "8",
                                    "Producto": "Impresora",
                                    "Precio": "85.00",
                                    "Cantidad": "1",
                                    "Descuento": "0.00",
                                    "Nivel_Stock": "BAJO"
                                },
                                {
                                    "ID": "9",
                                    "Producto": "Router",
                                    "Precio": "60.00",
                                    "Cantidad": "2",
                                    "Descuento": "0.00",
                                    "Nivel_Stock": "BAJO"
                                },
                                {
                                    "ID": "10",
                                    "Producto": "Tablet",
                                    "Precio": "250.00",
                                    "Cantidad": "5",
                                    "Descuento": "12.50",
                                    "Nivel_Stock": "NORMAL"
                                }
                            ]
                        },
                        "text/html": "<table><tr><th>ID</th><th>Producto</th><th>Precio</th><th>Cantidad</th><th>Descuento</th><th>Nivel_Stock</th></tr><tr><td>1</td><td>Laptop</td><td>1200.00</td><td>1</td><td>0.00</td><td>BAJO</td></tr><tr><td>2</td><td>Smartphone</td><td>300.00</td><td>2</td><td>15.00</td><td>BAJO</td></tr><tr><td>3</td><td>Teclado</td><td>50.00</td><td>5</td><td>5.00</td><td>NORMAL</td></tr><tr><td>4</td><td>Monitor</td><td>200.00</td><td>2</td><td>10.00</td><td>BAJO</td></tr><tr><td>5</td><td>Mouse</td><td>20.00</td><td>10</td><td>2.00</td><td>ALTO</td></tr><tr><td>6</td><td>Cámara Web</td><td>70.00</td><td>3</td><td>5.00</td><td>BAJO</td></tr><tr><td>7</td><td>Altavoces</td><td>35.00</td><td>4</td><td>3.50</td><td>NORMAL</td></tr><tr><td>8</td><td>Impresora</td><td>85.00</td><td>1</td><td>0.00</td><td>BAJO</td></tr><tr><td>9</td><td>Router</td><td>60.00</td><td>2</td><td>0.00</td><td>BAJO</td></tr><tr><td>10</td><td>Tablet</td><td>250.00</td><td>5</td><td>12.50</td><td>NORMAL</td></tr></table>"
                    },
                    "metadata": {}
                }
            ],
            "execution_count": 13
        }
    ]
}