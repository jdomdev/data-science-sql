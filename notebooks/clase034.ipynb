{
    "metadata": {
        "kernelspec": {
            "name": "SQL",
            "display_name": "SQL",
            "language": "sql"
        },
        "language_info": {
            "name": "sql",
            "version": ""
        }
    },
    "nbformat_minor": 2,
    "nbformat": 4,
    "cells": [
        {
            "cell_type": "markdown",
            "source": [
                ""
            ],
            "metadata": {
                "azdata_cell_guid": "823220af-51a1-40db-a8f4-b5159ecbb450"
            }
        },
        {
            "cell_type": "code",
            "source": [
                ""
            ],
            "metadata": {
                "azdata_cell_guid": "bc53acbf-fb37-41b3-a485-b6e5e8aa59dd",
                "language": "sql"
            },
            "outputs": [],
            "execution_count": null
        }
    ]
}